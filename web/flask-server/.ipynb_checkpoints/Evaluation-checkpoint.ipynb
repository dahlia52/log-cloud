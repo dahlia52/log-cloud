{
  "nbformat": 4,
  "nbformat_minor": 0,
  "metadata": {
    "colab": {
      "provenance": []
    },
    "kernelspec": {
      "name": "python3",
      "display_name": "Python 3"
    },
    "language_info": {
      "name": "python"
    }
  },
  "cells": [
    {
      "cell_type": "markdown",
      "source": [
        "# Rouge"
      ],
      "metadata": {
        "id": "7j8YFQhdWobr"
      }
    },
    {
      "cell_type": "code",
      "execution_count": 1,
      "metadata": {
        "colab": {
          "base_uri": "https://localhost:8080/"
        },
        "id": "tP7WO3TRWkct",
        "outputId": "867bc906-fa37-4d41-f081-4105f6fae5ad"
      },
      "outputs": [
        {
          "output_type": "stream",
          "name": "stdout",
          "text": [
            "Collecting rouge\n",
            "  Downloading rouge-1.0.1-py3-none-any.whl (13 kB)\n",
            "Requirement already satisfied: six in /usr/local/lib/python3.10/dist-packages (from rouge) (1.16.0)\n",
            "Installing collected packages: rouge\n",
            "Successfully installed rouge-1.0.1\n"
          ]
        }
      ],
      "source": [
        "!pip install rouge"
      ]
    },
    {
      "cell_type": "code",
      "source": [
        "from rouge import Rouge\n",
        "rouge_score = Rouge()"
      ],
      "metadata": {
        "id": "HLxGuffwW1Fb"
      },
      "execution_count": 2,
      "outputs": []
    },
    {
      "cell_type": "code",
      "source": [
        "model ="
      ],
      "metadata": {
        "id": "17oH2cn4lo4u"
      },
      "execution_count": null,
      "outputs": []
    },
    {
      "cell_type": "code",
      "source": [
        "input_ids = torch.tensor(test_df['input_ids'][0]).unsqueeze(0).to(device)\n",
        "label_ids = torch.tensor(test_df['labels'][0]).unsqueeze(0).to(device)\n",
        "tag_ids = model.generate(input_ids = input_ids,\n",
        "                                    bos_token_id = model.config.bos_token_id,\n",
        "                                    eos_token_id = model.config.eos_token_id,\n",
        "                                    length_penalty = 2.0,\n",
        "                                    max_length = 50,\n",
        "                                    num_beams = 2)\n",
        "tag = tokenizer.decode(tag_ids[0], skip_special_tokens = True)\n",
        "label = tokenizer.decode(label_ids[0], skip_special_tokens = True)\n",
        "rouge_output = rouge_score.get_scores([tag], [label], avg = True)\n",
        "rouge_output"
      ],
      "metadata": {
        "id": "x2xkYboNXDNg"
      },
      "execution_count": null,
      "outputs": []
    },
    {
      "cell_type": "code",
      "source": [
        "from rouge import Rouge\n",
        "\n",
        "def calculate_rouge(hypothesis, reference):\n",
        "    rouge = Rouge()\n",
        "    scores = rouge.get_scores(hypothesis, reference)\n",
        "    return scores"
      ],
      "metadata": {
        "id": "LEwfxyb-nEBM"
      },
      "execution_count": null,
      "outputs": []
    },
    {
      "cell_type": "code",
      "source": [
        "from rouge import Rouge\n",
        "\n",
        "def calculate_rouge(hypothesis, reference):\n",
        "    rouge = Rouge()\n",
        "    scores = rouge.get_scores(hypothesis, reference)\n",
        "    return scores\n",
        "\n",
        "# 예시 데이터\n",
        "hypothesis_summary = \"This is a sample summary. It consists of multiple sentences. Each sentence provides important information.\"\n",
        "reference_summary = \"This is a reference summary. It contains multiple sentences that convey essential information.\"\n",
        "\n",
        "# Rouge Score 계산\n",
        "rouge_scores = calculate_rouge(hypothesis_summary, reference_summary)\n",
        "\n",
        "# 출력\n",
        "print(\"Rouge Scores:\")\n",
        "print(f\"ROUGE-1: {rouge_scores[0]['rouge-1']['f']}\")\n",
        "print(f\"ROUGE-2: {rouge_scores[0]['rouge-2']['f']}\")\n",
        "print(f\"ROUGE-L: {rouge_scores[0]['rouge-l']['f']}\")\n"
      ],
      "metadata": {
        "id": "rtNUzXwsYEtz"
      },
      "execution_count": null,
      "outputs": []
    },
    {
      "cell_type": "code",
      "source": [
        "model_out = \"나는 학교에 간다.\", \"오늘 뭐했지?\",\"하하하 웃기다\"]\n",
        "\n",
        "reference = [\"나는 어제 학교에 간다.\",\n",
        "             \"오늘 학교에서 뭐했지?\",\n",
        "             \"헤헤헤 웃기다\"]\n",
        "\n",
        "rouge_score.get_scores(model_out, reference, avg=True)"
      ],
      "metadata": {
        "colab": {
          "base_uri": "https://localhost:8080/"
        },
        "id": "Zz_m1HWkW1RF",
        "outputId": "94193f72-924b-48a8-e670-906eca836003"
      },
      "execution_count": 5,
      "outputs": [
        {
          "output_type": "execute_result",
          "data": {
            "text/plain": [
              "{'rouge-1': {'r': 0.6388888888888888,\n",
              "  'p': 0.8333333333333334,\n",
              "  'f': 0.7190476141482994},\n",
              " 'rouge-2': {'r': 0.1111111111111111,\n",
              "  'p': 0.16666666666666666,\n",
              "  'f': 0.13333333173333337},\n",
              " 'rouge-l': {'r': 0.6388888888888888,\n",
              "  'p': 0.8333333333333334,\n",
              "  'f': 0.7190476141482994}}"
            ]
          },
          "metadata": {},
          "execution_count": 5
        }
      ]
    },
    {
      "cell_type": "code",
      "source": [],
      "metadata": {
        "id": "9PScAanJXFgw"
      },
      "execution_count": null,
      "outputs": []
    }
  ]
}