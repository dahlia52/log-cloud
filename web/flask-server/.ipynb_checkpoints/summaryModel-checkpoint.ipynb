{
  "cells": [
    {
      "cell_type": "markdown",
      "metadata": {
        "id": "hJT1toPfSbmp"
      },
      "source": [
        "## Load Dataset"
      ]
    },
    {
      "cell_type": "code",
      "execution_count": null,
      "metadata": {
        "id": "1_FP0LYAXi-p"
      },
      "outputs": [],
      "source": [
        "import pandas as pd\n",
        "diary = pd.read_csv(\"diary_cleansing.csv\")"
      ]
    },
    {
      "cell_type": "code",
      "execution_count": null,
      "metadata": {
        "colab": {
          "base_uri": "https://localhost:8080/",
          "height": 293
        },
        "id": "N4nrpFzDXq16",
        "outputId": "6d969853-cd23-478b-924e-50adffdfbc6c"
      },
      "outputs": [
        {
          "data": {
            "text/html": [
              "<div>\n",
              "<style scoped>\n",
              "    .dataframe tbody tr th:only-of-type {\n",
              "        vertical-align: middle;\n",
              "    }\n",
              "\n",
              "    .dataframe tbody tr th {\n",
              "        vertical-align: top;\n",
              "    }\n",
              "\n",
              "    .dataframe thead th {\n",
              "        text-align: right;\n",
              "    }\n",
              "</style>\n",
              "<table border=\"1\" class=\"dataframe\">\n",
              "  <thead>\n",
              "    <tr style=\"text-align: right;\">\n",
              "      <th></th>\n",
              "      <th>diary</th>\n",
              "      <th>summary</th>\n",
              "      <th>hashtag</th>\n",
              "    </tr>\n",
              "  </thead>\n",
              "  <tbody>\n",
              "    <tr>\n",
              "      <th>0</th>\n",
              "      <td>아침 일찍 일어나서 운동복을 입고 운동을 시작했다.처음에는 조금 어색하고 귀찮은 감...</td>\n",
              "      <td>매일 규칙적인 운동 습관을 만들기 위해 노력한 하루였다. 다양한 운동을 시도하며 체...</td>\n",
              "      <td>#매일운동 #규칙적운동 #건강한삶 #체력향상 #운동습관</td>\n",
              "    </tr>\n",
              "    <tr>\n",
              "      <th>1</th>\n",
              "      <td>아침에는 건강한 식단으로 시작하기 위해 곡물과 채소가 풍부한 식사를 준비했다.신선한...</td>\n",
              "      <td>건강한 식습관을 채택하고 유지하기 위해 노력한 하루였다. 곡물과 채소를 중심으로 균...</td>\n",
              "      <td>#건강한식습관 #식단관리 #영양균형 #천천히식사 #건강한삶</td>\n",
              "    </tr>\n",
              "    <tr>\n",
              "      <th>2</th>\n",
              "      <td>언어 학습 앱을 다운로드하고 기초부터 차근차근 공부했다.알파벳과 발음부터 시작하여 ...</td>\n",
              "      <td>새로운 언어를 배우기 위해 꾸준한 학습과 실전 연습을 통해 언어 실력을 향상시키는 ...</td>\n",
              "      <td>#새로운언어배우기 #언어학습 #꾸준한노력 #언어실력향상 #자신감키우기</td>\n",
              "    </tr>\n",
              "    <tr>\n",
              "      <th>3</th>\n",
              "      <td>먼저, 관련 서적과 온라인 자료를 찾아 읽으며 기초 지식을 쌓았다.이해가 어려운 개...</td>\n",
              "      <td>새로운 기술이나 도메인에 대해 공부하여 전문성을 향상시키는 노력을 하루 동안 기록했다.</td>\n",
              "      <td>#전문성향상 #새로운기술공부 #지식습득 #실전경험 #꾸준한학습</td>\n",
              "    </tr>\n",
              "    <tr>\n",
              "      <th>4</th>\n",
              "      <td>일어나서부터 긴장과 설렘이 가득한 마음으로 시험장에 도착했어요.시험 시작 전에는 복...</td>\n",
              "      <td>오늘은 자격증 취득을 통해 전문가 레벨의 업무 능력을 갖추기 위한 시험을 보았어요....</td>\n",
              "      <td>#자격증취득 #전문가능력 #노력과학습 #자부심 #발전</td>\n",
              "    </tr>\n",
              "  </tbody>\n",
              "</table>\n",
              "</div>"
            ],
            "text/plain": [
              "                                               diary  \\\n",
              "0  아침 일찍 일어나서 운동복을 입고 운동을 시작했다.처음에는 조금 어색하고 귀찮은 감...   \n",
              "1  아침에는 건강한 식단으로 시작하기 위해 곡물과 채소가 풍부한 식사를 준비했다.신선한...   \n",
              "2  언어 학습 앱을 다운로드하고 기초부터 차근차근 공부했다.알파벳과 발음부터 시작하여 ...   \n",
              "3  먼저, 관련 서적과 온라인 자료를 찾아 읽으며 기초 지식을 쌓았다.이해가 어려운 개...   \n",
              "4  일어나서부터 긴장과 설렘이 가득한 마음으로 시험장에 도착했어요.시험 시작 전에는 복...   \n",
              "\n",
              "                                             summary  \\\n",
              "0  매일 규칙적인 운동 습관을 만들기 위해 노력한 하루였다. 다양한 운동을 시도하며 체...   \n",
              "1  건강한 식습관을 채택하고 유지하기 위해 노력한 하루였다. 곡물과 채소를 중심으로 균...   \n",
              "2  새로운 언어를 배우기 위해 꾸준한 학습과 실전 연습을 통해 언어 실력을 향상시키는 ...   \n",
              "3   새로운 기술이나 도메인에 대해 공부하여 전문성을 향상시키는 노력을 하루 동안 기록했다.   \n",
              "4  오늘은 자격증 취득을 통해 전문가 레벨의 업무 능력을 갖추기 위한 시험을 보았어요....   \n",
              "\n",
              "                                  hashtag  \n",
              "0          #매일운동 #규칙적운동 #건강한삶 #체력향상 #운동습관  \n",
              "1        #건강한식습관 #식단관리 #영양균형 #천천히식사 #건강한삶  \n",
              "2  #새로운언어배우기 #언어학습 #꾸준한노력 #언어실력향상 #자신감키우기  \n",
              "3      #전문성향상 #새로운기술공부 #지식습득 #실전경험 #꾸준한학습  \n",
              "4           #자격증취득 #전문가능력 #노력과학습 #자부심 #발전  "
            ]
          },
          "execution_count": 3,
          "metadata": {},
          "output_type": "execute_result"
        }
      ],
      "source": [
        "diary.head()"
      ]
    },
    {
      "cell_type": "code",
      "execution_count": null,
      "metadata": {
        "colab": {
          "base_uri": "https://localhost:8080/"
        },
        "id": "yVCNAfxuL31z",
        "outputId": "e2866278-509f-426c-cf98-c5c84ecdbb30"
      },
      "outputs": [
        {
          "name": "stdout",
          "output_type": "stream",
          "text": [
            "Requirement already satisfied: datasets in c:\\users\\user\\documents\\ewha\\log\\log\\web\\flask-server\\venv\\lib\\site-packages (2.16.1)\n",
            "Requirement already satisfied: accelerate in c:\\users\\user\\documents\\ewha\\log\\log\\web\\flask-server\\venv\\lib\\site-packages (0.26.1)\n",
            "Requirement already satisfied: transformers[torch] in c:\\users\\user\\documents\\ewha\\log\\log\\web\\flask-server\\venv\\lib\\site-packages (4.37.0)\n",
            "Requirement already satisfied: filelock in c:\\users\\user\\documents\\ewha\\log\\log\\web\\flask-server\\venv\\lib\\site-packages (from datasets) (3.12.4)\n",
            "Requirement already satisfied: numpy>=1.17 in c:\\users\\user\\documents\\ewha\\log\\log\\web\\flask-server\\venv\\lib\\site-packages (from datasets) (1.26.0)\n",
            "Requirement already satisfied: pyarrow>=8.0.0 in c:\\users\\user\\documents\\ewha\\log\\log\\web\\flask-server\\venv\\lib\\site-packages (from datasets) (14.0.2)\n",
            "Requirement already satisfied: pyarrow-hotfix in c:\\users\\user\\documents\\ewha\\log\\log\\web\\flask-server\\venv\\lib\\site-packages (from datasets) (0.6)\n",
            "Requirement already satisfied: dill<0.3.8,>=0.3.0 in c:\\users\\user\\documents\\ewha\\log\\log\\web\\flask-server\\venv\\lib\\site-packages (from datasets) (0.3.7)\n",
            "Requirement already satisfied: pandas in c:\\users\\user\\documents\\ewha\\log\\log\\web\\flask-server\\venv\\lib\\site-packages (from datasets) (2.1.1)\n",
            "Requirement already satisfied: requests>=2.19.0 in c:\\users\\user\\documents\\ewha\\log\\log\\web\\flask-server\\venv\\lib\\site-packages (from datasets) (2.31.0)\n",
            "Requirement already satisfied: tqdm>=4.62.1 in c:\\users\\user\\documents\\ewha\\log\\log\\web\\flask-server\\venv\\lib\\site-packages (from datasets) (4.66.1)\n",
            "Requirement already satisfied: xxhash in c:\\users\\user\\documents\\ewha\\log\\log\\web\\flask-server\\venv\\lib\\site-packages (from datasets) (3.4.1)\n",
            "Requirement already satisfied: multiprocess in c:\\users\\user\\documents\\ewha\\log\\log\\web\\flask-server\\venv\\lib\\site-packages (from datasets) (0.70.15)\n",
            "Requirement already satisfied: fsspec[http]<=2023.10.0,>=2023.1.0 in c:\\users\\user\\documents\\ewha\\log\\log\\web\\flask-server\\venv\\lib\\site-packages (from datasets) (2023.10.0)\n",
            "Requirement already satisfied: aiohttp in c:\\users\\user\\documents\\ewha\\log\\log\\web\\flask-server\\venv\\lib\\site-packages (from datasets) (3.9.1)\n",
            "Requirement already satisfied: huggingface-hub>=0.19.4 in c:\\users\\user\\documents\\ewha\\log\\log\\web\\flask-server\\venv\\lib\\site-packages (from datasets) (0.20.1)\n",
            "Requirement already satisfied: packaging in c:\\users\\user\\documents\\ewha\\log\\log\\web\\flask-server\\venv\\lib\\site-packages (from datasets) (23.2)\n",
            "Requirement already satisfied: pyyaml>=5.1 in c:\\users\\user\\documents\\ewha\\log\\log\\web\\flask-server\\venv\\lib\\site-packages (from datasets) (6.0.1)\n",
            "Requirement already satisfied: psutil in c:\\users\\user\\documents\\ewha\\log\\log\\web\\flask-server\\venv\\lib\\site-packages (from accelerate) (5.9.7)\n",
            "Requirement already satisfied: torch>=1.10.0 in c:\\users\\user\\documents\\ewha\\log\\log\\web\\flask-server\\venv\\lib\\site-packages (from accelerate) (2.1.2+cu118)\n",
            "Requirement already satisfied: safetensors>=0.3.1 in c:\\users\\user\\documents\\ewha\\log\\log\\web\\flask-server\\venv\\lib\\site-packages (from accelerate) (0.4.1)\n",
            "Requirement already satisfied: regex!=2019.12.17 in c:\\users\\user\\documents\\ewha\\log\\log\\web\\flask-server\\venv\\lib\\site-packages (from transformers[torch]) (2023.12.25)\n",
            "Requirement already satisfied: tokenizers<0.19,>=0.14 in c:\\users\\user\\documents\\ewha\\log\\log\\web\\flask-server\\venv\\lib\\site-packages (from transformers[torch]) (0.15.0)\n",
            "Requirement already satisfied: attrs>=17.3.0 in c:\\users\\user\\documents\\ewha\\log\\log\\web\\flask-server\\venv\\lib\\site-packages (from aiohttp->datasets) (23.2.0)\n",
            "Requirement already satisfied: multidict<7.0,>=4.5 in c:\\users\\user\\documents\\ewha\\log\\log\\web\\flask-server\\venv\\lib\\site-packages (from aiohttp->datasets) (6.0.4)\n",
            "Requirement already satisfied: yarl<2.0,>=1.0 in c:\\users\\user\\documents\\ewha\\log\\log\\web\\flask-server\\venv\\lib\\site-packages (from aiohttp->datasets) (1.9.4)\n",
            "Requirement already satisfied: frozenlist>=1.1.1 in c:\\users\\user\\documents\\ewha\\log\\log\\web\\flask-server\\venv\\lib\\site-packages (from aiohttp->datasets) (1.4.1)\n",
            "Requirement already satisfied: aiosignal>=1.1.2 in c:\\users\\user\\documents\\ewha\\log\\log\\web\\flask-server\\venv\\lib\\site-packages (from aiohttp->datasets) (1.3.1)\n",
            "Requirement already satisfied: typing-extensions>=3.7.4.3 in c:\\users\\user\\documents\\ewha\\log\\log\\web\\flask-server\\venv\\lib\\site-packages (from huggingface-hub>=0.19.4->datasets) (4.8.0)\n",
            "Requirement already satisfied: charset-normalizer<4,>=2 in c:\\users\\user\\documents\\ewha\\log\\log\\web\\flask-server\\venv\\lib\\site-packages (from requests>=2.19.0->datasets) (3.3.0)\n",
            "Requirement already satisfied: idna<4,>=2.5 in c:\\users\\user\\documents\\ewha\\log\\log\\web\\flask-server\\venv\\lib\\site-packages (from requests>=2.19.0->datasets) (3.4)\n",
            "Requirement already satisfied: urllib3<3,>=1.21.1 in c:\\users\\user\\documents\\ewha\\log\\log\\web\\flask-server\\venv\\lib\\site-packages (from requests>=2.19.0->datasets) (1.26.18)\n",
            "Requirement already satisfied: certifi>=2017.4.17 in c:\\users\\user\\documents\\ewha\\log\\log\\web\\flask-server\\venv\\lib\\site-packages (from requests>=2.19.0->datasets) (2023.7.22)\n",
            "Requirement already satisfied: sympy in c:\\users\\user\\documents\\ewha\\log\\log\\web\\flask-server\\venv\\lib\\site-packages (from torch>=1.10.0->accelerate) (1.12)\n",
            "Requirement already satisfied: networkx in c:\\users\\user\\documents\\ewha\\log\\log\\web\\flask-server\\venv\\lib\\site-packages (from torch>=1.10.0->accelerate) (3.2.1)\n",
            "Requirement already satisfied: jinja2 in c:\\users\\user\\documents\\ewha\\log\\log\\web\\flask-server\\venv\\lib\\site-packages (from torch>=1.10.0->accelerate) (3.1.2)\n",
            "Requirement already satisfied: colorama in c:\\users\\user\\documents\\ewha\\log\\log\\web\\flask-server\\venv\\lib\\site-packages (from tqdm>=4.62.1->datasets) (0.4.6)\n",
            "Requirement already satisfied: python-dateutil>=2.8.2 in c:\\users\\user\\documents\\ewha\\log\\log\\web\\flask-server\\venv\\lib\\site-packages (from pandas->datasets) (2.8.2)\n",
            "Requirement already satisfied: pytz>=2020.1 in c:\\users\\user\\documents\\ewha\\log\\log\\web\\flask-server\\venv\\lib\\site-packages (from pandas->datasets) (2023.3.post1)\n",
            "Requirement already satisfied: tzdata>=2022.1 in c:\\users\\user\\documents\\ewha\\log\\log\\web\\flask-server\\venv\\lib\\site-packages (from pandas->datasets) (2023.3)\n",
            "Requirement already satisfied: six>=1.5 in c:\\users\\user\\documents\\ewha\\log\\log\\web\\flask-server\\venv\\lib\\site-packages (from python-dateutil>=2.8.2->pandas->datasets) (1.16.0)\n",
            "Requirement already satisfied: MarkupSafe>=2.0 in c:\\users\\user\\documents\\ewha\\log\\log\\web\\flask-server\\venv\\lib\\site-packages (from jinja2->torch>=1.10.0->accelerate) (2.1.3)\n",
            "Requirement already satisfied: mpmath>=0.19 in c:\\users\\user\\documents\\ewha\\log\\log\\web\\flask-server\\venv\\lib\\site-packages (from sympy->torch>=1.10.0->accelerate) (1.3.0)\n"
          ]
        },
        {
          "name": "stderr",
          "output_type": "stream",
          "text": [
            "\n",
            "[notice] A new release of pip is available: 23.2.1 -> 23.3.2\n",
            "[notice] To update, run: python.exe -m pip install --upgrade pip\n"
          ]
        }
      ],
      "source": [
        "!pip install datasets accelerate transformers[torch]"
      ]
    },
    {
      "cell_type": "code",
      "execution_count": null,
      "metadata": {
        "colab": {
          "base_uri": "https://localhost:8080/"
        },
        "id": "R-_ezfSxqgnw",
        "outputId": "9521ffa0-5689-4638-8e50-e7c3a7de1e7b"
      },
      "outputs": [
        {
          "name": "stdout",
          "output_type": "stream",
          "text": [
            "Requirement already satisfied: transformers in c:\\users\\user\\documents\\ewha\\log\\log\\web\\flask-server\\venv\\lib\\site-packages (4.37.0)\n",
            "Requirement already satisfied: filelock in c:\\users\\user\\documents\\ewha\\log\\log\\web\\flask-server\\venv\\lib\\site-packages (from transformers) (3.12.4)\n",
            "Requirement already satisfied: huggingface-hub<1.0,>=0.19.3 in c:\\users\\user\\documents\\ewha\\log\\log\\web\\flask-server\\venv\\lib\\site-packages (from transformers) (0.20.1)\n",
            "Requirement already satisfied: numpy>=1.17 in c:\\users\\user\\documents\\ewha\\log\\log\\web\\flask-server\\venv\\lib\\site-packages (from transformers) (1.26.0)\n",
            "Requirement already satisfied: packaging>=20.0 in c:\\users\\user\\documents\\ewha\\log\\log\\web\\flask-server\\venv\\lib\\site-packages (from transformers) (23.2)\n",
            "Requirement already satisfied: pyyaml>=5.1 in c:\\users\\user\\documents\\ewha\\log\\log\\web\\flask-server\\venv\\lib\\site-packages (from transformers) (6.0.1)\n",
            "Requirement already satisfied: regex!=2019.12.17 in c:\\users\\user\\documents\\ewha\\log\\log\\web\\flask-server\\venv\\lib\\site-packages (from transformers) (2023.12.25)\n",
            "Requirement already satisfied: requests in c:\\users\\user\\documents\\ewha\\log\\log\\web\\flask-server\\venv\\lib\\site-packages (from transformers) (2.31.0)\n",
            "Requirement already satisfied: tokenizers<0.19,>=0.14 in c:\\users\\user\\documents\\ewha\\log\\log\\web\\flask-server\\venv\\lib\\site-packages (from transformers) (0.15.0)\n",
            "Requirement already satisfied: safetensors>=0.3.1 in c:\\users\\user\\documents\\ewha\\log\\log\\web\\flask-server\\venv\\lib\\site-packages (from transformers) (0.4.1)\n",
            "Requirement already satisfied: tqdm>=4.27 in c:\\users\\user\\documents\\ewha\\log\\log\\web\\flask-server\\venv\\lib\\site-packages (from transformers) (4.66.1)\n",
            "Requirement already satisfied: fsspec>=2023.5.0 in c:\\users\\user\\documents\\ewha\\log\\log\\web\\flask-server\\venv\\lib\\site-packages (from huggingface-hub<1.0,>=0.19.3->transformers) (2023.10.0)\n",
            "Requirement already satisfied: typing-extensions>=3.7.4.3 in c:\\users\\user\\documents\\ewha\\log\\log\\web\\flask-server\\venv\\lib\\site-packages (from huggingface-hub<1.0,>=0.19.3->transformers) (4.8.0)\n",
            "Requirement already satisfied: colorama in c:\\users\\user\\documents\\ewha\\log\\log\\web\\flask-server\\venv\\lib\\site-packages (from tqdm>=4.27->transformers) (0.4.6)\n",
            "Requirement already satisfied: charset-normalizer<4,>=2 in c:\\users\\user\\documents\\ewha\\log\\log\\web\\flask-server\\venv\\lib\\site-packages (from requests->transformers) (3.3.0)\n",
            "Requirement already satisfied: idna<4,>=2.5 in c:\\users\\user\\documents\\ewha\\log\\log\\web\\flask-server\\venv\\lib\\site-packages (from requests->transformers) (3.4)\n",
            "Requirement already satisfied: urllib3<3,>=1.21.1 in c:\\users\\user\\documents\\ewha\\log\\log\\web\\flask-server\\venv\\lib\\site-packages (from requests->transformers) (1.26.18)\n",
            "Requirement already satisfied: certifi>=2017.4.17 in c:\\users\\user\\documents\\ewha\\log\\log\\web\\flask-server\\venv\\lib\\site-packages (from requests->transformers) (2023.7.22)\n"
          ]
        },
        {
          "name": "stderr",
          "output_type": "stream",
          "text": [
            "\n",
            "[notice] A new release of pip is available: 23.2.1 -> 23.3.2\n",
            "[notice] To update, run: python.exe -m pip install --upgrade pip\n"
          ]
        }
      ],
      "source": [
        "!pip install transformers --upgrade"
      ]
    },
    {
      "cell_type": "code",
      "execution_count": null,
      "metadata": {
        "id": "9JQZpC7gONAF"
      },
      "outputs": [],
      "source": [
        "from datasets import load_dataset\n",
        "diary_dataset = load_dataset(\"csv\", data_files = \"diary_cleansing.csv\")"
      ]
    },
    {
      "cell_type": "code",
      "execution_count": null,
      "metadata": {
        "colab": {
          "base_uri": "https://localhost:8080/"
        },
        "id": "5A-T0a_wQ4SX",
        "outputId": "1f1b4d3c-1dfb-4b17-d981-5c7b9884f0ef"
      },
      "outputs": [
        {
          "data": {
            "text/plain": [
              "DatasetDict({\n",
              "    train: Dataset({\n",
              "        features: ['diary', 'summary', 'hashtag'],\n",
              "        num_rows: 3121\n",
              "    })\n",
              "})"
            ]
          },
          "execution_count": 7,
          "metadata": {},
          "output_type": "execute_result"
        }
      ],
      "source": [
        "diary_dataset"
      ]
    },
    {
      "cell_type": "code",
      "execution_count": null,
      "metadata": {
        "id": "15NhJEs_XLRc"
      },
      "outputs": [],
      "source": [
        "# hashtag열 제거\n",
        "diary_dataset = diary_dataset.remove_columns('hashtag')"
      ]
    },
    {
      "cell_type": "code",
      "execution_count": null,
      "metadata": {
        "colab": {
          "base_uri": "https://localhost:8080/"
        },
        "id": "3y4LbRkRSUV3",
        "outputId": "65aca6b9-bb6b-467d-c1a9-45f46a2e2e61"
      },
      "outputs": [
        {
          "data": {
            "text/plain": [
              "DatasetDict({\n",
              "    train: Dataset({\n",
              "        features: ['diary', 'summary'],\n",
              "        num_rows: 2808\n",
              "    })\n",
              "    test: Dataset({\n",
              "        features: ['diary', 'summary'],\n",
              "        num_rows: 313\n",
              "    })\n",
              "})"
            ]
          },
          "execution_count": 9,
          "metadata": {},
          "output_type": "execute_result"
        }
      ],
      "source": [
        "# Split train, test\n",
        "from datasets import DatasetDict\n",
        "\n",
        "num_total = len(diary_dataset['train'])\n",
        "num_train = int(num_total * 0.9)\n",
        "\n",
        "# Shuffle\n",
        "dariy_dataset = diary_dataset[\"train\"].shuffle()\n",
        "\n",
        "diary_dataset = DatasetDict({\n",
        "    \"train\": diary_dataset['train'].select(list(range(num_train))),\n",
        "    \"test\": diary_dataset['train'].select(list(range(num_train, num_total)))\n",
        "})\n",
        "diary_dataset"
      ]
    },
    {
      "cell_type": "code",
      "execution_count": null,
      "metadata": {
        "id": "n1gY1drBTyKU"
      },
      "outputs": [],
      "source": [
        "import torch\n",
        "device = torch.device(\"cuda\") if torch.cuda.is_available() else torch.device(\"cpu\")"
      ]
    },
    {
      "cell_type": "code",
      "execution_count": null,
      "metadata": {
        "id": "-0H1QeMLTyKW",
        "outputId": "1acd2449-19f4-46e7-fd39-3a8f8afe267b"
      },
      "outputs": [
        {
          "data": {
            "text/plain": [
              "device(type='cuda')"
            ]
          },
          "execution_count": 11,
          "metadata": {},
          "output_type": "execute_result"
        }
      ],
      "source": [
        "device"
      ]
    },
    {
      "cell_type": "markdown",
      "metadata": {
        "id": "o3qABNsMLqai"
      },
      "source": [
        "## Summarization"
      ]
    },
    {
      "cell_type": "code",
      "execution_count": null,
      "metadata": {
        "id": "pbB6rTmXLgMo"
      },
      "outputs": [],
      "source": [
        "from transformers import (\n",
        "    AutoTokenizer,\n",
        "    BartForConditionalGeneration,\n",
        "    Seq2SeqTrainingArguments,\n",
        "    Seq2SeqTrainer,\n",
        "    DataCollatorForSeq2Seq,\n",
        "    EarlyStoppingCallback\n",
        ")\n",
        "from tokenizers import Tokenizer\n",
        "from typing import Dict, List, Optional\n",
        "from torch.utils.data import Dataset\n",
        "\n",
        "import pandas as pd\n",
        "import numpy as np\n",
        "import matplotlib.pyplot as plt\n",
        "\n",
        "from IPython.display import display\n",
        "from typing import Dict"
      ]
    },
    {
      "cell_type": "code",
      "execution_count": null,
      "metadata": {
        "colab": {
          "base_uri": "https://localhost:8080/",
          "height": 432,
          "referenced_widgets": [
            "a30d9f18c86a4c478ca891e5924ef1f3",
            "c7db145fc47f414690bcb3670b480d92",
            "77f52dc0669840c798814d6cab930d94",
            "a91bc975329a4c7b83f93f7321eb5f04",
            "ccdb41166ed84ea1912f3c81c1ac59a2",
            "7c7aefcce742431f80e0c1a29ac59781",
            "7105a4b21c654f2e90b59d11a19dcb18",
            "4ffb71b0e9eb4b7199c0284140c7acf0",
            "535a06a891864a6a80362409691fb059",
            "3b06cfd9128d4da780638c6757514cf5",
            "baff1b1c20114bf59d8e5606ec1505ab",
            "2ecb469f91e2498299fedcb16bd307ea",
            "46cedd14ad1a434883e8c4b1abc70c78",
            "146f187648af49c7a7adc98ced1ef77c",
            "8e68ece24b67426a9a0bbf887ac26d9e",
            "aae25082c10e4276a821a6ede469728e",
            "5fea7aef38fd4df288ee46280e41a284",
            "dc9a26f95e864ba282e19c182659f244",
            "f1137a7ddb884e779f24abc0513d9169",
            "dda07c5e60464993bf91a466028a7bca",
            "2bdb8408dd79460ebc7cffe78f33cc3f",
            "ef0fda371f4c4e9d956fa9c555d0bc5a",
            "1976b9e504f04daebfee6a699609be54",
            "40a12e3f131e4f9191b6e91ffd2f337d",
            "2fa57f43202049a29c363d7d14d1a3a9",
            "abd9b127d42c462fbef14f2966c128d3",
            "82a448bff8b04d0c9f658817542df57e",
            "9089d69fe23f48f49e697bfbf43767c1",
            "18eeb466432441b095123c5eec4f71ed",
            "a2a6472784fa4a249bf6e05a14dd6e1e",
            "7c192691893649efba687da002e2a0f1",
            "d1aafc6b8c80406393f5bc6532af109a",
            "f58195b7249447e5a828d9bd4645e488",
            "e630680e795d48148cbd54e71da9f637",
            "64dd4dc945554328aaa700927a2e0fb8",
            "e0a8d6a179ce445c90ad9db7d532afc9",
            "e79df4a3f6414e5e89a2107958e6534c",
            "fd581a4559424b77b7cf2483b04aae38",
            "ea5a30bbd7dc4fa983f350b7a2ea295a",
            "9371738beaf24f628161a9c69925d3e9",
            "401425aa395e49d2b7feef597505a7aa",
            "b0fa4006cd2f45ba86f72e060095e2b1",
            "25963147ccd04e4cbbef5c670344cbea",
            "5248eb11ffbd4c7ebd26d00397859dea",
            "c025cf8d474242918aa2252728105706",
            "03de6c6adbc34e7493ea8295092827a2",
            "1574aca4deb54f2a885178669daeee42",
            "fe60b30ec236444fa217d8bcf06a2313",
            "14cec76fd02b4493b2f02224e83ef3a2",
            "037d2b5b407b48f0958054fa4d890cb3",
            "3e51a704817d4c2eba19b6b4bd306938",
            "c2cab8d046c540c2bef5d7efc713532f",
            "eecb1860897f4266809b633fd55c1bd2",
            "d5829f74e81d4276b10429ccf5bfb490",
            "a994e62afc8944f98d68ada5fe27149f",
            "579024447e9c4f21929c779204c6dab1",
            "489ff84c756e401f808130f9ed4bad83",
            "8e4a6c6f37624b1f9bde1a4213b0ca4a",
            "1b86b6f735d6488da7edf23a02785b88",
            "eb46eca17fcf47cdafdaed4a41358462",
            "5fc592582032489c91f515b26b63b4eb",
            "62417e0e584140f887956ad5dad36ec5",
            "ff80c33c5dda43e4a7841f89afebb66c",
            "bb9a55b8f662494d8c77870d26ebccd9",
            "484f075859ce4450b2f73cf014733ce0",
            "340ff6a983dc4d59b9089411060c43d2",
            "b9a9644259a44e8e80ddf4d72f9fc41c",
            "e1695dc0579b4e51b51a166b95a5ce5d",
            "effbc90f3fc240f2829bb8b1e1dbdab4",
            "f13e7e9cd3ee455fb947242a2fac7d9e",
            "7299d2ed68fb487abd6aae308cbfac07",
            "4614e8e607054ac2b1298bb95eb958ef",
            "98de8760e3134e9b8776cf7e11773a6e",
            "4c21eed6ab054834bff6bdf43450a8d9",
            "e159892deae34c9aa913f418c970b186",
            "47a59917c1924dfebb53c93975d0bef8",
            "9a3bc82d2ff2465784a310a8e39665dd"
          ]
        },
        "id": "C8Sr3OsuLtQt",
        "outputId": "28066729-97de-4bf0-9e4b-e27ad827d4d0"
      },
      "outputs": [
        {
          "name": "stderr",
          "output_type": "stream",
          "text": [
            "You passed along `num_labels=3` with an incompatible id to label map: {'0': 'NEGATIVE', '1': 'POSITIVE'}. The number of labels wil be overwritten to 2.\n",
            "You passed along `num_labels=3` with an incompatible id to label map: {'0': 'NEGATIVE', '1': 'POSITIVE'}. The number of labels wil be overwritten to 2.\n",
            "You passed along `num_labels=3` with an incompatible id to label map: {'0': 'NEGATIVE', '1': 'POSITIVE'}. The number of labels wil be overwritten to 2.\n"
          ]
        }
      ],
      "source": [
        "# Load Model and Tokenize\n",
        "model_name = \"gogamza/kobart-summarization\"\n",
        "tokenizer = AutoTokenizer.from_pretrained(model_name)\n",
        "model = BartForConditionalGeneration.from_pretrained(model_name)"
      ]
    },
    {
      "cell_type": "code",
      "execution_count": null,
      "metadata": {
        "id": "LP0kQBve_8SP"
      },
      "outputs": [],
      "source": [
        "max_input_length = 512\n",
        "max_target_length = 150\n",
        "\n",
        "def preprocess_function(ex):\n",
        "  model_inputs = tokenizer(ex['diary'], max_length = max_input_length, padding = 'max_length', truncation = True)\n",
        "\n",
        "  # 타겟을 위한 토크나이저 설정\n",
        "  with tokenizer.as_target_tokenizer():\n",
        "    labels = tokenizer(ex['summary'], max_length = max_target_length, padding = 'max_length', truncation = True)\n",
        "  model_inputs['labels'] = labels['input_ids']\n",
        "  return model_inputs"
      ]
    },
    {
      "cell_type": "code",
      "execution_count": null,
      "metadata": {
        "id": "a2jPwmsAAQY_"
      },
      "outputs": [],
      "source": [
        "tokenized_dataset = diary_dataset.map(preprocess_function)"
      ]
    },
    {
      "cell_type": "code",
      "execution_count": null,
      "metadata": {
        "colab": {
          "base_uri": "https://localhost:8080/"
        },
        "id": "uY7OYk4BAZ7_",
        "outputId": "55d757d0-911f-45e0-98f5-3ef9c362dc2c"
      },
      "outputs": [
        {
          "data": {
            "text/plain": [
              "DatasetDict({\n",
              "    train: Dataset({\n",
              "        features: ['diary', 'summary', 'input_ids', 'attention_mask', 'labels'],\n",
              "        num_rows: 2808\n",
              "    })\n",
              "    test: Dataset({\n",
              "        features: ['diary', 'summary', 'input_ids', 'attention_mask', 'labels'],\n",
              "        num_rows: 313\n",
              "    })\n",
              "})"
            ]
          },
          "execution_count": 16,
          "metadata": {},
          "output_type": "execute_result"
        }
      ],
      "source": [
        "tokenized_dataset"
      ]
    },
    {
      "cell_type": "code",
      "execution_count": null,
      "metadata": {
        "id": "xhA0y4n9dckE"
      },
      "outputs": [],
      "source": [
        "tokenized_dataset = tokenized_dataset.remove_columns(diary_dataset['train'].column_names)"
      ]
    },
    {
      "cell_type": "code",
      "execution_count": null,
      "metadata": {
        "colab": {
          "base_uri": "https://localhost:8080/"
        },
        "id": "JxUSXTgjdhI5",
        "outputId": "684a79a9-c54c-4e6e-f8e7-472a2853922a"
      },
      "outputs": [
        {
          "data": {
            "text/plain": [
              "DatasetDict({\n",
              "    train: Dataset({\n",
              "        features: ['input_ids', 'attention_mask', 'labels'],\n",
              "        num_rows: 2808\n",
              "    })\n",
              "    test: Dataset({\n",
              "        features: ['input_ids', 'attention_mask', 'labels'],\n",
              "        num_rows: 313\n",
              "    })\n",
              "})"
            ]
          },
          "execution_count": 18,
          "metadata": {},
          "output_type": "execute_result"
        }
      ],
      "source": [
        "tokenized_dataset"
      ]
    },
    {
      "cell_type": "code",
      "execution_count": null,
      "metadata": {
        "colab": {
          "base_uri": "https://localhost:8080/"
        },
        "id": "BEOg2H0DAkxM",
        "outputId": "6b4292be-32c7-4d14-d64d-84b0d4f1fd1b"
      },
      "outputs": [
        {
          "data": {
            "text/plain": [
              "512"
            ]
          },
          "execution_count": 19,
          "metadata": {},
          "output_type": "execute_result"
        }
      ],
      "source": [
        "# Train data max input tokens\n",
        "max(len(x) for x in tokenized_dataset['train']['input_ids'])"
      ]
    },
    {
      "cell_type": "code",
      "execution_count": null,
      "metadata": {
        "colab": {
          "base_uri": "https://localhost:8080/"
        },
        "id": "ArnPnPheAyt7",
        "outputId": "35f3771a-a7cb-401e-a8c7-62810c0f9f08"
      },
      "outputs": [
        {
          "data": {
            "text/plain": [
              "512"
            ]
          },
          "execution_count": 20,
          "metadata": {},
          "output_type": "execute_result"
        }
      ],
      "source": [
        "# Test data max input tokens\n",
        "max(len(x) for x in tokenized_dataset['test']['input_ids'])"
      ]
    },
    {
      "cell_type": "code",
      "execution_count": null,
      "metadata": {
        "colab": {
          "base_uri": "https://localhost:8080/"
        },
        "id": "KwuRryU_A7h7",
        "outputId": "0503735f-2f7e-411d-d84f-f9b801c1cdd7"
      },
      "outputs": [
        {
          "data": {
            "text/plain": [
              "150"
            ]
          },
          "execution_count": 21,
          "metadata": {},
          "output_type": "execute_result"
        }
      ],
      "source": [
        "# Train data max output tokens\n",
        "max(len(x) for x in tokenized_dataset['train']['labels'])"
      ]
    },
    {
      "cell_type": "code",
      "execution_count": null,
      "metadata": {
        "colab": {
          "base_uri": "https://localhost:8080/"
        },
        "id": "rYZVojrOMehT",
        "outputId": "cdafd481-b2b6-4f6e-da91-4fc3d2a6410e"
      },
      "outputs": [
        {
          "data": {
            "text/plain": [
              "150"
            ]
          },
          "execution_count": 22,
          "metadata": {},
          "output_type": "execute_result"
        }
      ],
      "source": [
        "# Test data max output tokens\n",
        "max(len(x) for x in tokenized_dataset['test']['labels'])"
      ]
    },
    {
      "cell_type": "code",
      "execution_count": null,
      "metadata": {
        "id": "IprMhkssc91N"
      },
      "outputs": [],
      "source": [
        "from transformers import DataCollatorWithPadding\n",
        "data_collator = DataCollatorWithPadding(tokenizer = tokenizer)"
      ]
    },
    {
      "cell_type": "markdown",
      "metadata": {
        "id": "gjfowymtBTwy"
      },
      "source": [
        "## Metrics : Rouge score"
      ]
    },
    {
      "cell_type": "code",
      "execution_count": null,
      "metadata": {
        "id": "mCOXQUvBTyKo",
        "outputId": "e3a24a00-8eec-4a46-ce96-9396d380284a"
      },
      "outputs": [
        {
          "name": "stdout",
          "output_type": "stream",
          "text": [
            "Requirement already satisfied: rouge_score in c:\\users\\user\\documents\\ewha\\log\\log\\web\\flask-server\\venv\\lib\\site-packages (0.1.2)\n",
            "Requirement already satisfied: absl-py in c:\\users\\user\\documents\\ewha\\log\\log\\web\\flask-server\\venv\\lib\\site-packages (from rouge_score) (2.1.0)\n",
            "Requirement already satisfied: nltk in c:\\users\\user\\documents\\ewha\\log\\log\\web\\flask-server\\venv\\lib\\site-packages (from rouge_score) (3.8.1)\n",
            "Requirement already satisfied: numpy in c:\\users\\user\\documents\\ewha\\log\\log\\web\\flask-server\\venv\\lib\\site-packages (from rouge_score) (1.26.0)\n",
            "Requirement already satisfied: six>=1.14.0 in c:\\users\\user\\documents\\ewha\\log\\log\\web\\flask-server\\venv\\lib\\site-packages (from rouge_score) (1.16.0)\n",
            "Requirement already satisfied: click in c:\\users\\user\\documents\\ewha\\log\\log\\web\\flask-server\\venv\\lib\\site-packages (from nltk->rouge_score) (8.1.7)\n",
            "Requirement already satisfied: joblib in c:\\users\\user\\documents\\ewha\\log\\log\\web\\flask-server\\venv\\lib\\site-packages (from nltk->rouge_score) (1.3.2)\n",
            "Requirement already satisfied: regex>=2021.8.3 in c:\\users\\user\\documents\\ewha\\log\\log\\web\\flask-server\\venv\\lib\\site-packages (from nltk->rouge_score) (2023.12.25)\n",
            "Requirement already satisfied: tqdm in c:\\users\\user\\documents\\ewha\\log\\log\\web\\flask-server\\venv\\lib\\site-packages (from nltk->rouge_score) (4.66.1)\n",
            "Requirement already satisfied: colorama in c:\\users\\user\\documents\\ewha\\log\\log\\web\\flask-server\\venv\\lib\\site-packages (from click->nltk->rouge_score) (0.4.6)\n"
          ]
        },
        {
          "name": "stderr",
          "output_type": "stream",
          "text": [
            "\n",
            "[notice] A new release of pip is available: 23.2.1 -> 23.3.2\n",
            "[notice] To update, run: python.exe -m pip install --upgrade pip\n"
          ]
        }
      ],
      "source": [
        "!pip install rouge_score"
      ]
    },
    {
      "cell_type": "code",
      "execution_count": null,
      "metadata": {
        "id": "qLHp_z3eTyKq",
        "outputId": "0281d38a-31b9-483e-a500-2ac94782ba81"
      },
      "outputs": [
        {
          "name": "stdout",
          "output_type": "stream",
          "text": [
            "Requirement already satisfied: rouge-score in c:\\users\\user\\documents\\ewha\\log\\log\\web\\flask-server\\venv\\lib\\site-packages (0.1.2)\n",
            "Requirement already satisfied: absl-py in c:\\users\\user\\documents\\ewha\\log\\log\\web\\flask-server\\venv\\lib\\site-packages (from rouge-score) (2.1.0)\n",
            "Requirement already satisfied: nltk in c:\\users\\user\\documents\\ewha\\log\\log\\web\\flask-server\\venv\\lib\\site-packages (from rouge-score) (3.8.1)\n",
            "Requirement already satisfied: numpy in c:\\users\\user\\documents\\ewha\\log\\log\\web\\flask-server\\venv\\lib\\site-packages (from rouge-score) (1.26.0)\n",
            "Requirement already satisfied: six>=1.14.0 in c:\\users\\user\\documents\\ewha\\log\\log\\web\\flask-server\\venv\\lib\\site-packages (from rouge-score) (1.16.0)\n",
            "Requirement already satisfied: click in c:\\users\\user\\documents\\ewha\\log\\log\\web\\flask-server\\venv\\lib\\site-packages (from nltk->rouge-score) (8.1.7)\n",
            "Requirement already satisfied: joblib in c:\\users\\user\\documents\\ewha\\log\\log\\web\\flask-server\\venv\\lib\\site-packages (from nltk->rouge-score) (1.3.2)\n",
            "Requirement already satisfied: regex>=2021.8.3 in c:\\users\\user\\documents\\ewha\\log\\log\\web\\flask-server\\venv\\lib\\site-packages (from nltk->rouge-score) (2023.12.25)\n",
            "Requirement already satisfied: tqdm in c:\\users\\user\\documents\\ewha\\log\\log\\web\\flask-server\\venv\\lib\\site-packages (from nltk->rouge-score) (4.66.1)\n",
            "Requirement already satisfied: colorama in c:\\users\\user\\documents\\ewha\\log\\log\\web\\flask-server\\venv\\lib\\site-packages (from click->nltk->rouge-score) (0.4.6)\n"
          ]
        },
        {
          "name": "stderr",
          "output_type": "stream",
          "text": [
            "\n",
            "[notice] A new release of pip is available: 23.2.1 -> 23.3.2\n",
            "[notice] To update, run: python.exe -m pip install --upgrade pip\n"
          ]
        }
      ],
      "source": [
        "!pip install rouge"
      ]
    },
    {
      "cell_type": "code",
      "execution_count": null,
      "metadata": {
        "id": "jNE3yQOYTyKs"
      },
      "outputs": [],
      "source": [
        "from rouge import Rouge\n",
        "rouge_score = Rouge()"
      ]
    },
    {
      "cell_type": "code",
      "execution_count": null,
      "metadata": {
        "colab": {
          "base_uri": "https://localhost:8080/",
          "height": 183,
          "referenced_widgets": [
            "56a223fc4e524943896af48242bed0e0",
            "2718d3d4fc914b04bb733c78bf1cdbc7",
            "b0a9846ea70e428890817cf2b7b08350",
            "8426c94bf6c94c68b9a1e712e8e6367f",
            "3804927c76984fe7ae6dfe6a2dac8100",
            "3162f1fe437d4b21bec87204b176d1c2",
            "ac2f5cdde9e9471f8c7776477131ebbe",
            "0b76d000fbff475c990bbf77c6e7555a",
            "23b3a53548bf46fab631840438fcd803",
            "f041c227fe3a429bbfa1746240d3bc7b",
            "522a4d5a3d7f49ff8bd1bae29cd25018"
          ]
        },
        "id": "2dpGID2XcwzM",
        "outputId": "043d04b8-28c5-4775-c4c6-c6d4a1275be6"
      },
      "outputs": [
        {
          "name": "stderr",
          "output_type": "stream",
          "text": [
            "C:\\Users\\user\\AppData\\Local\\Temp\\ipykernel_12312\\844052376.py:2: FutureWarning: load_metric is deprecated and will be removed in the next major version of datasets. Use 'evaluate.load' instead, from the new library 🤗 Evaluate: https://huggingface.co/docs/evaluate\n",
            "  rouge_score = load_metric('rouge')\n",
            "C:\\Users\\user\\Documents\\EWHA\\log\\log\\web\\flask-server\\venv\\Lib\\site-packages\\datasets\\load.py:752: FutureWarning: The repository for rouge contains custom code which must be executed to correctly load the metric. You can inspect the repository content at https://raw.githubusercontent.com/huggingface/datasets/2.16.1/metrics/rouge/rouge.py\n",
            "You can avoid this message in future by passing the argument `trust_remote_code=True`.\n",
            "Passing `trust_remote_code=True` will be mandatory to load this metric from the next major release of `datasets`.\n",
            "  warnings.warn(\n"
          ]
        }
      ],
      "source": [
        "from datasets import load_metric\n",
        "rouge_score = load_metric('rouge')"
      ]
    },
    {
      "cell_type": "code",
      "execution_count": null,
      "metadata": {
        "id": "bywMmJlRiEhY"
      },
      "outputs": [],
      "source": [
        "def compute_metrics(eval_pred):\n",
        "    predictions, labels = eval_pred\n",
        "    decoded_preds = tokenizer.batch_decode(predictions, skip_special_tokens = True)\n",
        "    decoded_labels = tokenizer.batch_decode(labels, skip_special_tokens=True)\n",
        "    rouge_output = rouge_score.compute(predictions=decoded_preds, references=decoded_labels)\n",
        "    return rouge_output"
      ]
    },
    {
      "cell_type": "code",
      "execution_count": null,
      "metadata": {
        "id": "zVdbm9j1TyK0"
      },
      "outputs": [],
      "source": [
        "def compute_metrics(eval_pred):\n",
        "    predictions, labels = eval_pred\n",
        "    decoded_preds = tokenizer.batch_decode(predictions, skip_special_tokens=True)\n",
        "    labels = np.where(labels != -100, labels, tokenizer.pad_token_id)\n",
        "    decoded_labels = tokenizer.batch_decode(labels, skip_special_tokens=True)\n",
        "    decoded_preds = [\"\\n\".join(sent_tokenize(pred.strip())) for pred in decoded_preds]\n",
        "    decoded_labels = [\"\\n\".join(sent_tokenize(label.strip())) for label in decoded_labels]\n",
        "\n",
        "    result = rouge_score.compute(\n",
        "        predictions=decoded_preds, references=decoded_labels, use_stemmer=True\n",
        "    )\n",
        "    # 중간 점수(median scores) 추출\n",
        "    result = {key: value.mid.fmeasure * 100 for key, value in result.items()}\n",
        "    return {k: round(v, 4) for k, v in result.items()}"
      ]
    },
    {
      "cell_type": "markdown",
      "metadata": {
        "id": "70J8lzpRCMjf"
      },
      "source": [
        "## Train"
      ]
    },
    {
      "cell_type": "code",
      "execution_count": null,
      "metadata": {
        "id": "8DXDU35_TyK5",
        "outputId": "67bc5416-631b-4099-cfe2-967676ba0069"
      },
      "outputs": [
        {
          "name": "stdout",
          "output_type": "stream",
          "text": [
            "Requirement already satisfied: ipywidgets in c:\\users\\user\\documents\\ewha\\log\\log\\web\\flask-server\\venv\\lib\\site-packages (8.1.1)\n",
            "Requirement already satisfied: comm>=0.1.3 in c:\\users\\user\\documents\\ewha\\log\\log\\web\\flask-server\\venv\\lib\\site-packages (from ipywidgets) (0.2.1)\n",
            "Requirement already satisfied: ipython>=6.1.0 in c:\\users\\user\\documents\\ewha\\log\\log\\web\\flask-server\\venv\\lib\\site-packages (from ipywidgets) (8.19.0)\n",
            "Requirement already satisfied: traitlets>=4.3.1 in c:\\users\\user\\documents\\ewha\\log\\log\\web\\flask-server\\venv\\lib\\site-packages (from ipywidgets) (5.14.1)\n",
            "Requirement already satisfied: widgetsnbextension~=4.0.9 in c:\\users\\user\\documents\\ewha\\log\\log\\web\\flask-server\\venv\\lib\\site-packages (from ipywidgets) (4.0.9)\n",
            "Requirement already satisfied: jupyterlab-widgets~=3.0.9 in c:\\users\\user\\documents\\ewha\\log\\log\\web\\flask-server\\venv\\lib\\site-packages (from ipywidgets) (3.0.9)\n",
            "Requirement already satisfied: decorator in c:\\users\\user\\documents\\ewha\\log\\log\\web\\flask-server\\venv\\lib\\site-packages (from ipython>=6.1.0->ipywidgets) (5.1.1)\n",
            "Requirement already satisfied: jedi>=0.16 in c:\\users\\user\\documents\\ewha\\log\\log\\web\\flask-server\\venv\\lib\\site-packages (from ipython>=6.1.0->ipywidgets) (0.19.1)\n",
            "Requirement already satisfied: matplotlib-inline in c:\\users\\user\\documents\\ewha\\log\\log\\web\\flask-server\\venv\\lib\\site-packages (from ipython>=6.1.0->ipywidgets) (0.1.6)\n",
            "Requirement already satisfied: prompt-toolkit<3.1.0,>=3.0.41 in c:\\users\\user\\documents\\ewha\\log\\log\\web\\flask-server\\venv\\lib\\site-packages (from ipython>=6.1.0->ipywidgets) (3.0.43)\n",
            "Requirement already satisfied: pygments>=2.4.0 in c:\\users\\user\\documents\\ewha\\log\\log\\web\\flask-server\\venv\\lib\\site-packages (from ipython>=6.1.0->ipywidgets) (2.17.2)\n",
            "Requirement already satisfied: stack-data in c:\\users\\user\\documents\\ewha\\log\\log\\web\\flask-server\\venv\\lib\\site-packages (from ipython>=6.1.0->ipywidgets) (0.6.3)\n",
            "Requirement already satisfied: colorama in c:\\users\\user\\documents\\ewha\\log\\log\\web\\flask-server\\venv\\lib\\site-packages (from ipython>=6.1.0->ipywidgets) (0.4.6)\n",
            "Requirement already satisfied: parso<0.9.0,>=0.8.3 in c:\\users\\user\\documents\\ewha\\log\\log\\web\\flask-server\\venv\\lib\\site-packages (from jedi>=0.16->ipython>=6.1.0->ipywidgets) (0.8.3)\n",
            "Requirement already satisfied: wcwidth in c:\\users\\user\\documents\\ewha\\log\\log\\web\\flask-server\\venv\\lib\\site-packages (from prompt-toolkit<3.1.0,>=3.0.41->ipython>=6.1.0->ipywidgets) (0.2.12)\n",
            "Requirement already satisfied: executing>=1.2.0 in c:\\users\\user\\documents\\ewha\\log\\log\\web\\flask-server\\venv\\lib\\site-packages (from stack-data->ipython>=6.1.0->ipywidgets) (2.0.1)\n",
            "Requirement already satisfied: asttokens>=2.1.0 in c:\\users\\user\\documents\\ewha\\log\\log\\web\\flask-server\\venv\\lib\\site-packages (from stack-data->ipython>=6.1.0->ipywidgets) (2.4.1)\n",
            "Requirement already satisfied: pure-eval in c:\\users\\user\\documents\\ewha\\log\\log\\web\\flask-server\\venv\\lib\\site-packages (from stack-data->ipython>=6.1.0->ipywidgets) (0.2.2)\n",
            "Requirement already satisfied: six>=1.12.0 in c:\\users\\user\\documents\\ewha\\log\\log\\web\\flask-server\\venv\\lib\\site-packages (from asttokens>=2.1.0->stack-data->ipython>=6.1.0->ipywidgets) (1.16.0)\n"
          ]
        },
        {
          "name": "stderr",
          "output_type": "stream",
          "text": [
            "\n",
            "[notice] A new release of pip is available: 23.2.1 -> 23.3.2\n",
            "[notice] To update, run: python.exe -m pip install --upgrade pip\n"
          ]
        }
      ],
      "source": [
        "!pip install ipywidgets"
      ]
    },
    {
      "cell_type": "code",
      "execution_count": null,
      "metadata": {
        "colab": {
          "referenced_widgets": [
            "d321d57480a341ac88c6ad3d1672f5a4"
          ]
        },
        "id": "W_rpCV53TyK6",
        "outputId": "e43092db-e5e0-438d-b230-8ec0fe69cbe1"
      },
      "outputs": [
        {
          "data": {
            "application/vnd.jupyter.widget-view+json": {
              "model_id": "d321d57480a341ac88c6ad3d1672f5a4",
              "version_major": 2,
              "version_minor": 0
            },
            "text/plain": [
              "VBox(children=(HTML(value='<center> <img\\nsrc=https://huggingface.co/front/assets/huggingface_logo-noborder.sv…"
            ]
          },
          "metadata": {},
          "output_type": "display_data"
        }
      ],
      "source": [
        "from huggingface_hub import notebook_login\n",
        "notebook_login()"
      ]
    },
    {
      "cell_type": "code",
      "execution_count": null,
      "metadata": {
        "id": "cDf0cqe2L-JO"
      },
      "outputs": [],
      "source": [
        "batch_size = 8\n",
        "epochs = 1\n",
        "logging_steps = len(tokenized_dataset['train']) // batch_size\n",
        "model_path = \"C:/Users/user/Documents/EWHA/log/log/modelling/\"\n",
        "\n",
        "training_args = Seq2SeqTrainingArguments(\n",
        "    output_dir=model_path,\n",
        "    overwrite_output_dir=True,\n",
        "    evaluation_strategy = 'steps',\n",
        "    learning_rate = 5.6e-5,\n",
        "    weight_decay = 0.01,\n",
        "    num_train_epochs=epochs,\n",
        "    per_device_train_batch_size=batch_size,\n",
        "    per_device_eval_batch_size=batch_size,\n",
        "    save_steps=1000,\n",
        "    warmup_steps=300,\n",
        "    prediction_loss_only=True,\n",
        "    predict_with_generate = True,\n",
        "    save_total_limit=3,\n",
        "    load_best_model_at_end=True,\n",
        "    push_to_hub = True\n",
        "    )\n",
        "\n",
        "early_stopping_callback = EarlyStoppingCallback(early_stopping_patience=3, early_stopping_threshold=0)\n",
        "\n",
        "trainer = Seq2SeqTrainer(\n",
        "    model = model,\n",
        "    args = training_args,\n",
        "    data_collator = data_collator,\n",
        "    callbacks=[early_stopping_callback],\n",
        "    train_dataset = tokenized_dataset['train'],\n",
        "    eval_dataset = tokenized_dataset['test'],\n",
        "    compute_metrics=compute_metrics\n",
        ")"
      ]
    },
    {
      "cell_type": "code",
      "execution_count": null,
      "metadata": {
        "colab": {
          "base_uri": "https://localhost:8080/",
          "height": 363
        },
        "id": "w1OSchx8Sylq",
        "outputId": "a038b06d-8bd8-4acc-fa0d-486173315d0d"
      },
      "outputs": [
        {
          "data": {
            "text/html": [
              "\n",
              "    <div>\n",
              "      \n",
              "      <progress value='351' max='351' style='width:300px; height:20px; vertical-align: middle;'></progress>\n",
              "      [351/351 01:53, Epoch 1/1]\n",
              "    </div>\n",
              "    <table border=\"1\" class=\"dataframe\">\n",
              "  <thead>\n",
              " <tr style=\"text-align: left;\">\n",
              "      <th>Step</th>\n",
              "      <th>Training Loss</th>\n",
              "      <th>Validation Loss</th>\n",
              "    </tr>\n",
              "  </thead>\n",
              "  <tbody>\n",
              "  </tbody>\n",
              "</table><p>"
            ],
            "text/plain": [
              "<IPython.core.display.HTML object>"
            ]
          },
          "metadata": {},
          "output_type": "display_data"
        },
        {
          "data": {
            "text/plain": [
              "TrainOutput(global_step=351, training_loss=1.9548894550725606, metrics={'train_runtime': 114.2126, 'train_samples_per_second': 24.586, 'train_steps_per_second': 3.073, 'total_flos': 856069987368960.0, 'train_loss': 1.9548894550725606, 'epoch': 1.0})"
            ]
          },
          "execution_count": 31,
          "metadata": {},
          "output_type": "execute_result"
        }
      ],
      "source": [
        "trainer.train()"
      ]
    },
    {
      "cell_type": "code",
      "execution_count": null,
      "metadata": {
        "id": "4a8RH-SjdFW8",
        "outputId": "c77cef03-f06b-4294-e120-6090ec49699f"
      },
      "outputs": [
        {
          "data": {
            "text/html": [],
            "text/plain": [
              "<IPython.core.display.HTML object>"
            ]
          },
          "metadata": {},
          "output_type": "display_data"
        }
      ],
      "source": [
        "evaluation_results = trainer.evaluate()"
      ]
    },
    {
      "cell_type": "code",
      "execution_count": null,
      "metadata": {
        "id": "AQ3LYOvgTyLB",
        "outputId": "928438c8-1f9f-45c5-9858-6eab8516747e"
      },
      "outputs": [
        {
          "data": {
            "text/plain": [
              "{'eval_loss': 0.438223659992218,\n",
              " 'eval_runtime': 4.1286,\n",
              " 'eval_samples_per_second': 75.812,\n",
              " 'eval_steps_per_second': 9.688,\n",
              " 'epoch': 1.0}"
            ]
          },
          "execution_count": 33,
          "metadata": {},
          "output_type": "execute_result"
        }
      ],
      "source": [
        "evaluation_results"
      ]
    },
    {
      "cell_type": "code",
      "execution_count": null,
      "metadata": {
        "id": "sEsIW3G-TyLB"
      },
      "outputs": [],
      "source": [
        "test_df = tokenized_dataset['test'].to_pandas()"
      ]
    },
    {
      "cell_type": "code",
      "execution_count": null,
      "metadata": {
        "id": "2awstuDDTyLm",
        "outputId": "7da67614-564d-4883-f135-ba47769240d2"
      },
      "outputs": [
        {
          "data": {
            "text/plain": [
              "'성인으로서의 변화를 겪으면서 가족과의 관계도 성숙해지고 깊어진다는 것을 깨달았어요. 가족과의 깊이 있는 소통이 적어지는 것을 느꼈지만, 가족과의 소중한 순간들을 소중히 여기고 서로를 배려하며 지내려고 다짐했어요.'"
            ]
          },
          "execution_count": 37,
          "metadata": {},
          "output_type": "execute_result"
        }
      ],
      "source": [
        "tag"
      ]
    },
    {
      "cell_type": "code",
      "execution_count": null,
      "metadata": {
        "id": "QRxw6os8TyLn",
        "outputId": "37083bc1-fa9c-4c86-95a3-ee87fc5d5ae3"
      },
      "outputs": [
        {
          "data": {
            "text/plain": [
              "'20대 후반에서는 가족과의 관계가 성인으로서의 변화를 경험하게 되었어요. 서로의 시간과 관심을 존중하며 소통하는 것이 중요하다는 것을 깨달았고, 가족과의 소중한 순간들을 더욱 소중히 여기고자 다짐했어요.'"
            ]
          },
          "execution_count": 38,
          "metadata": {},
          "output_type": "execute_result"
        }
      ],
      "source": [
        "label"
      ]
    },
    {
      "cell_type": "code",
      "execution_count": null,
      "metadata": {
        "id": "92buaCj2TyLo",
        "outputId": "dadfcd60-e7b7-4f74-df4f-0093f3da061d"
      },
      "outputs": [
        {
          "data": {
            "text/plain": [
              "{'rouge-1': {'r': 0.6388888888888888,\n",
              "  'p': 0.8333333333333334,\n",
              "  'f': 0.7190476141482994},\n",
              " 'rouge-2': {'r': 0.1111111111111111,\n",
              "  'p': 0.16666666666666666,\n",
              "  'f': 0.13333333173333337},\n",
              " 'rouge-l': {'r': 0.6388888888888888,\n",
              "  'p': 0.8333333333333334,\n",
              "  'f': 0.7190476141482994}}"
            ]
          },
          "execution_count": 54,
          "metadata": {},
          "output_type": "execute_result"
        }
      ],
      "source": [
        "model_out = [\"나는 학교에 간다.\",\n",
        "             \"오늘 뭐했지?\",\n",
        "             \"하하하 웃기다\"]\n",
        "\n",
        "reference = [\"나는 어제 학교에 간다.\",\n",
        "             \"오늘 학교에서 뭐했지?\",\n",
        "             \"헤헤헤 웃기다\"]\n",
        "rouge = Rouge()\n",
        "rouge.get_scores(model_out, reference, avg=True)"
      ]
    },
    {
      "cell_type": "code",
      "execution_count": null,
      "metadata": {
        "id": "ljV-mJGJTyLp",
        "outputId": "f991e738-f96a-4b58-ecec-e26a80a8b566"
      },
      "outputs": [
        {
          "data": {
            "text/plain": [
              "{'rouge-1': {'r': 0.34782608695652173,\n",
              "  'p': 0.36363636363636365,\n",
              "  'f': 0.35555555055802474},\n",
              " 'rouge-2': {'r': 0.13043478260869565, 'p': 0.125, 'f': 0.12765956947034876},\n",
              " 'rouge-l': {'r': 0.34782608695652173,\n",
              "  'p': 0.36363636363636365,\n",
              "  'f': 0.35555555055802474}}"
            ]
          },
          "execution_count": 59,
          "metadata": {},
          "output_type": "execute_result"
        }
      ],
      "source": [
        "input_ids = torch.tensor(test_df['input_ids'][0]).unsqueeze(0).to(device)\n",
        "label_ids = torch.tensor(test_df['labels'][0]).unsqueeze(0).to(device)\n",
        "tag_ids = model.generate(input_ids = input_ids,\n",
        "                                    bos_token_id = model.config.bos_token_id,\n",
        "                                    eos_token_id = model.config.eos_token_id,\n",
        "                                    length_penalty = 2.0,\n",
        "                                    max_length = 50,\n",
        "                                    num_beams = 2)\n",
        "tag = tokenizer.decode(tag_ids[0], skip_special_tokens = True)\n",
        "label = tokenizer.decode(label_ids[0], skip_special_tokens = True)\n",
        "rouge_output = rouge_score.get_scores([tag], [label], avg = True)\n",
        "rouge_output"
      ]
    },
    {
      "cell_type": "code",
      "execution_count": null,
      "metadata": {
        "id": "EfcveaeFS3qA"
      },
      "outputs": [],
      "source": [
        "trainer.save_model(model_path)"
      ]
    },
    {
      "cell_type": "code",
      "execution_count": null,
      "metadata": {
        "id": "V9_POPaNTyLr"
      },
      "outputs": [],
      "source": [
        "# trainer.push_to_hub(commit_message=\"Training complete\", tags=\"summarization\")"
      ]
    },
    {
      "cell_type": "code",
      "execution_count": null,
      "metadata": {
        "colab": {
          "base_uri": "https://localhost:8080/"
        },
        "id": "x59DTz83TgmE",
        "outputId": "bb19ecc7-ed6f-46aa-af0d-35176872ed2e"
      },
      "outputs": [
        {
          "data": {
            "text/plain": [
              "{'eval_loss': 0.43847861886024475,\n",
              " 'eval_runtime': 3.9766,\n",
              " 'eval_samples_per_second': 78.71,\n",
              " 'eval_steps_per_second': 10.059,\n",
              " 'epoch': 1.0}"
            ]
          },
          "execution_count": 30,
          "metadata": {},
          "output_type": "execute_result"
        }
      ],
      "source": [
        "evaluation_results"
      ]
    },
    {
      "cell_type": "code",
      "execution_count": null,
      "metadata": {
        "colab": {
          "base_uri": "https://localhost:8080/"
        },
        "id": "99Igisp0TW4g",
        "outputId": "5ac24f41-42b7-4a9a-ef05-ba5aa6a0eb30"
      },
      "outputs": [
        {
          "name": "stdout",
          "output_type": "stream",
          "text": [
            "평가 손실: 0.43847861886024475\n"
          ]
        }
      ],
      "source": [
        "loss = evaluation_results[\"eval_loss\"]\n",
        "print(\"평가 손실:\", loss)"
      ]
    },
    {
      "cell_type": "code",
      "execution_count": null,
      "metadata": {
        "id": "984wZ9YJTyLt",
        "outputId": "bfd2bc6d-5dfd-43ac-d01f-738f4342d8bb"
      },
      "outputs": [
        {
          "data": {
            "text/plain": [
              "Dataset({\n",
              "    features: ['input_ids', 'attention_mask', 'labels'],\n",
              "    num_rows: 313\n",
              "})"
            ]
          },
          "execution_count": 67,
          "metadata": {},
          "output_type": "execute_result"
        }
      ],
      "source": [
        "tokenized_dataset['test']"
      ]
    },
    {
      "cell_type": "code",
      "execution_count": null,
      "metadata": {
        "id": "LxKgiIMlTyLu",
        "outputId": "b363d368-a4e5-4490-b15b-f844b7acfd7c"
      },
      "outputs": [
        {
          "data": {
            "text/plain": [
              "PredictionOutput(predictions=None, label_ids=None, metrics={'test_loss': 0.438223659992218, 'test_runtime': 4.2705, 'test_samples_per_second': 73.294, 'test_steps_per_second': 9.367})"
            ]
          },
          "execution_count": 66,
          "metadata": {},
          "output_type": "execute_result"
        }
      ],
      "source": [
        "trainer.predict(tokenized_dataset['test'])"
      ]
    },
    {
      "cell_type": "code",
      "execution_count": null,
      "metadata": {
        "id": "fp2DTr9cTyLv",
        "outputId": "07d8115a-818c-4537-a388-cdeac5c11f6b"
      },
      "outputs": [
        {
          "data": {
            "text/plain": [
              "Dataset({\n",
              "    features: ['input_ids', 'attention_mask', 'labels'],\n",
              "    num_rows: 313\n",
              "})"
            ]
          },
          "execution_count": 52,
          "metadata": {},
          "output_type": "execute_result"
        }
      ],
      "source": [
        "tokenized_dataset['test']"
      ]
    },
    {
      "cell_type": "code",
      "execution_count": null,
      "metadata": {
        "id": "JNuQ4-GDTyLv"
      },
      "outputs": [],
      "source": [
        "def diary_summary(text):\n",
        "  # Encode input text\n",
        "  input_ids = tokenizer.encode(text, return_tensors = 'pt').to(device)\n",
        "  # Generate summary text ids\n",
        "  summary_text_ids = model.generate(input_ids = input_ids,\n",
        "                                    bos_token_id = model.config.bos_token_id,\n",
        "                                    eos_token_id = model.config.eos_token_id,\n",
        "                                    length_penalty = 2.0,\n",
        "                                    max_length = 150,\n",
        "                                    num_beams = 2)\n",
        "  return tokenizer.decode(summary_text_ids[0], skip_special_tokens = True)"
      ]
    },
    {
      "cell_type": "code",
      "execution_count": null,
      "metadata": {
        "id": "vS0a0ZkSTyLw"
      },
      "outputs": [],
      "source": [
        "def compute_rouge(originial_text, references):\n",
        "    hypotheses = diary_summary(original_text)\n",
        "    rouge_output = rouge_score.compute(hypotheses, references)\n",
        "    return rouge_output"
      ]
    },
    {
      "cell_type": "code",
      "execution_count": null,
      "metadata": {
        "id": "Oo1g8J6NTyLw",
        "outputId": "6d6e922c-547a-4ad0-ae31-a4d0150154e8"
      },
      "outputs": [
        {
          "data": {
            "text/plain": [
              "Dataset({\n",
              "    features: ['input_ids', 'attention_mask', 'labels'],\n",
              "    num_rows: 313\n",
              "})"
            ]
          },
          "execution_count": 48,
          "metadata": {},
          "output_type": "execute_result"
        }
      ],
      "source": [
        "tokenized_dataset['test']"
      ]
    },
    {
      "cell_type": "code",
      "execution_count": null,
      "metadata": {
        "id": "h14sAHUaTyLx",
        "outputId": "a73dfc62-7502-4ee1-a846-080c0906932d"
      },
      "outputs": [
        {
          "ename": "TypeError",
          "evalue": "compute_rouge() missing 1 required positional argument: 'references'",
          "output_type": "error",
          "traceback": [
            "\u001b[1;31m---------------------------------------------------------------------------\u001b[0m",
            "\u001b[1;31mTypeError\u001b[0m                                 Traceback (most recent call last)",
            "Cell \u001b[1;32mIn[47], line 1\u001b[0m\n\u001b[1;32m----> 1\u001b[0m \u001b[43mcompute_rouge\u001b[49m\u001b[43m(\u001b[49m\u001b[43mtokenized_dataset\u001b[49m\u001b[43m[\u001b[49m\u001b[38;5;124;43m'\u001b[39;49m\u001b[38;5;124;43mtest\u001b[39;49m\u001b[38;5;124;43m'\u001b[39;49m\u001b[43m]\u001b[49m\u001b[43m)\u001b[49m\n",
            "\u001b[1;31mTypeError\u001b[0m: compute_rouge() missing 1 required positional argument: 'references'"
          ]
        }
      ],
      "source": [
        "compute_rouge(tokenized_dataset['test'])"
      ]
    },
    {
      "cell_type": "code",
      "execution_count": null,
      "metadata": {
        "id": "FQefwLmeTyLx"
      },
      "outputs": [],
      "source": [
        "scores = rouge_score.compute(\n",
        "    predictions=[generated_summary], references=[reference_summary]\n",
        ")\n",
        "scores"
      ]
    },
    {
      "cell_type": "code",
      "execution_count": null,
      "metadata": {
        "colab": {
          "base_uri": "https://localhost:8080/"
        },
        "id": "wTIL89OWfFRN",
        "outputId": "ba6822cb-c2cc-4ec6-aeae-7e8a4514afdd"
      },
      "outputs": [
        {
          "name": "stderr",
          "output_type": "stream",
          "text": [
            "C:\\Users\\user\\Documents\\EWHA\\log\\log\\web\\flask-server\\venv\\Lib\\site-packages\\transformers\\generation\\utils.py:1128: UserWarning: Using the model-agnostic default `max_length` (=20) to control the generation length. We recommend setting `max_new_tokens` to control the maximum length of the generation.\n",
            "  warnings.warn(\n"
          ]
        },
        {
          "name": "stdout",
          "output_type": "stream",
          "text": [
            "입력 문장: 명절을 맞아 고향에 돌아와 가족과 함께 보낸 특별하고 따뜻한 하루였다. 가족의 사랑과 고향의 소중함을 깨달았다.\n",
            "모델 출력: 가족과의 함께한 특별하고 따뜻한 하루. 가족의 사랑과 고향의 소중함을 깨달았다.\n"
          ]
        }
      ],
      "source": [
        "# 테스트할 문장\n",
        "test_sentence = \"명절을 맞아 고향에 돌아와 가족과 함께 보낸 특별하고 따뜻한 하루였다. 가족의 사랑과 고향의 소중함을 깨달았다.\"\n",
        "\n",
        "# 입력 문장을 토큰화하여 인코딩\n",
        "input_ids = tokenizer.encode(test_sentence, return_tensors=\"pt\").to(device)\n",
        "\n",
        "# 모델에 입력 전달하여 디코딩\n",
        "output = model.generate(input_ids)\n",
        "\n",
        "# 디코딩된 출력을 토크나이저를 사용하여 텍스트로 변환\n",
        "decoded_output = tokenizer.decode(output[0], skip_special_tokens=True)\n",
        "\n",
        "# 결과 출력\n",
        "print(\"입력 문장:\", test_sentence)\n",
        "print(\"모델 출력:\", decoded_output)"
      ]
    },
    {
      "cell_type": "code",
      "execution_count": null,
      "metadata": {
        "id": "eoUGaZDDTyL0"
      },
      "outputs": [],
      "source": [
        "import torch\n",
        "device = torch.device(\"cuda\") if torch.cuda.is_available() else torch.device(\"cpu\")"
      ]
    },
    {
      "cell_type": "code",
      "execution_count": null,
      "metadata": {
        "id": "bsgajfW1TyL2",
        "outputId": "43340619-4df1-47b2-ef64-3291b619d120"
      },
      "outputs": [
        {
          "data": {
            "text/plain": [
              "device(type='cuda')"
            ]
          },
          "execution_count": 67,
          "metadata": {},
          "output_type": "execute_result"
        }
      ],
      "source": [
        "device"
      ]
    },
    {
      "cell_type": "code",
      "execution_count": null,
      "metadata": {
        "id": "uBG0WzY5jMTL"
      },
      "outputs": [],
      "source": [
        "def diary_summary(text, label):\n",
        "  # Encode input text\n",
        "  input_ids = tokenizer.encode(text, return_tensors = 'pt').to(device)\n",
        "  # Generate summary text ids\n",
        "  summary_text_ids = model.generate(input_ids = input_ids,\n",
        "                                    bos_token_id = model.config.bos_token_id,\n",
        "                                    eos_token_id = model.config.eos_token_id,\n",
        "                                    length_penalty = 2.0,\n",
        "                                    max_length = 150,\n",
        "                                    num_beams = 2)\n",
        "  print(\"원문:\", text, '\\n')\n",
        "  print(\"label:\", label, '\\n')\n",
        "  print(\"요약본:\",tokenizer.decode(summary_text_ids[0], skip_special_tokens = True))"
      ]
    },
    {
      "cell_type": "code",
      "execution_count": null,
      "metadata": {
        "colab": {
          "base_uri": "https://localhost:8080/"
        },
        "id": "9shx2Ig2TP2X",
        "outputId": "f54968f0-2fce-49ce-ece8-f837dd555765"
      },
      "outputs": [
        {
          "name": "stdout",
          "output_type": "stream",
          "text": [
            "원문: 20대 후반에 접어들면서 가족과의 관계가 어떻게 변화하는지를 느낄 수 있었어.어린 시절에는 가족이 늘 내 곁에 있었고, 그들이 나의 세계였지만, 성장하며 서로의 삶에서 독립해가면서 가족과의 깊이 있는 소통이 적어지는 것을 느꼈어.바쁜 일상에 치여 가족과의 시간을 소중히 하지 못하거나, 서로의 이해와 관심이 부족한 순간들이 생기기도 했어.그러나 가족은 여전히 내게 가장 큰 힘이자 안정감을 준다는 것을 알게 되었어.성인으로서의 변화를 겪으면서 가족과의 관계도 성숙해지고 깊어져야 한다는 생각이 들었어.서로의 시간을 존중하고 소통을 통해 서로에게 관심과 사랑을 보여주는 것이 중요하다는 것을 깨달았어.가족과 함께하는 소중한 순간들을 더욱 소중히 여기고, 서로에게 더욱 배려하며 지내려고 다짐했어. \n",
            "\n",
            "label: 20대 후반에서는 가족과의 관계가 성인으로서의 변화를 경험하게 되었어요. 서로의 시간과 관심을 존중하며 소통하는 것이 중요하다는 것을 깨달았고, 가족과의 소중한 순간들을 더욱 소중히 여기고자 다짐했어요. \n",
            "\n",
            "요약본: 성인으로서의 변화를 겪으면서 가족과의 관계도 성숙해지고 깊어진다는 것을 깨달았어요. 가족과의 깊이 있는 소통이 적어지는 것을 느꼈지만, 가족과의 소중한 순간들을 소중히 여기고 서로를 배려하며 지내려고 다짐했어요.\n"
          ]
        }
      ],
      "source": [
        "diary_summary(diary_dataset['test']['diary'][0], diary_dataset['test']['summary'][0])"
      ]
    },
    {
      "cell_type": "code",
      "execution_count": null,
      "metadata": {
        "id": "nQbe0r0kTyL7",
        "outputId": "54e16be5-84ba-4c81-952c-9f1c6714e0c1"
      },
      "outputs": [
        {
          "name": "stdout",
          "output_type": "stream",
          "text": [
            "원문: 20대는 많은 변화와 도전이 있었지만, 그 과정에서 성장하고 성숙해질 수 있었어.어려움과 실패를 겪으며 내 안에서 강해질 수 있었고, 자신을 믿고 꿈을 향해 나아갈 수 있는 용기를 얻었어.지금은 과거의 경험들을 토대로 앞으로의 계획을 세우고 있다.앞으로는 보다 더 명확한 목표를 가지고 꾸준히 노력하고 성장하고 싶어.개인적인 발전은 물론, 사회적인 영향력을 키우고자 하는 마음도 크다.동시에 가족과의 연결을 더욱 깊게 다지고, 소중한 인간관계를 소중히 여기고 싶다.또한, 새로운 도전과 경험을 통해 자신을 발전시키며, 다양한 분야에서 성장할 수 있는 기회를 찾고자 한다.20대를 마무리하며 얻은 성숙함과 앞으로의 계획을 토대로 더 나은 미래를 향해 나아가고 싶어. \n",
            "\n",
            "label: 20대를 마무리하며 얻은 성숙함과 앞으로의 계획에 대해 생각하게 되었어요. 명확한 목표를 가지고 꾸준한 노력과 성장을 통해 개인적인 발전과 사회적인 영향력을 키우고자 하며, 가족과의 연결과 소중한 인간관계를 소중히 여기고 새로운 도전과 경험을 통해 더 나은 미래를 향해 나아가고 싶어요. \n",
            "\n",
            "요약본: 20대를 마무리하며 얻은 성숙함과 앞으로의 계획에 대해 이야기했어. 개인적인 발전과 사회적인 영향력을 키우며 성장하고 싶고, 새로운 도전과 경험을 통해 발전하고 싶다.\n"
          ]
        }
      ],
      "source": [
        "diary_summary(diary_dataset['test']['diary'][1], diary_dataset['test']['summary'][1])"
      ]
    },
    {
      "cell_type": "code",
      "execution_count": null,
      "metadata": {
        "id": "aY5nU_zYTyL8",
        "outputId": "33b1616e-4b59-4c36-9127-a97f7aa76b28"
      },
      "outputs": [
        {
          "name": "stdout",
          "output_type": "stream",
          "text": [
            "원문: 20대는 많은 경험과 도전을 통해 내가 어떻게 변화하고 성장했는지를 되새겨보는 시간이었어.처음에는 불안과 두려움으로 가득 찼지만, 그 과정에서 내가 무엇을 좋아하고 어떤 가치를 중요시하는지를 발견할 수 있었어.실패와 어려움을 겪으면서 내 안에 있는 강인함과 인내력을 발견했고, 문제 해결과 책임감을 키울 수 있었어.또한, 사회적인 관계에서도 성숙해지며 서로에 대한 이해와 배려를 더욱 중요시하게 되었어.가족과의 연결과 소중한 인간관계를 더욱 소중히 여기며, 사랑과 감사의 뜻을 전할 수 있는 시간을 소중히 여기게 되었어.20대를 통해 얻은 소중한 경험과 변화를 늘 기억하며, 앞으로의 삶에서도 이를 바탕으로 더 나은 사람이 되고 싶어. \n",
            "\n",
            "label: 20대를 통해 배운 것과 변화한 것을 돌아보며 소중함을 느꼈어요. 실패와 어려움을 통해 내 안의 강인함과 책임감을 발견하고, 사회적인 관계에서 성숙해지며 가족과의 연결과 소중한 인간관계를 더욱 소중히 여기게 되었어요. \n",
            "\n",
            "요약본: 20대를 통해 얻은 소중한 경험과 변화에 대해 생각하며, 사회적인 관계에서도 성장하고 발전하는 시간을 가졌어요. 실패와 어려움을 겪으면서 강인함과 인내력을 발견하고 문제 해결과 책임감을 키울 수 있었어요. 가족과의 연결과 소중한 인간관계를 소중히 여기며 사랑과 감사의 뜻을 전하는 시간을 소중히 여기게 되었어요.\n"
          ]
        }
      ],
      "source": [
        "diary_summary(diary_dataset['test']['diary'][2], diary_dataset['test']['summary'][2])"
      ]
    },
    {
      "cell_type": "code",
      "execution_count": null,
      "metadata": {
        "id": "7d9PE92NTyL9"
      },
      "outputs": [],
      "source": [
        "import nltk\n",
        "from nltk.translate.bleu_score import corpus_bleu"
      ]
    },
    {
      "cell_type": "code",
      "source": [
        "sent1 = \"20대를 통해 배운 것과 변화한 것을 돌아보며 소중함을 느꼈어요. 실패와 어려움을 통해 내 안의 강인함과 책임감을 발견하고, 사회적인 관계에서 성숙해지며 가족과의 연결과 소중한 인간관계를 더욱 소중히 여기게 되었어요.\"\n",
        "sent2 = \"20대를 통해 얻은 소중한 경험과 변화에 대해 생각하며, 사회적인 관계에서도 성장하고 발전하는 시간을 가졌어요. 실패와 어려움을 겪으면서 강인함과 인내력을 발견하고 문제 해결과 책임감을 키울 수 있었어요. 가족과의 연결과 소중한 인간관계를 소중히 여기며 사랑과 감사의 뜻을 전하는 시간을 소중히 여기게 되었어요.\""
      ],
      "metadata": {
        "id": "as5kra4vYl5d"
      },
      "execution_count": null,
      "outputs": []
    },
    {
      "cell_type": "code",
      "source": [
        "round(corpus_bleu(sent1.split(\" \"), sent2.split(\" \")), 4)"
      ],
      "metadata": {
        "colab": {
          "base_uri": "https://localhost:8080/",
          "height": 313
        },
        "id": "2z-KII3vYiPY",
        "outputId": "c4435857-db0d-4038-80fd-9d514c009afa"
      },
      "execution_count": null,
      "outputs": [
        {
          "output_type": "error",
          "ename": "AssertionError",
          "evalue": "The number of hypotheses and their reference(s) should be the same ",
          "traceback": [
            "\u001b[0;31m---------------------------------------------------------------------------\u001b[0m",
            "\u001b[0;31mAssertionError\u001b[0m                            Traceback (most recent call last)",
            "\u001b[0;32m<ipython-input-4-cab04f5b65e4>\u001b[0m in \u001b[0;36m<cell line: 1>\u001b[0;34m()\u001b[0m\n\u001b[0;32m----> 1\u001b[0;31m \u001b[0mround\u001b[0m\u001b[0;34m(\u001b[0m\u001b[0mcorpus_bleu\u001b[0m\u001b[0;34m(\u001b[0m\u001b[0msent1\u001b[0m\u001b[0;34m.\u001b[0m\u001b[0msplit\u001b[0m\u001b[0;34m(\u001b[0m\u001b[0;34m\" \"\u001b[0m\u001b[0;34m)\u001b[0m\u001b[0;34m,\u001b[0m \u001b[0msent2\u001b[0m\u001b[0;34m.\u001b[0m\u001b[0msplit\u001b[0m\u001b[0;34m(\u001b[0m\u001b[0;34m\" \"\u001b[0m\u001b[0;34m)\u001b[0m\u001b[0;34m)\u001b[0m\u001b[0;34m,\u001b[0m \u001b[0;36m4\u001b[0m\u001b[0;34m)\u001b[0m\u001b[0;34m\u001b[0m\u001b[0;34m\u001b[0m\u001b[0m\n\u001b[0m",
            "\u001b[0;32m/usr/local/lib/python3.10/dist-packages/nltk/translate/bleu_score.py\u001b[0m in \u001b[0;36mcorpus_bleu\u001b[0;34m(list_of_references, hypotheses, weights, smoothing_function, auto_reweigh)\u001b[0m\n\u001b[1;32m    193\u001b[0m     \u001b[0mhyp_lengths\u001b[0m\u001b[0;34m,\u001b[0m \u001b[0mref_lengths\u001b[0m \u001b[0;34m=\u001b[0m \u001b[0;36m0\u001b[0m\u001b[0;34m,\u001b[0m \u001b[0;36m0\u001b[0m\u001b[0;34m\u001b[0m\u001b[0;34m\u001b[0m\u001b[0m\n\u001b[1;32m    194\u001b[0m \u001b[0;34m\u001b[0m\u001b[0m\n\u001b[0;32m--> 195\u001b[0;31m     assert len(list_of_references) == len(hypotheses), (\n\u001b[0m\u001b[1;32m    196\u001b[0m         \u001b[0;34m\"The number of hypotheses and their reference(s) should be the \"\u001b[0m \u001b[0;34m\"same \"\u001b[0m\u001b[0;34m\u001b[0m\u001b[0;34m\u001b[0m\u001b[0m\n\u001b[1;32m    197\u001b[0m     )\n",
            "\u001b[0;31mAssertionError\u001b[0m: The number of hypotheses and their reference(s) should be the same "
          ]
        }
      ]
    },
    {
      "cell_type": "code",
      "source": [
        "import nltk.translate.bleu_score as bleu\n",
        "\n",
        "candidate = 'It is a guide to action which ensures that the military always obeys the commands of the party'\n",
        "references = [\n",
        "    'It is a guide to action that ensures that the military will forever heed Party commands',\n",
        "    'It is the guiding principle which guarantees the military forces always being under the command of the Party',\n",
        "    'It is the practical guide for the army always to heed the directions of the party'\n",
        "]\n",
        "\n",
        "\n",
        "bleu.sentence_bleu(list(map(lambda ref: ref.split(), references)),candidate.split())"
      ],
      "metadata": {
        "id": "bw4rIJDOYrzT"
      },
      "execution_count": null,
      "outputs": []
    },
    {
      "cell_type": "code",
      "source": [],
      "metadata": {
        "id": "-O-I_pppbeeS"
      },
      "execution_count": null,
      "outputs": []
    }
  ],
  "metadata": {
    "accelerator": "GPU",
    "colab": {
      "gpuType": "T4",
      "provenance": []
    },
    "kernelspec": {
      "display_name": "Python 3 (ipykernel)",
      "language": "python",
      "name": "python3"
    },
    "language_info": {
      "codemirror_mode": {
        "name": "ipython",
        "version": 3
      },
      "file_extension": ".py",
      "mimetype": "text/x-python",
      "name": "python",
      "nbconvert_exporter": "python",
      "pygments_lexer": "ipython3",
      "version": "3.11.5"
    },
    "widgets": {
      "application/vnd.jupyter.widget-state+json": {
        "037d2b5b407b48f0958054fa4d890cb3": {
          "model_module": "@jupyter-widgets/base",
          "model_module_version": "1.2.0",
          "model_name": "LayoutModel",
          "state": {
            "_model_module": "@jupyter-widgets/base",
            "_model_module_version": "1.2.0",
            "_model_name": "LayoutModel",
            "_view_count": null,
            "_view_module": "@jupyter-widgets/base",
            "_view_module_version": "1.2.0",
            "_view_name": "LayoutView",
            "align_content": null,
            "align_items": null,
            "align_self": null,
            "border": null,
            "bottom": null,
            "display": null,
            "flex": null,
            "flex_flow": null,
            "grid_area": null,
            "grid_auto_columns": null,
            "grid_auto_flow": null,
            "grid_auto_rows": null,
            "grid_column": null,
            "grid_gap": null,
            "grid_row": null,
            "grid_template_areas": null,
            "grid_template_columns": null,
            "grid_template_rows": null,
            "height": null,
            "justify_content": null,
            "justify_items": null,
            "left": null,
            "margin": null,
            "max_height": null,
            "max_width": null,
            "min_height": null,
            "min_width": null,
            "object_fit": null,
            "object_position": null,
            "order": null,
            "overflow": null,
            "overflow_x": null,
            "overflow_y": null,
            "padding": null,
            "right": null,
            "top": null,
            "visibility": null,
            "width": null
          }
        },
        "03de6c6adbc34e7493ea8295092827a2": {
          "model_module": "@jupyter-widgets/controls",
          "model_module_version": "1.5.0",
          "model_name": "HTMLModel",
          "state": {
            "_dom_classes": [],
            "_model_module": "@jupyter-widgets/controls",
            "_model_module_version": "1.5.0",
            "_model_name": "HTMLModel",
            "_view_count": null,
            "_view_module": "@jupyter-widgets/controls",
            "_view_module_version": "1.5.0",
            "_view_name": "HTMLView",
            "description": "",
            "description_tooltip": null,
            "layout": "IPY_MODEL_037d2b5b407b48f0958054fa4d890cb3",
            "placeholder": "​",
            "style": "IPY_MODEL_3e51a704817d4c2eba19b6b4bd306938",
            "value": "added_tokens.json: 100%"
          }
        },
        "0b76d000fbff475c990bbf77c6e7555a": {
          "model_module": "@jupyter-widgets/base",
          "model_module_version": "1.2.0",
          "model_name": "LayoutModel",
          "state": {
            "_model_module": "@jupyter-widgets/base",
            "_model_module_version": "1.2.0",
            "_model_name": "LayoutModel",
            "_view_count": null,
            "_view_module": "@jupyter-widgets/base",
            "_view_module_version": "1.2.0",
            "_view_name": "LayoutView",
            "align_content": null,
            "align_items": null,
            "align_self": null,
            "border": null,
            "bottom": null,
            "display": null,
            "flex": null,
            "flex_flow": null,
            "grid_area": null,
            "grid_auto_columns": null,
            "grid_auto_flow": null,
            "grid_auto_rows": null,
            "grid_column": null,
            "grid_gap": null,
            "grid_row": null,
            "grid_template_areas": null,
            "grid_template_columns": null,
            "grid_template_rows": null,
            "height": null,
            "justify_content": null,
            "justify_items": null,
            "left": null,
            "margin": null,
            "max_height": null,
            "max_width": null,
            "min_height": null,
            "min_width": null,
            "object_fit": null,
            "object_position": null,
            "order": null,
            "overflow": null,
            "overflow_x": null,
            "overflow_y": null,
            "padding": null,
            "right": null,
            "top": null,
            "visibility": null,
            "width": null
          }
        },
        "146f187648af49c7a7adc98ced1ef77c": {
          "model_module": "@jupyter-widgets/controls",
          "model_module_version": "1.5.0",
          "model_name": "FloatProgressModel",
          "state": {
            "_dom_classes": [],
            "_model_module": "@jupyter-widgets/controls",
            "_model_module_version": "1.5.0",
            "_model_name": "FloatProgressModel",
            "_view_count": null,
            "_view_module": "@jupyter-widgets/controls",
            "_view_module_version": "1.5.0",
            "_view_name": "ProgressView",
            "bar_style": "success",
            "description": "",
            "description_tooltip": null,
            "layout": "IPY_MODEL_f1137a7ddb884e779f24abc0513d9169",
            "max": 446274,
            "min": 0,
            "orientation": "horizontal",
            "style": "IPY_MODEL_dda07c5e60464993bf91a466028a7bca",
            "value": 446274
          }
        },
        "14cec76fd02b4493b2f02224e83ef3a2": {
          "model_module": "@jupyter-widgets/base",
          "model_module_version": "1.2.0",
          "model_name": "LayoutModel",
          "state": {
            "_model_module": "@jupyter-widgets/base",
            "_model_module_version": "1.2.0",
            "_model_name": "LayoutModel",
            "_view_count": null,
            "_view_module": "@jupyter-widgets/base",
            "_view_module_version": "1.2.0",
            "_view_name": "LayoutView",
            "align_content": null,
            "align_items": null,
            "align_self": null,
            "border": null,
            "bottom": null,
            "display": null,
            "flex": null,
            "flex_flow": null,
            "grid_area": null,
            "grid_auto_columns": null,
            "grid_auto_flow": null,
            "grid_auto_rows": null,
            "grid_column": null,
            "grid_gap": null,
            "grid_row": null,
            "grid_template_areas": null,
            "grid_template_columns": null,
            "grid_template_rows": null,
            "height": null,
            "justify_content": null,
            "justify_items": null,
            "left": null,
            "margin": null,
            "max_height": null,
            "max_width": null,
            "min_height": null,
            "min_width": null,
            "object_fit": null,
            "object_position": null,
            "order": null,
            "overflow": null,
            "overflow_x": null,
            "overflow_y": null,
            "padding": null,
            "right": null,
            "top": null,
            "visibility": null,
            "width": null
          }
        },
        "1574aca4deb54f2a885178669daeee42": {
          "model_module": "@jupyter-widgets/controls",
          "model_module_version": "1.5.0",
          "model_name": "FloatProgressModel",
          "state": {
            "_dom_classes": [],
            "_model_module": "@jupyter-widgets/controls",
            "_model_module_version": "1.5.0",
            "_model_name": "FloatProgressModel",
            "_view_count": null,
            "_view_module": "@jupyter-widgets/controls",
            "_view_module_version": "1.5.0",
            "_view_name": "ProgressView",
            "bar_style": "success",
            "description": "",
            "description_tooltip": null,
            "layout": "IPY_MODEL_c2cab8d046c540c2bef5d7efc713532f",
            "max": 4,
            "min": 0,
            "orientation": "horizontal",
            "style": "IPY_MODEL_eecb1860897f4266809b633fd55c1bd2",
            "value": 4
          }
        },
        "18eeb466432441b095123c5eec4f71ed": {
          "model_module": "@jupyter-widgets/controls",
          "model_module_version": "1.5.0",
          "model_name": "DescriptionStyleModel",
          "state": {
            "_model_module": "@jupyter-widgets/controls",
            "_model_module_version": "1.5.0",
            "_model_name": "DescriptionStyleModel",
            "_view_count": null,
            "_view_module": "@jupyter-widgets/base",
            "_view_module_version": "1.2.0",
            "_view_name": "StyleView",
            "description_width": ""
          }
        },
        "1976b9e504f04daebfee6a699609be54": {
          "model_module": "@jupyter-widgets/controls",
          "model_module_version": "1.5.0",
          "model_name": "HBoxModel",
          "state": {
            "_dom_classes": [],
            "_model_module": "@jupyter-widgets/controls",
            "_model_module_version": "1.5.0",
            "_model_name": "HBoxModel",
            "_view_count": null,
            "_view_module": "@jupyter-widgets/controls",
            "_view_module_version": "1.5.0",
            "_view_name": "HBoxView",
            "box_style": "",
            "children": [
              "IPY_MODEL_40a12e3f131e4f9191b6e91ffd2f337d",
              "IPY_MODEL_2fa57f43202049a29c363d7d14d1a3a9",
              "IPY_MODEL_abd9b127d42c462fbef14f2966c128d3"
            ],
            "layout": "IPY_MODEL_82a448bff8b04d0c9f658817542df57e"
          }
        },
        "1b86b6f735d6488da7edf23a02785b88": {
          "model_module": "@jupyter-widgets/controls",
          "model_module_version": "1.5.0",
          "model_name": "HTMLModel",
          "state": {
            "_dom_classes": [],
            "_model_module": "@jupyter-widgets/controls",
            "_model_module_version": "1.5.0",
            "_model_name": "HTMLModel",
            "_view_count": null,
            "_view_module": "@jupyter-widgets/controls",
            "_view_module_version": "1.5.0",
            "_view_name": "HTMLView",
            "description": "",
            "description_tooltip": null,
            "layout": "IPY_MODEL_484f075859ce4450b2f73cf014733ce0",
            "placeholder": "​",
            "style": "IPY_MODEL_340ff6a983dc4d59b9089411060c43d2",
            "value": " 111/111 [00:00&lt;00:00, 3.39kB/s]"
          }
        },
        "23b3a53548bf46fab631840438fcd803": {
          "model_module": "@jupyter-widgets/controls",
          "model_module_version": "1.5.0",
          "model_name": "ProgressStyleModel",
          "state": {
            "_model_module": "@jupyter-widgets/controls",
            "_model_module_version": "1.5.0",
            "_model_name": "ProgressStyleModel",
            "_view_count": null,
            "_view_module": "@jupyter-widgets/base",
            "_view_module_version": "1.2.0",
            "_view_name": "StyleView",
            "bar_color": null,
            "description_width": ""
          }
        },
        "25963147ccd04e4cbbef5c670344cbea": {
          "model_module": "@jupyter-widgets/base",
          "model_module_version": "1.2.0",
          "model_name": "LayoutModel",
          "state": {
            "_model_module": "@jupyter-widgets/base",
            "_model_module_version": "1.2.0",
            "_model_name": "LayoutModel",
            "_view_count": null,
            "_view_module": "@jupyter-widgets/base",
            "_view_module_version": "1.2.0",
            "_view_name": "LayoutView",
            "align_content": null,
            "align_items": null,
            "align_self": null,
            "border": null,
            "bottom": null,
            "display": null,
            "flex": null,
            "flex_flow": null,
            "grid_area": null,
            "grid_auto_columns": null,
            "grid_auto_flow": null,
            "grid_auto_rows": null,
            "grid_column": null,
            "grid_gap": null,
            "grid_row": null,
            "grid_template_areas": null,
            "grid_template_columns": null,
            "grid_template_rows": null,
            "height": null,
            "justify_content": null,
            "justify_items": null,
            "left": null,
            "margin": null,
            "max_height": null,
            "max_width": null,
            "min_height": null,
            "min_width": null,
            "object_fit": null,
            "object_position": null,
            "order": null,
            "overflow": null,
            "overflow_x": null,
            "overflow_y": null,
            "padding": null,
            "right": null,
            "top": null,
            "visibility": null,
            "width": null
          }
        },
        "2718d3d4fc914b04bb733c78bf1cdbc7": {
          "model_module": "@jupyter-widgets/controls",
          "model_module_version": "1.5.0",
          "model_name": "HTMLModel",
          "state": {
            "_dom_classes": [],
            "_model_module": "@jupyter-widgets/controls",
            "_model_module_version": "1.5.0",
            "_model_name": "HTMLModel",
            "_view_count": null,
            "_view_module": "@jupyter-widgets/controls",
            "_view_module_version": "1.5.0",
            "_view_name": "HTMLView",
            "description": "",
            "description_tooltip": null,
            "layout": "IPY_MODEL_3162f1fe437d4b21bec87204b176d1c2",
            "placeholder": "​",
            "style": "IPY_MODEL_ac2f5cdde9e9471f8c7776477131ebbe",
            "value": "Downloading builder script: "
          }
        },
        "2bdb8408dd79460ebc7cffe78f33cc3f": {
          "model_module": "@jupyter-widgets/base",
          "model_module_version": "1.2.0",
          "model_name": "LayoutModel",
          "state": {
            "_model_module": "@jupyter-widgets/base",
            "_model_module_version": "1.2.0",
            "_model_name": "LayoutModel",
            "_view_count": null,
            "_view_module": "@jupyter-widgets/base",
            "_view_module_version": "1.2.0",
            "_view_name": "LayoutView",
            "align_content": null,
            "align_items": null,
            "align_self": null,
            "border": null,
            "bottom": null,
            "display": null,
            "flex": null,
            "flex_flow": null,
            "grid_area": null,
            "grid_auto_columns": null,
            "grid_auto_flow": null,
            "grid_auto_rows": null,
            "grid_column": null,
            "grid_gap": null,
            "grid_row": null,
            "grid_template_areas": null,
            "grid_template_columns": null,
            "grid_template_rows": null,
            "height": null,
            "justify_content": null,
            "justify_items": null,
            "left": null,
            "margin": null,
            "max_height": null,
            "max_width": null,
            "min_height": null,
            "min_width": null,
            "object_fit": null,
            "object_position": null,
            "order": null,
            "overflow": null,
            "overflow_x": null,
            "overflow_y": null,
            "padding": null,
            "right": null,
            "top": null,
            "visibility": null,
            "width": null
          }
        },
        "2ecb469f91e2498299fedcb16bd307ea": {
          "model_module": "@jupyter-widgets/controls",
          "model_module_version": "1.5.0",
          "model_name": "HBoxModel",
          "state": {
            "_dom_classes": [],
            "_model_module": "@jupyter-widgets/controls",
            "_model_module_version": "1.5.0",
            "_model_name": "HBoxModel",
            "_view_count": null,
            "_view_module": "@jupyter-widgets/controls",
            "_view_module_version": "1.5.0",
            "_view_name": "HBoxView",
            "box_style": "",
            "children": [
              "IPY_MODEL_46cedd14ad1a434883e8c4b1abc70c78",
              "IPY_MODEL_146f187648af49c7a7adc98ced1ef77c",
              "IPY_MODEL_8e68ece24b67426a9a0bbf887ac26d9e"
            ],
            "layout": "IPY_MODEL_aae25082c10e4276a821a6ede469728e"
          }
        },
        "2fa57f43202049a29c363d7d14d1a3a9": {
          "model_module": "@jupyter-widgets/controls",
          "model_module_version": "1.5.0",
          "model_name": "FloatProgressModel",
          "state": {
            "_dom_classes": [],
            "_model_module": "@jupyter-widgets/controls",
            "_model_module_version": "1.5.0",
            "_model_name": "FloatProgressModel",
            "_view_count": null,
            "_view_module": "@jupyter-widgets/controls",
            "_view_module_version": "1.5.0",
            "_view_name": "ProgressView",
            "bar_style": "success",
            "description": "",
            "description_tooltip": null,
            "layout": "IPY_MODEL_a2a6472784fa4a249bf6e05a14dd6e1e",
            "max": 176512,
            "min": 0,
            "orientation": "horizontal",
            "style": "IPY_MODEL_7c192691893649efba687da002e2a0f1",
            "value": 176512
          }
        },
        "3162f1fe437d4b21bec87204b176d1c2": {
          "model_module": "@jupyter-widgets/base",
          "model_module_version": "1.2.0",
          "model_name": "LayoutModel",
          "state": {
            "_model_module": "@jupyter-widgets/base",
            "_model_module_version": "1.2.0",
            "_model_name": "LayoutModel",
            "_view_count": null,
            "_view_module": "@jupyter-widgets/base",
            "_view_module_version": "1.2.0",
            "_view_name": "LayoutView",
            "align_content": null,
            "align_items": null,
            "align_self": null,
            "border": null,
            "bottom": null,
            "display": null,
            "flex": null,
            "flex_flow": null,
            "grid_area": null,
            "grid_auto_columns": null,
            "grid_auto_flow": null,
            "grid_auto_rows": null,
            "grid_column": null,
            "grid_gap": null,
            "grid_row": null,
            "grid_template_areas": null,
            "grid_template_columns": null,
            "grid_template_rows": null,
            "height": null,
            "justify_content": null,
            "justify_items": null,
            "left": null,
            "margin": null,
            "max_height": null,
            "max_width": null,
            "min_height": null,
            "min_width": null,
            "object_fit": null,
            "object_position": null,
            "order": null,
            "overflow": null,
            "overflow_x": null,
            "overflow_y": null,
            "padding": null,
            "right": null,
            "top": null,
            "visibility": null,
            "width": null
          }
        },
        "340ff6a983dc4d59b9089411060c43d2": {
          "model_module": "@jupyter-widgets/controls",
          "model_module_version": "1.5.0",
          "model_name": "DescriptionStyleModel",
          "state": {
            "_model_module": "@jupyter-widgets/controls",
            "_model_module_version": "1.5.0",
            "_model_name": "DescriptionStyleModel",
            "_view_count": null,
            "_view_module": "@jupyter-widgets/base",
            "_view_module_version": "1.2.0",
            "_view_name": "StyleView",
            "description_width": ""
          }
        },
        "3804927c76984fe7ae6dfe6a2dac8100": {
          "model_module": "@jupyter-widgets/base",
          "model_module_version": "1.2.0",
          "model_name": "LayoutModel",
          "state": {
            "_model_module": "@jupyter-widgets/base",
            "_model_module_version": "1.2.0",
            "_model_name": "LayoutModel",
            "_view_count": null,
            "_view_module": "@jupyter-widgets/base",
            "_view_module_version": "1.2.0",
            "_view_name": "LayoutView",
            "align_content": null,
            "align_items": null,
            "align_self": null,
            "border": null,
            "bottom": null,
            "display": null,
            "flex": null,
            "flex_flow": null,
            "grid_area": null,
            "grid_auto_columns": null,
            "grid_auto_flow": null,
            "grid_auto_rows": null,
            "grid_column": null,
            "grid_gap": null,
            "grid_row": null,
            "grid_template_areas": null,
            "grid_template_columns": null,
            "grid_template_rows": null,
            "height": null,
            "justify_content": null,
            "justify_items": null,
            "left": null,
            "margin": null,
            "max_height": null,
            "max_width": null,
            "min_height": null,
            "min_width": null,
            "object_fit": null,
            "object_position": null,
            "order": null,
            "overflow": null,
            "overflow_x": null,
            "overflow_y": null,
            "padding": null,
            "right": null,
            "top": null,
            "visibility": null,
            "width": null
          }
        },
        "3b06cfd9128d4da780638c6757514cf5": {
          "model_module": "@jupyter-widgets/base",
          "model_module_version": "1.2.0",
          "model_name": "LayoutModel",
          "state": {
            "_model_module": "@jupyter-widgets/base",
            "_model_module_version": "1.2.0",
            "_model_name": "LayoutModel",
            "_view_count": null,
            "_view_module": "@jupyter-widgets/base",
            "_view_module_version": "1.2.0",
            "_view_name": "LayoutView",
            "align_content": null,
            "align_items": null,
            "align_self": null,
            "border": null,
            "bottom": null,
            "display": null,
            "flex": null,
            "flex_flow": null,
            "grid_area": null,
            "grid_auto_columns": null,
            "grid_auto_flow": null,
            "grid_auto_rows": null,
            "grid_column": null,
            "grid_gap": null,
            "grid_row": null,
            "grid_template_areas": null,
            "grid_template_columns": null,
            "grid_template_rows": null,
            "height": null,
            "justify_content": null,
            "justify_items": null,
            "left": null,
            "margin": null,
            "max_height": null,
            "max_width": null,
            "min_height": null,
            "min_width": null,
            "object_fit": null,
            "object_position": null,
            "order": null,
            "overflow": null,
            "overflow_x": null,
            "overflow_y": null,
            "padding": null,
            "right": null,
            "top": null,
            "visibility": null,
            "width": null
          }
        },
        "3e51a704817d4c2eba19b6b4bd306938": {
          "model_module": "@jupyter-widgets/controls",
          "model_module_version": "1.5.0",
          "model_name": "DescriptionStyleModel",
          "state": {
            "_model_module": "@jupyter-widgets/controls",
            "_model_module_version": "1.5.0",
            "_model_name": "DescriptionStyleModel",
            "_view_count": null,
            "_view_module": "@jupyter-widgets/base",
            "_view_module_version": "1.2.0",
            "_view_name": "StyleView",
            "description_width": ""
          }
        },
        "401425aa395e49d2b7feef597505a7aa": {
          "model_module": "@jupyter-widgets/base",
          "model_module_version": "1.2.0",
          "model_name": "LayoutModel",
          "state": {
            "_model_module": "@jupyter-widgets/base",
            "_model_module_version": "1.2.0",
            "_model_name": "LayoutModel",
            "_view_count": null,
            "_view_module": "@jupyter-widgets/base",
            "_view_module_version": "1.2.0",
            "_view_name": "LayoutView",
            "align_content": null,
            "align_items": null,
            "align_self": null,
            "border": null,
            "bottom": null,
            "display": null,
            "flex": null,
            "flex_flow": null,
            "grid_area": null,
            "grid_auto_columns": null,
            "grid_auto_flow": null,
            "grid_auto_rows": null,
            "grid_column": null,
            "grid_gap": null,
            "grid_row": null,
            "grid_template_areas": null,
            "grid_template_columns": null,
            "grid_template_rows": null,
            "height": null,
            "justify_content": null,
            "justify_items": null,
            "left": null,
            "margin": null,
            "max_height": null,
            "max_width": null,
            "min_height": null,
            "min_width": null,
            "object_fit": null,
            "object_position": null,
            "order": null,
            "overflow": null,
            "overflow_x": null,
            "overflow_y": null,
            "padding": null,
            "right": null,
            "top": null,
            "visibility": null,
            "width": null
          }
        },
        "40a12e3f131e4f9191b6e91ffd2f337d": {
          "model_module": "@jupyter-widgets/controls",
          "model_module_version": "1.5.0",
          "model_name": "HTMLModel",
          "state": {
            "_dom_classes": [],
            "_model_module": "@jupyter-widgets/controls",
            "_model_module_version": "1.5.0",
            "_model_name": "HTMLModel",
            "_view_count": null,
            "_view_module": "@jupyter-widgets/controls",
            "_view_module_version": "1.5.0",
            "_view_name": "HTMLView",
            "description": "",
            "description_tooltip": null,
            "layout": "IPY_MODEL_9089d69fe23f48f49e697bfbf43767c1",
            "placeholder": "​",
            "style": "IPY_MODEL_18eeb466432441b095123c5eec4f71ed",
            "value": "merges.txt: 100%"
          }
        },
        "4614e8e607054ac2b1298bb95eb958ef": {
          "model_module": "@jupyter-widgets/base",
          "model_module_version": "1.2.0",
          "model_name": "LayoutModel",
          "state": {
            "_model_module": "@jupyter-widgets/base",
            "_model_module_version": "1.2.0",
            "_model_name": "LayoutModel",
            "_view_count": null,
            "_view_module": "@jupyter-widgets/base",
            "_view_module_version": "1.2.0",
            "_view_name": "LayoutView",
            "align_content": null,
            "align_items": null,
            "align_self": null,
            "border": null,
            "bottom": null,
            "display": null,
            "flex": null,
            "flex_flow": null,
            "grid_area": null,
            "grid_auto_columns": null,
            "grid_auto_flow": null,
            "grid_auto_rows": null,
            "grid_column": null,
            "grid_gap": null,
            "grid_row": null,
            "grid_template_areas": null,
            "grid_template_columns": null,
            "grid_template_rows": null,
            "height": null,
            "justify_content": null,
            "justify_items": null,
            "left": null,
            "margin": null,
            "max_height": null,
            "max_width": null,
            "min_height": null,
            "min_width": null,
            "object_fit": null,
            "object_position": null,
            "order": null,
            "overflow": null,
            "overflow_x": null,
            "overflow_y": null,
            "padding": null,
            "right": null,
            "top": null,
            "visibility": null,
            "width": null
          }
        },
        "46cedd14ad1a434883e8c4b1abc70c78": {
          "model_module": "@jupyter-widgets/controls",
          "model_module_version": "1.5.0",
          "model_name": "HTMLModel",
          "state": {
            "_dom_classes": [],
            "_model_module": "@jupyter-widgets/controls",
            "_model_module_version": "1.5.0",
            "_model_name": "HTMLModel",
            "_view_count": null,
            "_view_module": "@jupyter-widgets/controls",
            "_view_module_version": "1.5.0",
            "_view_name": "HTMLView",
            "description": "",
            "description_tooltip": null,
            "layout": "IPY_MODEL_5fea7aef38fd4df288ee46280e41a284",
            "placeholder": "​",
            "style": "IPY_MODEL_dc9a26f95e864ba282e19c182659f244",
            "value": "vocab.json: 100%"
          }
        },
        "47a59917c1924dfebb53c93975d0bef8": {
          "model_module": "@jupyter-widgets/base",
          "model_module_version": "1.2.0",
          "model_name": "LayoutModel",
          "state": {
            "_model_module": "@jupyter-widgets/base",
            "_model_module_version": "1.2.0",
            "_model_name": "LayoutModel",
            "_view_count": null,
            "_view_module": "@jupyter-widgets/base",
            "_view_module_version": "1.2.0",
            "_view_name": "LayoutView",
            "align_content": null,
            "align_items": null,
            "align_self": null,
            "border": null,
            "bottom": null,
            "display": null,
            "flex": null,
            "flex_flow": null,
            "grid_area": null,
            "grid_auto_columns": null,
            "grid_auto_flow": null,
            "grid_auto_rows": null,
            "grid_column": null,
            "grid_gap": null,
            "grid_row": null,
            "grid_template_areas": null,
            "grid_template_columns": null,
            "grid_template_rows": null,
            "height": null,
            "justify_content": null,
            "justify_items": null,
            "left": null,
            "margin": null,
            "max_height": null,
            "max_width": null,
            "min_height": null,
            "min_width": null,
            "object_fit": null,
            "object_position": null,
            "order": null,
            "overflow": null,
            "overflow_x": null,
            "overflow_y": null,
            "padding": null,
            "right": null,
            "top": null,
            "visibility": null,
            "width": null
          }
        },
        "484f075859ce4450b2f73cf014733ce0": {
          "model_module": "@jupyter-widgets/base",
          "model_module_version": "1.2.0",
          "model_name": "LayoutModel",
          "state": {
            "_model_module": "@jupyter-widgets/base",
            "_model_module_version": "1.2.0",
            "_model_name": "LayoutModel",
            "_view_count": null,
            "_view_module": "@jupyter-widgets/base",
            "_view_module_version": "1.2.0",
            "_view_name": "LayoutView",
            "align_content": null,
            "align_items": null,
            "align_self": null,
            "border": null,
            "bottom": null,
            "display": null,
            "flex": null,
            "flex_flow": null,
            "grid_area": null,
            "grid_auto_columns": null,
            "grid_auto_flow": null,
            "grid_auto_rows": null,
            "grid_column": null,
            "grid_gap": null,
            "grid_row": null,
            "grid_template_areas": null,
            "grid_template_columns": null,
            "grid_template_rows": null,
            "height": null,
            "justify_content": null,
            "justify_items": null,
            "left": null,
            "margin": null,
            "max_height": null,
            "max_width": null,
            "min_height": null,
            "min_width": null,
            "object_fit": null,
            "object_position": null,
            "order": null,
            "overflow": null,
            "overflow_x": null,
            "overflow_y": null,
            "padding": null,
            "right": null,
            "top": null,
            "visibility": null,
            "width": null
          }
        },
        "489ff84c756e401f808130f9ed4bad83": {
          "model_module": "@jupyter-widgets/controls",
          "model_module_version": "1.5.0",
          "model_name": "HTMLModel",
          "state": {
            "_dom_classes": [],
            "_model_module": "@jupyter-widgets/controls",
            "_model_module_version": "1.5.0",
            "_model_name": "HTMLModel",
            "_view_count": null,
            "_view_module": "@jupyter-widgets/controls",
            "_view_module_version": "1.5.0",
            "_view_name": "HTMLView",
            "description": "",
            "description_tooltip": null,
            "layout": "IPY_MODEL_5fc592582032489c91f515b26b63b4eb",
            "placeholder": "​",
            "style": "IPY_MODEL_62417e0e584140f887956ad5dad36ec5",
            "value": "special_tokens_map.json: 100%"
          }
        },
        "4c21eed6ab054834bff6bdf43450a8d9": {
          "model_module": "@jupyter-widgets/base",
          "model_module_version": "1.2.0",
          "model_name": "LayoutModel",
          "state": {
            "_model_module": "@jupyter-widgets/base",
            "_model_module_version": "1.2.0",
            "_model_name": "LayoutModel",
            "_view_count": null,
            "_view_module": "@jupyter-widgets/base",
            "_view_module_version": "1.2.0",
            "_view_name": "LayoutView",
            "align_content": null,
            "align_items": null,
            "align_self": null,
            "border": null,
            "bottom": null,
            "display": null,
            "flex": null,
            "flex_flow": null,
            "grid_area": null,
            "grid_auto_columns": null,
            "grid_auto_flow": null,
            "grid_auto_rows": null,
            "grid_column": null,
            "grid_gap": null,
            "grid_row": null,
            "grid_template_areas": null,
            "grid_template_columns": null,
            "grid_template_rows": null,
            "height": null,
            "justify_content": null,
            "justify_items": null,
            "left": null,
            "margin": null,
            "max_height": null,
            "max_width": null,
            "min_height": null,
            "min_width": null,
            "object_fit": null,
            "object_position": null,
            "order": null,
            "overflow": null,
            "overflow_x": null,
            "overflow_y": null,
            "padding": null,
            "right": null,
            "top": null,
            "visibility": null,
            "width": null
          }
        },
        "4ffb71b0e9eb4b7199c0284140c7acf0": {
          "model_module": "@jupyter-widgets/base",
          "model_module_version": "1.2.0",
          "model_name": "LayoutModel",
          "state": {
            "_model_module": "@jupyter-widgets/base",
            "_model_module_version": "1.2.0",
            "_model_name": "LayoutModel",
            "_view_count": null,
            "_view_module": "@jupyter-widgets/base",
            "_view_module_version": "1.2.0",
            "_view_name": "LayoutView",
            "align_content": null,
            "align_items": null,
            "align_self": null,
            "border": null,
            "bottom": null,
            "display": null,
            "flex": null,
            "flex_flow": null,
            "grid_area": null,
            "grid_auto_columns": null,
            "grid_auto_flow": null,
            "grid_auto_rows": null,
            "grid_column": null,
            "grid_gap": null,
            "grid_row": null,
            "grid_template_areas": null,
            "grid_template_columns": null,
            "grid_template_rows": null,
            "height": null,
            "justify_content": null,
            "justify_items": null,
            "left": null,
            "margin": null,
            "max_height": null,
            "max_width": null,
            "min_height": null,
            "min_width": null,
            "object_fit": null,
            "object_position": null,
            "order": null,
            "overflow": null,
            "overflow_x": null,
            "overflow_y": null,
            "padding": null,
            "right": null,
            "top": null,
            "visibility": null,
            "width": null
          }
        },
        "522a4d5a3d7f49ff8bd1bae29cd25018": {
          "model_module": "@jupyter-widgets/controls",
          "model_module_version": "1.5.0",
          "model_name": "DescriptionStyleModel",
          "state": {
            "_model_module": "@jupyter-widgets/controls",
            "_model_module_version": "1.5.0",
            "_model_name": "DescriptionStyleModel",
            "_view_count": null,
            "_view_module": "@jupyter-widgets/base",
            "_view_module_version": "1.2.0",
            "_view_name": "StyleView",
            "description_width": ""
          }
        },
        "5248eb11ffbd4c7ebd26d00397859dea": {
          "model_module": "@jupyter-widgets/controls",
          "model_module_version": "1.5.0",
          "model_name": "DescriptionStyleModel",
          "state": {
            "_model_module": "@jupyter-widgets/controls",
            "_model_module_version": "1.5.0",
            "_model_name": "DescriptionStyleModel",
            "_view_count": null,
            "_view_module": "@jupyter-widgets/base",
            "_view_module_version": "1.2.0",
            "_view_name": "StyleView",
            "description_width": ""
          }
        },
        "535a06a891864a6a80362409691fb059": {
          "model_module": "@jupyter-widgets/controls",
          "model_module_version": "1.5.0",
          "model_name": "ProgressStyleModel",
          "state": {
            "_model_module": "@jupyter-widgets/controls",
            "_model_module_version": "1.5.0",
            "_model_name": "ProgressStyleModel",
            "_view_count": null,
            "_view_module": "@jupyter-widgets/base",
            "_view_module_version": "1.2.0",
            "_view_name": "StyleView",
            "bar_color": null,
            "description_width": ""
          }
        },
        "56a223fc4e524943896af48242bed0e0": {
          "model_module": "@jupyter-widgets/controls",
          "model_module_version": "1.5.0",
          "model_name": "HBoxModel",
          "state": {
            "_dom_classes": [],
            "_model_module": "@jupyter-widgets/controls",
            "_model_module_version": "1.5.0",
            "_model_name": "HBoxModel",
            "_view_count": null,
            "_view_module": "@jupyter-widgets/controls",
            "_view_module_version": "1.5.0",
            "_view_name": "HBoxView",
            "box_style": "",
            "children": [
              "IPY_MODEL_2718d3d4fc914b04bb733c78bf1cdbc7",
              "IPY_MODEL_b0a9846ea70e428890817cf2b7b08350",
              "IPY_MODEL_8426c94bf6c94c68b9a1e712e8e6367f"
            ],
            "layout": "IPY_MODEL_3804927c76984fe7ae6dfe6a2dac8100"
          }
        },
        "579024447e9c4f21929c779204c6dab1": {
          "model_module": "@jupyter-widgets/controls",
          "model_module_version": "1.5.0",
          "model_name": "HBoxModel",
          "state": {
            "_dom_classes": [],
            "_model_module": "@jupyter-widgets/controls",
            "_model_module_version": "1.5.0",
            "_model_name": "HBoxModel",
            "_view_count": null,
            "_view_module": "@jupyter-widgets/controls",
            "_view_module_version": "1.5.0",
            "_view_name": "HBoxView",
            "box_style": "",
            "children": [
              "IPY_MODEL_489ff84c756e401f808130f9ed4bad83",
              "IPY_MODEL_8e4a6c6f37624b1f9bde1a4213b0ca4a",
              "IPY_MODEL_1b86b6f735d6488da7edf23a02785b88"
            ],
            "layout": "IPY_MODEL_eb46eca17fcf47cdafdaed4a41358462"
          }
        },
        "5fc592582032489c91f515b26b63b4eb": {
          "model_module": "@jupyter-widgets/base",
          "model_module_version": "1.2.0",
          "model_name": "LayoutModel",
          "state": {
            "_model_module": "@jupyter-widgets/base",
            "_model_module_version": "1.2.0",
            "_model_name": "LayoutModel",
            "_view_count": null,
            "_view_module": "@jupyter-widgets/base",
            "_view_module_version": "1.2.0",
            "_view_name": "LayoutView",
            "align_content": null,
            "align_items": null,
            "align_self": null,
            "border": null,
            "bottom": null,
            "display": null,
            "flex": null,
            "flex_flow": null,
            "grid_area": null,
            "grid_auto_columns": null,
            "grid_auto_flow": null,
            "grid_auto_rows": null,
            "grid_column": null,
            "grid_gap": null,
            "grid_row": null,
            "grid_template_areas": null,
            "grid_template_columns": null,
            "grid_template_rows": null,
            "height": null,
            "justify_content": null,
            "justify_items": null,
            "left": null,
            "margin": null,
            "max_height": null,
            "max_width": null,
            "min_height": null,
            "min_width": null,
            "object_fit": null,
            "object_position": null,
            "order": null,
            "overflow": null,
            "overflow_x": null,
            "overflow_y": null,
            "padding": null,
            "right": null,
            "top": null,
            "visibility": null,
            "width": null
          }
        },
        "5fea7aef38fd4df288ee46280e41a284": {
          "model_module": "@jupyter-widgets/base",
          "model_module_version": "1.2.0",
          "model_name": "LayoutModel",
          "state": {
            "_model_module": "@jupyter-widgets/base",
            "_model_module_version": "1.2.0",
            "_model_name": "LayoutModel",
            "_view_count": null,
            "_view_module": "@jupyter-widgets/base",
            "_view_module_version": "1.2.0",
            "_view_name": "LayoutView",
            "align_content": null,
            "align_items": null,
            "align_self": null,
            "border": null,
            "bottom": null,
            "display": null,
            "flex": null,
            "flex_flow": null,
            "grid_area": null,
            "grid_auto_columns": null,
            "grid_auto_flow": null,
            "grid_auto_rows": null,
            "grid_column": null,
            "grid_gap": null,
            "grid_row": null,
            "grid_template_areas": null,
            "grid_template_columns": null,
            "grid_template_rows": null,
            "height": null,
            "justify_content": null,
            "justify_items": null,
            "left": null,
            "margin": null,
            "max_height": null,
            "max_width": null,
            "min_height": null,
            "min_width": null,
            "object_fit": null,
            "object_position": null,
            "order": null,
            "overflow": null,
            "overflow_x": null,
            "overflow_y": null,
            "padding": null,
            "right": null,
            "top": null,
            "visibility": null,
            "width": null
          }
        },
        "62417e0e584140f887956ad5dad36ec5": {
          "model_module": "@jupyter-widgets/controls",
          "model_module_version": "1.5.0",
          "model_name": "DescriptionStyleModel",
          "state": {
            "_model_module": "@jupyter-widgets/controls",
            "_model_module_version": "1.5.0",
            "_model_name": "DescriptionStyleModel",
            "_view_count": null,
            "_view_module": "@jupyter-widgets/base",
            "_view_module_version": "1.2.0",
            "_view_name": "StyleView",
            "description_width": ""
          }
        },
        "64dd4dc945554328aaa700927a2e0fb8": {
          "model_module": "@jupyter-widgets/controls",
          "model_module_version": "1.5.0",
          "model_name": "HTMLModel",
          "state": {
            "_dom_classes": [],
            "_model_module": "@jupyter-widgets/controls",
            "_model_module_version": "1.5.0",
            "_model_name": "HTMLModel",
            "_view_count": null,
            "_view_module": "@jupyter-widgets/controls",
            "_view_module_version": "1.5.0",
            "_view_name": "HTMLView",
            "description": "",
            "description_tooltip": null,
            "layout": "IPY_MODEL_ea5a30bbd7dc4fa983f350b7a2ea295a",
            "placeholder": "​",
            "style": "IPY_MODEL_9371738beaf24f628161a9c69925d3e9",
            "value": "tokenizer.json: 100%"
          }
        },
        "7105a4b21c654f2e90b59d11a19dcb18": {
          "model_module": "@jupyter-widgets/controls",
          "model_module_version": "1.5.0",
          "model_name": "DescriptionStyleModel",
          "state": {
            "_model_module": "@jupyter-widgets/controls",
            "_model_module_version": "1.5.0",
            "_model_name": "DescriptionStyleModel",
            "_view_count": null,
            "_view_module": "@jupyter-widgets/base",
            "_view_module_version": "1.2.0",
            "_view_name": "StyleView",
            "description_width": ""
          }
        },
        "7299d2ed68fb487abd6aae308cbfac07": {
          "model_module": "@jupyter-widgets/base",
          "model_module_version": "1.2.0",
          "model_name": "LayoutModel",
          "state": {
            "_model_module": "@jupyter-widgets/base",
            "_model_module_version": "1.2.0",
            "_model_name": "LayoutModel",
            "_view_count": null,
            "_view_module": "@jupyter-widgets/base",
            "_view_module_version": "1.2.0",
            "_view_name": "LayoutView",
            "align_content": null,
            "align_items": null,
            "align_self": null,
            "border": null,
            "bottom": null,
            "display": null,
            "flex": null,
            "flex_flow": null,
            "grid_area": null,
            "grid_auto_columns": null,
            "grid_auto_flow": null,
            "grid_auto_rows": null,
            "grid_column": null,
            "grid_gap": null,
            "grid_row": null,
            "grid_template_areas": null,
            "grid_template_columns": null,
            "grid_template_rows": null,
            "height": null,
            "justify_content": null,
            "justify_items": null,
            "left": null,
            "margin": null,
            "max_height": null,
            "max_width": null,
            "min_height": null,
            "min_width": null,
            "object_fit": null,
            "object_position": null,
            "order": null,
            "overflow": null,
            "overflow_x": null,
            "overflow_y": null,
            "padding": null,
            "right": null,
            "top": null,
            "visibility": null,
            "width": null
          }
        },
        "77f52dc0669840c798814d6cab930d94": {
          "model_module": "@jupyter-widgets/controls",
          "model_module_version": "1.5.0",
          "model_name": "FloatProgressModel",
          "state": {
            "_dom_classes": [],
            "_model_module": "@jupyter-widgets/controls",
            "_model_module_version": "1.5.0",
            "_model_name": "FloatProgressModel",
            "_view_count": null,
            "_view_module": "@jupyter-widgets/controls",
            "_view_module_version": "1.5.0",
            "_view_name": "ProgressView",
            "bar_style": "success",
            "description": "",
            "description_tooltip": null,
            "layout": "IPY_MODEL_4ffb71b0e9eb4b7199c0284140c7acf0",
            "max": 1178,
            "min": 0,
            "orientation": "horizontal",
            "style": "IPY_MODEL_535a06a891864a6a80362409691fb059",
            "value": 1178
          }
        },
        "7c192691893649efba687da002e2a0f1": {
          "model_module": "@jupyter-widgets/controls",
          "model_module_version": "1.5.0",
          "model_name": "ProgressStyleModel",
          "state": {
            "_model_module": "@jupyter-widgets/controls",
            "_model_module_version": "1.5.0",
            "_model_name": "ProgressStyleModel",
            "_view_count": null,
            "_view_module": "@jupyter-widgets/base",
            "_view_module_version": "1.2.0",
            "_view_name": "StyleView",
            "bar_color": null,
            "description_width": ""
          }
        },
        "7c7aefcce742431f80e0c1a29ac59781": {
          "model_module": "@jupyter-widgets/base",
          "model_module_version": "1.2.0",
          "model_name": "LayoutModel",
          "state": {
            "_model_module": "@jupyter-widgets/base",
            "_model_module_version": "1.2.0",
            "_model_name": "LayoutModel",
            "_view_count": null,
            "_view_module": "@jupyter-widgets/base",
            "_view_module_version": "1.2.0",
            "_view_name": "LayoutView",
            "align_content": null,
            "align_items": null,
            "align_self": null,
            "border": null,
            "bottom": null,
            "display": null,
            "flex": null,
            "flex_flow": null,
            "grid_area": null,
            "grid_auto_columns": null,
            "grid_auto_flow": null,
            "grid_auto_rows": null,
            "grid_column": null,
            "grid_gap": null,
            "grid_row": null,
            "grid_template_areas": null,
            "grid_template_columns": null,
            "grid_template_rows": null,
            "height": null,
            "justify_content": null,
            "justify_items": null,
            "left": null,
            "margin": null,
            "max_height": null,
            "max_width": null,
            "min_height": null,
            "min_width": null,
            "object_fit": null,
            "object_position": null,
            "order": null,
            "overflow": null,
            "overflow_x": null,
            "overflow_y": null,
            "padding": null,
            "right": null,
            "top": null,
            "visibility": null,
            "width": null
          }
        },
        "82a448bff8b04d0c9f658817542df57e": {
          "model_module": "@jupyter-widgets/base",
          "model_module_version": "1.2.0",
          "model_name": "LayoutModel",
          "state": {
            "_model_module": "@jupyter-widgets/base",
            "_model_module_version": "1.2.0",
            "_model_name": "LayoutModel",
            "_view_count": null,
            "_view_module": "@jupyter-widgets/base",
            "_view_module_version": "1.2.0",
            "_view_name": "LayoutView",
            "align_content": null,
            "align_items": null,
            "align_self": null,
            "border": null,
            "bottom": null,
            "display": null,
            "flex": null,
            "flex_flow": null,
            "grid_area": null,
            "grid_auto_columns": null,
            "grid_auto_flow": null,
            "grid_auto_rows": null,
            "grid_column": null,
            "grid_gap": null,
            "grid_row": null,
            "grid_template_areas": null,
            "grid_template_columns": null,
            "grid_template_rows": null,
            "height": null,
            "justify_content": null,
            "justify_items": null,
            "left": null,
            "margin": null,
            "max_height": null,
            "max_width": null,
            "min_height": null,
            "min_width": null,
            "object_fit": null,
            "object_position": null,
            "order": null,
            "overflow": null,
            "overflow_x": null,
            "overflow_y": null,
            "padding": null,
            "right": null,
            "top": null,
            "visibility": null,
            "width": null
          }
        },
        "8426c94bf6c94c68b9a1e712e8e6367f": {
          "model_module": "@jupyter-widgets/controls",
          "model_module_version": "1.5.0",
          "model_name": "HTMLModel",
          "state": {
            "_dom_classes": [],
            "_model_module": "@jupyter-widgets/controls",
            "_model_module_version": "1.5.0",
            "_model_name": "HTMLModel",
            "_view_count": null,
            "_view_module": "@jupyter-widgets/controls",
            "_view_module_version": "1.5.0",
            "_view_name": "HTMLView",
            "description": "",
            "description_tooltip": null,
            "layout": "IPY_MODEL_f041c227fe3a429bbfa1746240d3bc7b",
            "placeholder": "​",
            "style": "IPY_MODEL_522a4d5a3d7f49ff8bd1bae29cd25018",
            "value": " 5.65k/? [00:00&lt;00:00, 239kB/s]"
          }
        },
        "8e4a6c6f37624b1f9bde1a4213b0ca4a": {
          "model_module": "@jupyter-widgets/controls",
          "model_module_version": "1.5.0",
          "model_name": "FloatProgressModel",
          "state": {
            "_dom_classes": [],
            "_model_module": "@jupyter-widgets/controls",
            "_model_module_version": "1.5.0",
            "_model_name": "FloatProgressModel",
            "_view_count": null,
            "_view_module": "@jupyter-widgets/controls",
            "_view_module_version": "1.5.0",
            "_view_name": "ProgressView",
            "bar_style": "success",
            "description": "",
            "description_tooltip": null,
            "layout": "IPY_MODEL_ff80c33c5dda43e4a7841f89afebb66c",
            "max": 111,
            "min": 0,
            "orientation": "horizontal",
            "style": "IPY_MODEL_bb9a55b8f662494d8c77870d26ebccd9",
            "value": 111
          }
        },
        "8e68ece24b67426a9a0bbf887ac26d9e": {
          "model_module": "@jupyter-widgets/controls",
          "model_module_version": "1.5.0",
          "model_name": "HTMLModel",
          "state": {
            "_dom_classes": [],
            "_model_module": "@jupyter-widgets/controls",
            "_model_module_version": "1.5.0",
            "_model_name": "HTMLModel",
            "_view_count": null,
            "_view_module": "@jupyter-widgets/controls",
            "_view_module_version": "1.5.0",
            "_view_name": "HTMLView",
            "description": "",
            "description_tooltip": null,
            "layout": "IPY_MODEL_2bdb8408dd79460ebc7cffe78f33cc3f",
            "placeholder": "​",
            "style": "IPY_MODEL_ef0fda371f4c4e9d956fa9c555d0bc5a",
            "value": " 446k/446k [00:00&lt;00:00, 1.79MB/s]"
          }
        },
        "9089d69fe23f48f49e697bfbf43767c1": {
          "model_module": "@jupyter-widgets/base",
          "model_module_version": "1.2.0",
          "model_name": "LayoutModel",
          "state": {
            "_model_module": "@jupyter-widgets/base",
            "_model_module_version": "1.2.0",
            "_model_name": "LayoutModel",
            "_view_count": null,
            "_view_module": "@jupyter-widgets/base",
            "_view_module_version": "1.2.0",
            "_view_name": "LayoutView",
            "align_content": null,
            "align_items": null,
            "align_self": null,
            "border": null,
            "bottom": null,
            "display": null,
            "flex": null,
            "flex_flow": null,
            "grid_area": null,
            "grid_auto_columns": null,
            "grid_auto_flow": null,
            "grid_auto_rows": null,
            "grid_column": null,
            "grid_gap": null,
            "grid_row": null,
            "grid_template_areas": null,
            "grid_template_columns": null,
            "grid_template_rows": null,
            "height": null,
            "justify_content": null,
            "justify_items": null,
            "left": null,
            "margin": null,
            "max_height": null,
            "max_width": null,
            "min_height": null,
            "min_width": null,
            "object_fit": null,
            "object_position": null,
            "order": null,
            "overflow": null,
            "overflow_x": null,
            "overflow_y": null,
            "padding": null,
            "right": null,
            "top": null,
            "visibility": null,
            "width": null
          }
        },
        "9371738beaf24f628161a9c69925d3e9": {
          "model_module": "@jupyter-widgets/controls",
          "model_module_version": "1.5.0",
          "model_name": "DescriptionStyleModel",
          "state": {
            "_model_module": "@jupyter-widgets/controls",
            "_model_module_version": "1.5.0",
            "_model_name": "DescriptionStyleModel",
            "_view_count": null,
            "_view_module": "@jupyter-widgets/base",
            "_view_module_version": "1.2.0",
            "_view_name": "StyleView",
            "description_width": ""
          }
        },
        "98de8760e3134e9b8776cf7e11773a6e": {
          "model_module": "@jupyter-widgets/controls",
          "model_module_version": "1.5.0",
          "model_name": "DescriptionStyleModel",
          "state": {
            "_model_module": "@jupyter-widgets/controls",
            "_model_module_version": "1.5.0",
            "_model_name": "DescriptionStyleModel",
            "_view_count": null,
            "_view_module": "@jupyter-widgets/base",
            "_view_module_version": "1.2.0",
            "_view_name": "StyleView",
            "description_width": ""
          }
        },
        "9a3bc82d2ff2465784a310a8e39665dd": {
          "model_module": "@jupyter-widgets/controls",
          "model_module_version": "1.5.0",
          "model_name": "DescriptionStyleModel",
          "state": {
            "_model_module": "@jupyter-widgets/controls",
            "_model_module_version": "1.5.0",
            "_model_name": "DescriptionStyleModel",
            "_view_count": null,
            "_view_module": "@jupyter-widgets/base",
            "_view_module_version": "1.2.0",
            "_view_name": "StyleView",
            "description_width": ""
          }
        },
        "a2a6472784fa4a249bf6e05a14dd6e1e": {
          "model_module": "@jupyter-widgets/base",
          "model_module_version": "1.2.0",
          "model_name": "LayoutModel",
          "state": {
            "_model_module": "@jupyter-widgets/base",
            "_model_module_version": "1.2.0",
            "_model_name": "LayoutModel",
            "_view_count": null,
            "_view_module": "@jupyter-widgets/base",
            "_view_module_version": "1.2.0",
            "_view_name": "LayoutView",
            "align_content": null,
            "align_items": null,
            "align_self": null,
            "border": null,
            "bottom": null,
            "display": null,
            "flex": null,
            "flex_flow": null,
            "grid_area": null,
            "grid_auto_columns": null,
            "grid_auto_flow": null,
            "grid_auto_rows": null,
            "grid_column": null,
            "grid_gap": null,
            "grid_row": null,
            "grid_template_areas": null,
            "grid_template_columns": null,
            "grid_template_rows": null,
            "height": null,
            "justify_content": null,
            "justify_items": null,
            "left": null,
            "margin": null,
            "max_height": null,
            "max_width": null,
            "min_height": null,
            "min_width": null,
            "object_fit": null,
            "object_position": null,
            "order": null,
            "overflow": null,
            "overflow_x": null,
            "overflow_y": null,
            "padding": null,
            "right": null,
            "top": null,
            "visibility": null,
            "width": null
          }
        },
        "a30d9f18c86a4c478ca891e5924ef1f3": {
          "model_module": "@jupyter-widgets/controls",
          "model_module_version": "1.5.0",
          "model_name": "HBoxModel",
          "state": {
            "_dom_classes": [],
            "_model_module": "@jupyter-widgets/controls",
            "_model_module_version": "1.5.0",
            "_model_name": "HBoxModel",
            "_view_count": null,
            "_view_module": "@jupyter-widgets/controls",
            "_view_module_version": "1.5.0",
            "_view_name": "HBoxView",
            "box_style": "",
            "children": [
              "IPY_MODEL_c7db145fc47f414690bcb3670b480d92",
              "IPY_MODEL_77f52dc0669840c798814d6cab930d94",
              "IPY_MODEL_a91bc975329a4c7b83f93f7321eb5f04"
            ],
            "layout": "IPY_MODEL_ccdb41166ed84ea1912f3c81c1ac59a2"
          }
        },
        "a91bc975329a4c7b83f93f7321eb5f04": {
          "model_module": "@jupyter-widgets/controls",
          "model_module_version": "1.5.0",
          "model_name": "HTMLModel",
          "state": {
            "_dom_classes": [],
            "_model_module": "@jupyter-widgets/controls",
            "_model_module_version": "1.5.0",
            "_model_name": "HTMLModel",
            "_view_count": null,
            "_view_module": "@jupyter-widgets/controls",
            "_view_module_version": "1.5.0",
            "_view_name": "HTMLView",
            "description": "",
            "description_tooltip": null,
            "layout": "IPY_MODEL_3b06cfd9128d4da780638c6757514cf5",
            "placeholder": "​",
            "style": "IPY_MODEL_baff1b1c20114bf59d8e5606ec1505ab",
            "value": " 1.18k/1.18k [00:00&lt;00:00, 21.1kB/s]"
          }
        },
        "a994e62afc8944f98d68ada5fe27149f": {
          "model_module": "@jupyter-widgets/controls",
          "model_module_version": "1.5.0",
          "model_name": "DescriptionStyleModel",
          "state": {
            "_model_module": "@jupyter-widgets/controls",
            "_model_module_version": "1.5.0",
            "_model_name": "DescriptionStyleModel",
            "_view_count": null,
            "_view_module": "@jupyter-widgets/base",
            "_view_module_version": "1.2.0",
            "_view_name": "StyleView",
            "description_width": ""
          }
        },
        "aae25082c10e4276a821a6ede469728e": {
          "model_module": "@jupyter-widgets/base",
          "model_module_version": "1.2.0",
          "model_name": "LayoutModel",
          "state": {
            "_model_module": "@jupyter-widgets/base",
            "_model_module_version": "1.2.0",
            "_model_name": "LayoutModel",
            "_view_count": null,
            "_view_module": "@jupyter-widgets/base",
            "_view_module_version": "1.2.0",
            "_view_name": "LayoutView",
            "align_content": null,
            "align_items": null,
            "align_self": null,
            "border": null,
            "bottom": null,
            "display": null,
            "flex": null,
            "flex_flow": null,
            "grid_area": null,
            "grid_auto_columns": null,
            "grid_auto_flow": null,
            "grid_auto_rows": null,
            "grid_column": null,
            "grid_gap": null,
            "grid_row": null,
            "grid_template_areas": null,
            "grid_template_columns": null,
            "grid_template_rows": null,
            "height": null,
            "justify_content": null,
            "justify_items": null,
            "left": null,
            "margin": null,
            "max_height": null,
            "max_width": null,
            "min_height": null,
            "min_width": null,
            "object_fit": null,
            "object_position": null,
            "order": null,
            "overflow": null,
            "overflow_x": null,
            "overflow_y": null,
            "padding": null,
            "right": null,
            "top": null,
            "visibility": null,
            "width": null
          }
        },
        "abd9b127d42c462fbef14f2966c128d3": {
          "model_module": "@jupyter-widgets/controls",
          "model_module_version": "1.5.0",
          "model_name": "HTMLModel",
          "state": {
            "_dom_classes": [],
            "_model_module": "@jupyter-widgets/controls",
            "_model_module_version": "1.5.0",
            "_model_name": "HTMLModel",
            "_view_count": null,
            "_view_module": "@jupyter-widgets/controls",
            "_view_module_version": "1.5.0",
            "_view_name": "HTMLView",
            "description": "",
            "description_tooltip": null,
            "layout": "IPY_MODEL_d1aafc6b8c80406393f5bc6532af109a",
            "placeholder": "​",
            "style": "IPY_MODEL_f58195b7249447e5a828d9bd4645e488",
            "value": " 177k/177k [00:00&lt;00:00, 1.73MB/s]"
          }
        },
        "ac2f5cdde9e9471f8c7776477131ebbe": {
          "model_module": "@jupyter-widgets/controls",
          "model_module_version": "1.5.0",
          "model_name": "DescriptionStyleModel",
          "state": {
            "_model_module": "@jupyter-widgets/controls",
            "_model_module_version": "1.5.0",
            "_model_name": "DescriptionStyleModel",
            "_view_count": null,
            "_view_module": "@jupyter-widgets/base",
            "_view_module_version": "1.2.0",
            "_view_name": "StyleView",
            "description_width": ""
          }
        },
        "b0a9846ea70e428890817cf2b7b08350": {
          "model_module": "@jupyter-widgets/controls",
          "model_module_version": "1.5.0",
          "model_name": "FloatProgressModel",
          "state": {
            "_dom_classes": [],
            "_model_module": "@jupyter-widgets/controls",
            "_model_module_version": "1.5.0",
            "_model_name": "FloatProgressModel",
            "_view_count": null,
            "_view_module": "@jupyter-widgets/controls",
            "_view_module_version": "1.5.0",
            "_view_name": "ProgressView",
            "bar_style": "success",
            "description": "",
            "description_tooltip": null,
            "layout": "IPY_MODEL_0b76d000fbff475c990bbf77c6e7555a",
            "max": 2169,
            "min": 0,
            "orientation": "horizontal",
            "style": "IPY_MODEL_23b3a53548bf46fab631840438fcd803",
            "value": 2169
          }
        },
        "b0fa4006cd2f45ba86f72e060095e2b1": {
          "model_module": "@jupyter-widgets/controls",
          "model_module_version": "1.5.0",
          "model_name": "ProgressStyleModel",
          "state": {
            "_model_module": "@jupyter-widgets/controls",
            "_model_module_version": "1.5.0",
            "_model_name": "ProgressStyleModel",
            "_view_count": null,
            "_view_module": "@jupyter-widgets/base",
            "_view_module_version": "1.2.0",
            "_view_name": "StyleView",
            "bar_color": null,
            "description_width": ""
          }
        },
        "b9a9644259a44e8e80ddf4d72f9fc41c": {
          "model_module": "@jupyter-widgets/controls",
          "model_module_version": "1.5.0",
          "model_name": "HBoxModel",
          "state": {
            "_dom_classes": [],
            "_model_module": "@jupyter-widgets/controls",
            "_model_module_version": "1.5.0",
            "_model_name": "HBoxModel",
            "_view_count": null,
            "_view_module": "@jupyter-widgets/controls",
            "_view_module_version": "1.5.0",
            "_view_name": "HBoxView",
            "box_style": "",
            "children": [
              "IPY_MODEL_e1695dc0579b4e51b51a166b95a5ce5d",
              "IPY_MODEL_effbc90f3fc240f2829bb8b1e1dbdab4",
              "IPY_MODEL_f13e7e9cd3ee455fb947242a2fac7d9e"
            ],
            "layout": "IPY_MODEL_7299d2ed68fb487abd6aae308cbfac07"
          }
        },
        "baff1b1c20114bf59d8e5606ec1505ab": {
          "model_module": "@jupyter-widgets/controls",
          "model_module_version": "1.5.0",
          "model_name": "DescriptionStyleModel",
          "state": {
            "_model_module": "@jupyter-widgets/controls",
            "_model_module_version": "1.5.0",
            "_model_name": "DescriptionStyleModel",
            "_view_count": null,
            "_view_module": "@jupyter-widgets/base",
            "_view_module_version": "1.2.0",
            "_view_name": "StyleView",
            "description_width": ""
          }
        },
        "bb9a55b8f662494d8c77870d26ebccd9": {
          "model_module": "@jupyter-widgets/controls",
          "model_module_version": "1.5.0",
          "model_name": "ProgressStyleModel",
          "state": {
            "_model_module": "@jupyter-widgets/controls",
            "_model_module_version": "1.5.0",
            "_model_name": "ProgressStyleModel",
            "_view_count": null,
            "_view_module": "@jupyter-widgets/base",
            "_view_module_version": "1.2.0",
            "_view_name": "StyleView",
            "bar_color": null,
            "description_width": ""
          }
        },
        "c025cf8d474242918aa2252728105706": {
          "model_module": "@jupyter-widgets/controls",
          "model_module_version": "1.5.0",
          "model_name": "HBoxModel",
          "state": {
            "_dom_classes": [],
            "_model_module": "@jupyter-widgets/controls",
            "_model_module_version": "1.5.0",
            "_model_name": "HBoxModel",
            "_view_count": null,
            "_view_module": "@jupyter-widgets/controls",
            "_view_module_version": "1.5.0",
            "_view_name": "HBoxView",
            "box_style": "",
            "children": [
              "IPY_MODEL_03de6c6adbc34e7493ea8295092827a2",
              "IPY_MODEL_1574aca4deb54f2a885178669daeee42",
              "IPY_MODEL_fe60b30ec236444fa217d8bcf06a2313"
            ],
            "layout": "IPY_MODEL_14cec76fd02b4493b2f02224e83ef3a2"
          }
        },
        "c2cab8d046c540c2bef5d7efc713532f": {
          "model_module": "@jupyter-widgets/base",
          "model_module_version": "1.2.0",
          "model_name": "LayoutModel",
          "state": {
            "_model_module": "@jupyter-widgets/base",
            "_model_module_version": "1.2.0",
            "_model_name": "LayoutModel",
            "_view_count": null,
            "_view_module": "@jupyter-widgets/base",
            "_view_module_version": "1.2.0",
            "_view_name": "LayoutView",
            "align_content": null,
            "align_items": null,
            "align_self": null,
            "border": null,
            "bottom": null,
            "display": null,
            "flex": null,
            "flex_flow": null,
            "grid_area": null,
            "grid_auto_columns": null,
            "grid_auto_flow": null,
            "grid_auto_rows": null,
            "grid_column": null,
            "grid_gap": null,
            "grid_row": null,
            "grid_template_areas": null,
            "grid_template_columns": null,
            "grid_template_rows": null,
            "height": null,
            "justify_content": null,
            "justify_items": null,
            "left": null,
            "margin": null,
            "max_height": null,
            "max_width": null,
            "min_height": null,
            "min_width": null,
            "object_fit": null,
            "object_position": null,
            "order": null,
            "overflow": null,
            "overflow_x": null,
            "overflow_y": null,
            "padding": null,
            "right": null,
            "top": null,
            "visibility": null,
            "width": null
          }
        },
        "c7db145fc47f414690bcb3670b480d92": {
          "model_module": "@jupyter-widgets/controls",
          "model_module_version": "1.5.0",
          "model_name": "HTMLModel",
          "state": {
            "_dom_classes": [],
            "_model_module": "@jupyter-widgets/controls",
            "_model_module_version": "1.5.0",
            "_model_name": "HTMLModel",
            "_view_count": null,
            "_view_module": "@jupyter-widgets/controls",
            "_view_module_version": "1.5.0",
            "_view_name": "HTMLView",
            "description": "",
            "description_tooltip": null,
            "layout": "IPY_MODEL_7c7aefcce742431f80e0c1a29ac59781",
            "placeholder": "​",
            "style": "IPY_MODEL_7105a4b21c654f2e90b59d11a19dcb18",
            "value": "config.json: 100%"
          }
        },
        "ccdb41166ed84ea1912f3c81c1ac59a2": {
          "model_module": "@jupyter-widgets/base",
          "model_module_version": "1.2.0",
          "model_name": "LayoutModel",
          "state": {
            "_model_module": "@jupyter-widgets/base",
            "_model_module_version": "1.2.0",
            "_model_name": "LayoutModel",
            "_view_count": null,
            "_view_module": "@jupyter-widgets/base",
            "_view_module_version": "1.2.0",
            "_view_name": "LayoutView",
            "align_content": null,
            "align_items": null,
            "align_self": null,
            "border": null,
            "bottom": null,
            "display": null,
            "flex": null,
            "flex_flow": null,
            "grid_area": null,
            "grid_auto_columns": null,
            "grid_auto_flow": null,
            "grid_auto_rows": null,
            "grid_column": null,
            "grid_gap": null,
            "grid_row": null,
            "grid_template_areas": null,
            "grid_template_columns": null,
            "grid_template_rows": null,
            "height": null,
            "justify_content": null,
            "justify_items": null,
            "left": null,
            "margin": null,
            "max_height": null,
            "max_width": null,
            "min_height": null,
            "min_width": null,
            "object_fit": null,
            "object_position": null,
            "order": null,
            "overflow": null,
            "overflow_x": null,
            "overflow_y": null,
            "padding": null,
            "right": null,
            "top": null,
            "visibility": null,
            "width": null
          }
        },
        "d1aafc6b8c80406393f5bc6532af109a": {
          "model_module": "@jupyter-widgets/base",
          "model_module_version": "1.2.0",
          "model_name": "LayoutModel",
          "state": {
            "_model_module": "@jupyter-widgets/base",
            "_model_module_version": "1.2.0",
            "_model_name": "LayoutModel",
            "_view_count": null,
            "_view_module": "@jupyter-widgets/base",
            "_view_module_version": "1.2.0",
            "_view_name": "LayoutView",
            "align_content": null,
            "align_items": null,
            "align_self": null,
            "border": null,
            "bottom": null,
            "display": null,
            "flex": null,
            "flex_flow": null,
            "grid_area": null,
            "grid_auto_columns": null,
            "grid_auto_flow": null,
            "grid_auto_rows": null,
            "grid_column": null,
            "grid_gap": null,
            "grid_row": null,
            "grid_template_areas": null,
            "grid_template_columns": null,
            "grid_template_rows": null,
            "height": null,
            "justify_content": null,
            "justify_items": null,
            "left": null,
            "margin": null,
            "max_height": null,
            "max_width": null,
            "min_height": null,
            "min_width": null,
            "object_fit": null,
            "object_position": null,
            "order": null,
            "overflow": null,
            "overflow_x": null,
            "overflow_y": null,
            "padding": null,
            "right": null,
            "top": null,
            "visibility": null,
            "width": null
          }
        },
        "d5829f74e81d4276b10429ccf5bfb490": {
          "model_module": "@jupyter-widgets/base",
          "model_module_version": "1.2.0",
          "model_name": "LayoutModel",
          "state": {
            "_model_module": "@jupyter-widgets/base",
            "_model_module_version": "1.2.0",
            "_model_name": "LayoutModel",
            "_view_count": null,
            "_view_module": "@jupyter-widgets/base",
            "_view_module_version": "1.2.0",
            "_view_name": "LayoutView",
            "align_content": null,
            "align_items": null,
            "align_self": null,
            "border": null,
            "bottom": null,
            "display": null,
            "flex": null,
            "flex_flow": null,
            "grid_area": null,
            "grid_auto_columns": null,
            "grid_auto_flow": null,
            "grid_auto_rows": null,
            "grid_column": null,
            "grid_gap": null,
            "grid_row": null,
            "grid_template_areas": null,
            "grid_template_columns": null,
            "grid_template_rows": null,
            "height": null,
            "justify_content": null,
            "justify_items": null,
            "left": null,
            "margin": null,
            "max_height": null,
            "max_width": null,
            "min_height": null,
            "min_width": null,
            "object_fit": null,
            "object_position": null,
            "order": null,
            "overflow": null,
            "overflow_x": null,
            "overflow_y": null,
            "padding": null,
            "right": null,
            "top": null,
            "visibility": null,
            "width": null
          }
        },
        "dc9a26f95e864ba282e19c182659f244": {
          "model_module": "@jupyter-widgets/controls",
          "model_module_version": "1.5.0",
          "model_name": "DescriptionStyleModel",
          "state": {
            "_model_module": "@jupyter-widgets/controls",
            "_model_module_version": "1.5.0",
            "_model_name": "DescriptionStyleModel",
            "_view_count": null,
            "_view_module": "@jupyter-widgets/base",
            "_view_module_version": "1.2.0",
            "_view_name": "StyleView",
            "description_width": ""
          }
        },
        "dda07c5e60464993bf91a466028a7bca": {
          "model_module": "@jupyter-widgets/controls",
          "model_module_version": "1.5.0",
          "model_name": "ProgressStyleModel",
          "state": {
            "_model_module": "@jupyter-widgets/controls",
            "_model_module_version": "1.5.0",
            "_model_name": "ProgressStyleModel",
            "_view_count": null,
            "_view_module": "@jupyter-widgets/base",
            "_view_module_version": "1.2.0",
            "_view_name": "StyleView",
            "bar_color": null,
            "description_width": ""
          }
        },
        "e0a8d6a179ce445c90ad9db7d532afc9": {
          "model_module": "@jupyter-widgets/controls",
          "model_module_version": "1.5.0",
          "model_name": "FloatProgressModel",
          "state": {
            "_dom_classes": [],
            "_model_module": "@jupyter-widgets/controls",
            "_model_module_version": "1.5.0",
            "_model_name": "FloatProgressModel",
            "_view_count": null,
            "_view_module": "@jupyter-widgets/controls",
            "_view_module_version": "1.5.0",
            "_view_name": "ProgressView",
            "bar_style": "success",
            "description": "",
            "description_tooltip": null,
            "layout": "IPY_MODEL_401425aa395e49d2b7feef597505a7aa",
            "max": 682152,
            "min": 0,
            "orientation": "horizontal",
            "style": "IPY_MODEL_b0fa4006cd2f45ba86f72e060095e2b1",
            "value": 682152
          }
        },
        "e159892deae34c9aa913f418c970b186": {
          "model_module": "@jupyter-widgets/controls",
          "model_module_version": "1.5.0",
          "model_name": "ProgressStyleModel",
          "state": {
            "_model_module": "@jupyter-widgets/controls",
            "_model_module_version": "1.5.0",
            "_model_name": "ProgressStyleModel",
            "_view_count": null,
            "_view_module": "@jupyter-widgets/base",
            "_view_module_version": "1.2.0",
            "_view_name": "StyleView",
            "bar_color": null,
            "description_width": ""
          }
        },
        "e1695dc0579b4e51b51a166b95a5ce5d": {
          "model_module": "@jupyter-widgets/controls",
          "model_module_version": "1.5.0",
          "model_name": "HTMLModel",
          "state": {
            "_dom_classes": [],
            "_model_module": "@jupyter-widgets/controls",
            "_model_module_version": "1.5.0",
            "_model_name": "HTMLModel",
            "_view_count": null,
            "_view_module": "@jupyter-widgets/controls",
            "_view_module_version": "1.5.0",
            "_view_name": "HTMLView",
            "description": "",
            "description_tooltip": null,
            "layout": "IPY_MODEL_4614e8e607054ac2b1298bb95eb958ef",
            "placeholder": "​",
            "style": "IPY_MODEL_98de8760e3134e9b8776cf7e11773a6e",
            "value": "model.safetensors: 100%"
          }
        },
        "e630680e795d48148cbd54e71da9f637": {
          "model_module": "@jupyter-widgets/controls",
          "model_module_version": "1.5.0",
          "model_name": "HBoxModel",
          "state": {
            "_dom_classes": [],
            "_model_module": "@jupyter-widgets/controls",
            "_model_module_version": "1.5.0",
            "_model_name": "HBoxModel",
            "_view_count": null,
            "_view_module": "@jupyter-widgets/controls",
            "_view_module_version": "1.5.0",
            "_view_name": "HBoxView",
            "box_style": "",
            "children": [
              "IPY_MODEL_64dd4dc945554328aaa700927a2e0fb8",
              "IPY_MODEL_e0a8d6a179ce445c90ad9db7d532afc9",
              "IPY_MODEL_e79df4a3f6414e5e89a2107958e6534c"
            ],
            "layout": "IPY_MODEL_fd581a4559424b77b7cf2483b04aae38"
          }
        },
        "e79df4a3f6414e5e89a2107958e6534c": {
          "model_module": "@jupyter-widgets/controls",
          "model_module_version": "1.5.0",
          "model_name": "HTMLModel",
          "state": {
            "_dom_classes": [],
            "_model_module": "@jupyter-widgets/controls",
            "_model_module_version": "1.5.0",
            "_model_name": "HTMLModel",
            "_view_count": null,
            "_view_module": "@jupyter-widgets/controls",
            "_view_module_version": "1.5.0",
            "_view_name": "HTMLView",
            "description": "",
            "description_tooltip": null,
            "layout": "IPY_MODEL_25963147ccd04e4cbbef5c670344cbea",
            "placeholder": "​",
            "style": "IPY_MODEL_5248eb11ffbd4c7ebd26d00397859dea",
            "value": " 682k/682k [00:00&lt;00:00, 7.98MB/s]"
          }
        },
        "ea5a30bbd7dc4fa983f350b7a2ea295a": {
          "model_module": "@jupyter-widgets/base",
          "model_module_version": "1.2.0",
          "model_name": "LayoutModel",
          "state": {
            "_model_module": "@jupyter-widgets/base",
            "_model_module_version": "1.2.0",
            "_model_name": "LayoutModel",
            "_view_count": null,
            "_view_module": "@jupyter-widgets/base",
            "_view_module_version": "1.2.0",
            "_view_name": "LayoutView",
            "align_content": null,
            "align_items": null,
            "align_self": null,
            "border": null,
            "bottom": null,
            "display": null,
            "flex": null,
            "flex_flow": null,
            "grid_area": null,
            "grid_auto_columns": null,
            "grid_auto_flow": null,
            "grid_auto_rows": null,
            "grid_column": null,
            "grid_gap": null,
            "grid_row": null,
            "grid_template_areas": null,
            "grid_template_columns": null,
            "grid_template_rows": null,
            "height": null,
            "justify_content": null,
            "justify_items": null,
            "left": null,
            "margin": null,
            "max_height": null,
            "max_width": null,
            "min_height": null,
            "min_width": null,
            "object_fit": null,
            "object_position": null,
            "order": null,
            "overflow": null,
            "overflow_x": null,
            "overflow_y": null,
            "padding": null,
            "right": null,
            "top": null,
            "visibility": null,
            "width": null
          }
        },
        "eb46eca17fcf47cdafdaed4a41358462": {
          "model_module": "@jupyter-widgets/base",
          "model_module_version": "1.2.0",
          "model_name": "LayoutModel",
          "state": {
            "_model_module": "@jupyter-widgets/base",
            "_model_module_version": "1.2.0",
            "_model_name": "LayoutModel",
            "_view_count": null,
            "_view_module": "@jupyter-widgets/base",
            "_view_module_version": "1.2.0",
            "_view_name": "LayoutView",
            "align_content": null,
            "align_items": null,
            "align_self": null,
            "border": null,
            "bottom": null,
            "display": null,
            "flex": null,
            "flex_flow": null,
            "grid_area": null,
            "grid_auto_columns": null,
            "grid_auto_flow": null,
            "grid_auto_rows": null,
            "grid_column": null,
            "grid_gap": null,
            "grid_row": null,
            "grid_template_areas": null,
            "grid_template_columns": null,
            "grid_template_rows": null,
            "height": null,
            "justify_content": null,
            "justify_items": null,
            "left": null,
            "margin": null,
            "max_height": null,
            "max_width": null,
            "min_height": null,
            "min_width": null,
            "object_fit": null,
            "object_position": null,
            "order": null,
            "overflow": null,
            "overflow_x": null,
            "overflow_y": null,
            "padding": null,
            "right": null,
            "top": null,
            "visibility": null,
            "width": null
          }
        },
        "eecb1860897f4266809b633fd55c1bd2": {
          "model_module": "@jupyter-widgets/controls",
          "model_module_version": "1.5.0",
          "model_name": "ProgressStyleModel",
          "state": {
            "_model_module": "@jupyter-widgets/controls",
            "_model_module_version": "1.5.0",
            "_model_name": "ProgressStyleModel",
            "_view_count": null,
            "_view_module": "@jupyter-widgets/base",
            "_view_module_version": "1.2.0",
            "_view_name": "StyleView",
            "bar_color": null,
            "description_width": ""
          }
        },
        "ef0fda371f4c4e9d956fa9c555d0bc5a": {
          "model_module": "@jupyter-widgets/controls",
          "model_module_version": "1.5.0",
          "model_name": "DescriptionStyleModel",
          "state": {
            "_model_module": "@jupyter-widgets/controls",
            "_model_module_version": "1.5.0",
            "_model_name": "DescriptionStyleModel",
            "_view_count": null,
            "_view_module": "@jupyter-widgets/base",
            "_view_module_version": "1.2.0",
            "_view_name": "StyleView",
            "description_width": ""
          }
        },
        "effbc90f3fc240f2829bb8b1e1dbdab4": {
          "model_module": "@jupyter-widgets/controls",
          "model_module_version": "1.5.0",
          "model_name": "FloatProgressModel",
          "state": {
            "_dom_classes": [],
            "_model_module": "@jupyter-widgets/controls",
            "_model_module_version": "1.5.0",
            "_model_name": "FloatProgressModel",
            "_view_count": null,
            "_view_module": "@jupyter-widgets/controls",
            "_view_module_version": "1.5.0",
            "_view_name": "ProgressView",
            "bar_style": "success",
            "description": "",
            "description_tooltip": null,
            "layout": "IPY_MODEL_4c21eed6ab054834bff6bdf43450a8d9",
            "max": 495589764,
            "min": 0,
            "orientation": "horizontal",
            "style": "IPY_MODEL_e159892deae34c9aa913f418c970b186",
            "value": 495589764
          }
        },
        "f041c227fe3a429bbfa1746240d3bc7b": {
          "model_module": "@jupyter-widgets/base",
          "model_module_version": "1.2.0",
          "model_name": "LayoutModel",
          "state": {
            "_model_module": "@jupyter-widgets/base",
            "_model_module_version": "1.2.0",
            "_model_name": "LayoutModel",
            "_view_count": null,
            "_view_module": "@jupyter-widgets/base",
            "_view_module_version": "1.2.0",
            "_view_name": "LayoutView",
            "align_content": null,
            "align_items": null,
            "align_self": null,
            "border": null,
            "bottom": null,
            "display": null,
            "flex": null,
            "flex_flow": null,
            "grid_area": null,
            "grid_auto_columns": null,
            "grid_auto_flow": null,
            "grid_auto_rows": null,
            "grid_column": null,
            "grid_gap": null,
            "grid_row": null,
            "grid_template_areas": null,
            "grid_template_columns": null,
            "grid_template_rows": null,
            "height": null,
            "justify_content": null,
            "justify_items": null,
            "left": null,
            "margin": null,
            "max_height": null,
            "max_width": null,
            "min_height": null,
            "min_width": null,
            "object_fit": null,
            "object_position": null,
            "order": null,
            "overflow": null,
            "overflow_x": null,
            "overflow_y": null,
            "padding": null,
            "right": null,
            "top": null,
            "visibility": null,
            "width": null
          }
        },
        "f1137a7ddb884e779f24abc0513d9169": {
          "model_module": "@jupyter-widgets/base",
          "model_module_version": "1.2.0",
          "model_name": "LayoutModel",
          "state": {
            "_model_module": "@jupyter-widgets/base",
            "_model_module_version": "1.2.0",
            "_model_name": "LayoutModel",
            "_view_count": null,
            "_view_module": "@jupyter-widgets/base",
            "_view_module_version": "1.2.0",
            "_view_name": "LayoutView",
            "align_content": null,
            "align_items": null,
            "align_self": null,
            "border": null,
            "bottom": null,
            "display": null,
            "flex": null,
            "flex_flow": null,
            "grid_area": null,
            "grid_auto_columns": null,
            "grid_auto_flow": null,
            "grid_auto_rows": null,
            "grid_column": null,
            "grid_gap": null,
            "grid_row": null,
            "grid_template_areas": null,
            "grid_template_columns": null,
            "grid_template_rows": null,
            "height": null,
            "justify_content": null,
            "justify_items": null,
            "left": null,
            "margin": null,
            "max_height": null,
            "max_width": null,
            "min_height": null,
            "min_width": null,
            "object_fit": null,
            "object_position": null,
            "order": null,
            "overflow": null,
            "overflow_x": null,
            "overflow_y": null,
            "padding": null,
            "right": null,
            "top": null,
            "visibility": null,
            "width": null
          }
        },
        "f13e7e9cd3ee455fb947242a2fac7d9e": {
          "model_module": "@jupyter-widgets/controls",
          "model_module_version": "1.5.0",
          "model_name": "HTMLModel",
          "state": {
            "_dom_classes": [],
            "_model_module": "@jupyter-widgets/controls",
            "_model_module_version": "1.5.0",
            "_model_name": "HTMLModel",
            "_view_count": null,
            "_view_module": "@jupyter-widgets/controls",
            "_view_module_version": "1.5.0",
            "_view_name": "HTMLView",
            "description": "",
            "description_tooltip": null,
            "layout": "IPY_MODEL_47a59917c1924dfebb53c93975d0bef8",
            "placeholder": "​",
            "style": "IPY_MODEL_9a3bc82d2ff2465784a310a8e39665dd",
            "value": " 496M/496M [00:14&lt;00:00, 39.1MB/s]"
          }
        },
        "f58195b7249447e5a828d9bd4645e488": {
          "model_module": "@jupyter-widgets/controls",
          "model_module_version": "1.5.0",
          "model_name": "DescriptionStyleModel",
          "state": {
            "_model_module": "@jupyter-widgets/controls",
            "_model_module_version": "1.5.0",
            "_model_name": "DescriptionStyleModel",
            "_view_count": null,
            "_view_module": "@jupyter-widgets/base",
            "_view_module_version": "1.2.0",
            "_view_name": "StyleView",
            "description_width": ""
          }
        },
        "fd581a4559424b77b7cf2483b04aae38": {
          "model_module": "@jupyter-widgets/base",
          "model_module_version": "1.2.0",
          "model_name": "LayoutModel",
          "state": {
            "_model_module": "@jupyter-widgets/base",
            "_model_module_version": "1.2.0",
            "_model_name": "LayoutModel",
            "_view_count": null,
            "_view_module": "@jupyter-widgets/base",
            "_view_module_version": "1.2.0",
            "_view_name": "LayoutView",
            "align_content": null,
            "align_items": null,
            "align_self": null,
            "border": null,
            "bottom": null,
            "display": null,
            "flex": null,
            "flex_flow": null,
            "grid_area": null,
            "grid_auto_columns": null,
            "grid_auto_flow": null,
            "grid_auto_rows": null,
            "grid_column": null,
            "grid_gap": null,
            "grid_row": null,
            "grid_template_areas": null,
            "grid_template_columns": null,
            "grid_template_rows": null,
            "height": null,
            "justify_content": null,
            "justify_items": null,
            "left": null,
            "margin": null,
            "max_height": null,
            "max_width": null,
            "min_height": null,
            "min_width": null,
            "object_fit": null,
            "object_position": null,
            "order": null,
            "overflow": null,
            "overflow_x": null,
            "overflow_y": null,
            "padding": null,
            "right": null,
            "top": null,
            "visibility": null,
            "width": null
          }
        },
        "fe60b30ec236444fa217d8bcf06a2313": {
          "model_module": "@jupyter-widgets/controls",
          "model_module_version": "1.5.0",
          "model_name": "HTMLModel",
          "state": {
            "_dom_classes": [],
            "_model_module": "@jupyter-widgets/controls",
            "_model_module_version": "1.5.0",
            "_model_name": "HTMLModel",
            "_view_count": null,
            "_view_module": "@jupyter-widgets/controls",
            "_view_module_version": "1.5.0",
            "_view_name": "HTMLView",
            "description": "",
            "description_tooltip": null,
            "layout": "IPY_MODEL_d5829f74e81d4276b10429ccf5bfb490",
            "placeholder": "​",
            "style": "IPY_MODEL_a994e62afc8944f98d68ada5fe27149f",
            "value": " 4.00/4.00 [00:00&lt;00:00, 60.2B/s]"
          }
        },
        "ff80c33c5dda43e4a7841f89afebb66c": {
          "model_module": "@jupyter-widgets/base",
          "model_module_version": "1.2.0",
          "model_name": "LayoutModel",
          "state": {
            "_model_module": "@jupyter-widgets/base",
            "_model_module_version": "1.2.0",
            "_model_name": "LayoutModel",
            "_view_count": null,
            "_view_module": "@jupyter-widgets/base",
            "_view_module_version": "1.2.0",
            "_view_name": "LayoutView",
            "align_content": null,
            "align_items": null,
            "align_self": null,
            "border": null,
            "bottom": null,
            "display": null,
            "flex": null,
            "flex_flow": null,
            "grid_area": null,
            "grid_auto_columns": null,
            "grid_auto_flow": null,
            "grid_auto_rows": null,
            "grid_column": null,
            "grid_gap": null,
            "grid_row": null,
            "grid_template_areas": null,
            "grid_template_columns": null,
            "grid_template_rows": null,
            "height": null,
            "justify_content": null,
            "justify_items": null,
            "left": null,
            "margin": null,
            "max_height": null,
            "max_width": null,
            "min_height": null,
            "min_width": null,
            "object_fit": null,
            "object_position": null,
            "order": null,
            "overflow": null,
            "overflow_x": null,
            "overflow_y": null,
            "padding": null,
            "right": null,
            "top": null,
            "visibility": null,
            "width": null
          }
        }
      }
    }
  },
  "nbformat": 4,
  "nbformat_minor": 0
}