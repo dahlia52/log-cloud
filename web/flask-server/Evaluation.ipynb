{
 "cells": [
  {
   "cell_type": "code",
   "execution_count": 140,
   "metadata": {},
   "outputs": [],
   "source": [
    "import pandas as pd\n",
    "diary_train = pd.read_csv('diary_train.csv')\n",
    "diary_test = pd.read_csv('diary_test.csv')"
   ]
  },
  {
   "cell_type": "code",
   "execution_count": 141,
   "metadata": {},
   "outputs": [],
   "source": [
    "from transformers import (\n",
    "    AutoTokenizer,\n",
    "    BartForConditionalGeneration,\n",
    "    Seq2SeqTrainingArguments,\n",
    "    Seq2SeqTrainer,\n",
    "    DataCollatorForSeq2Seq,\n",
    "    EarlyStoppingCallback\n",
    ")\n",
    "from tokenizers import Tokenizer\n",
    "from typing import Dict, List, Optional\n",
    "from torch.utils.data import Dataset\n",
    "\n",
    "import pandas as pd\n",
    "import numpy as np\n",
    "import matplotlib.pyplot as plt\n",
    "\n",
    "from IPython.display import display\n",
    "from typing import Dict"
   ]
  },
  {
   "cell_type": "code",
   "execution_count": 3,
   "metadata": {},
   "outputs": [],
   "source": [
    "# HashTag Evaluation"
   ]
  },
  {
   "cell_type": "code",
   "execution_count": 204,
   "metadata": {},
   "outputs": [
    {
     "name": "stderr",
     "output_type": "stream",
     "text": [
      "You passed along `num_labels=3` with an incompatible id to label map: {'0': 'NEGATIVE', '1': 'POSITIVE'}. The number of labels wil be overwritten to 2.\n"
     ]
    }
   ],
   "source": [
    "from transformers import BartForConditionalGeneration\n",
    "model_name = \"jjae/kobart-hashtag\"\n",
    "tokenizer = AutoTokenizer.from_pretrained(model_name)\n",
    "model2 = BartForConditionalGeneration.from_pretrained(model_name)"
   ]
  },
  {
   "cell_type": "code",
   "execution_count": 168,
   "metadata": {},
   "outputs": [
    {
     "data": {
      "text/plain": [
       "device(type='cuda')"
      ]
     },
     "execution_count": 168,
     "metadata": {},
     "output_type": "execute_result"
    }
   ],
   "source": [
    "import torch\n",
    "device = torch.device(\"cuda\") if torch.cuda.is_available() else torch.device(\"cpu\")\n",
    "device"
   ]
  },
  {
   "cell_type": "code",
   "execution_count": 205,
   "metadata": {},
   "outputs": [],
   "source": [
    "model2 = model2.to(device)"
   ]
  },
  {
   "cell_type": "code",
   "execution_count": 206,
   "metadata": {},
   "outputs": [],
   "source": [
    "def make_tag(text, label):\n",
    "  # 입력 문장을 토큰화하여 인코딩\n",
    "  input_ids = tokenizer.encode(text, return_tensors=\"pt\").to(device)\n",
    "\n",
    "  # 모델에 입력 전달하여 디코딩\n",
    "  output = model2.generate(input_ids = input_ids, bos_token_id = model2.config.bos_token_id,\n",
    "                          eos_token_id = model2.config.eos_token_id, length_penalty = 3.0, max_length = 50, num_beams = 4)\n",
    "\n",
    "  # 디코딩된 출력을 토크나이저를 사용하여 텍스트로 변환\n",
    "  decoded_output = tokenizer.decode(output[0], skip_special_tokens=True)\n",
    "\n",
    "  #print(\"입력 문장:\", text,'\\n')\n",
    "  #print(\"모델 출력:\", decoded_output,'\\n')\n",
    "  #print(\"정답 레이블:\", label)\n",
    "  return decoded_output"
   ]
  },
  {
   "cell_type": "code",
   "execution_count": 207,
   "metadata": {},
   "outputs": [
    {
     "data": {
      "text/plain": [
       "'#자유로운시간활용 #여가활동 #독서 #음악감상 #산책'"
      ]
     },
     "execution_count": 207,
     "metadata": {},
     "output_type": "execute_result"
    }
   ],
   "source": [
    "diary_test.iloc[1,2]"
   ]
  },
  {
   "cell_type": "code",
   "execution_count": 208,
   "metadata": {},
   "outputs": [
    {
     "data": {
      "text/plain": [
       "'#자유로운시간활용 #여가활동 #독서 #음악감상 #산책'"
      ]
     },
     "execution_count": 208,
     "metadata": {},
     "output_type": "execute_result"
    }
   ],
   "source": [
    "make_tag(diary_test.iloc[1,1], diary_test.iloc[1,2])"
   ]
  },
  {
   "cell_type": "code",
   "execution_count": 209,
   "metadata": {},
   "outputs": [
    {
     "data": {
      "text/plain": [
       "'#아트마켓 #페스티벌참가 #창작물전시 #소통 #예술의힘'"
      ]
     },
     "execution_count": 209,
     "metadata": {},
     "output_type": "execute_result"
    }
   ],
   "source": [
    "make_tag(diary_test.iloc[-1,1], diary_test.iloc[-1,2])"
   ]
  },
  {
   "cell_type": "code",
   "execution_count": 210,
   "metadata": {},
   "outputs": [
    {
     "data": {
      "text/plain": [
       "'#출근길실수 #버스를 놓쳤다 #부주의와급함 #실패와상사의질책 #배움과개선'"
      ]
     },
     "execution_count": 210,
     "metadata": {},
     "output_type": "execute_result"
    }
   ],
   "source": [
    "make_tag(diary_test.iloc[7,1], diary_test.iloc[7,2])"
   ]
  },
  {
   "cell_type": "code",
   "execution_count": 211,
   "metadata": {},
   "outputs": [
    {
     "data": {
      "text/plain": [
       "'#공부계획 #스케줄관리 #목표설정 #꾸준한노력 #스트레스최소화'"
      ]
     },
     "execution_count": 211,
     "metadata": {},
     "output_type": "execute_result"
    }
   ],
   "source": [
    "make_tag(diary_test.iloc[23,1], diary_test.iloc[23,2])"
   ]
  },
  {
   "cell_type": "code",
   "execution_count": 212,
   "metadata": {},
   "outputs": [
    {
     "data": {
      "text/plain": [
       "'#가족과함께 #해변소풍 #소중한추억 #행복한시간 #가족사랑'"
      ]
     },
     "execution_count": 212,
     "metadata": {},
     "output_type": "execute_result"
    }
   ],
   "source": [
    "# Test (New data)\n",
    "txt = \"가족과 함께 해변으로 소풍을 다녀왔어요. 바다 풍경을 감상하고 놀이를 즐기며 소중한 시간을 보내고 돌아오는 길에는 행복함과 만족감을 느꼈어요. 가족과 함께한 소중한 추억을 간직하게 되었어요.\"\n",
    "lbl = '#가족 #해변소풍 #소중한시간 #행복한추억'\n",
    "make_tag(txt, lbl)"
   ]
  },
  {
   "cell_type": "code",
   "execution_count": 213,
   "metadata": {},
   "outputs": [
    {
     "name": "stderr",
     "output_type": "stream",
     "text": [
      "C:\\Users\\user\\AppData\\Local\\Temp\\ipykernel_7568\\3364559632.py:2: FutureWarning: Series.__getitem__ treating keys as positions is deprecated. In a future version, integer keys will always be treated as labels (consistent with DataFrame behavior). To access a value by position, use `ser.iloc[pos]`\n",
      "  diary_test['hash_tag_out'] = diary_test.apply(lambda x: make_tag(x[1], x[2]), axis = 1)\n"
     ]
    }
   ],
   "source": [
    "# 모델 output열 생성\n",
    "diary_test['hash_tag_out'] = diary_test.apply(lambda x: make_tag(x[1], x[2]), axis = 1)"
   ]
  },
  {
   "cell_type": "code",
   "execution_count": 214,
   "metadata": {},
   "outputs": [
    {
     "data": {
      "text/html": [
       "<div>\n",
       "<style scoped>\n",
       "    .dataframe tbody tr th:only-of-type {\n",
       "        vertical-align: middle;\n",
       "    }\n",
       "\n",
       "    .dataframe tbody tr th {\n",
       "        vertical-align: top;\n",
       "    }\n",
       "\n",
       "    .dataframe thead th {\n",
       "        text-align: right;\n",
       "    }\n",
       "</style>\n",
       "<table border=\"1\" class=\"dataframe\">\n",
       "  <thead>\n",
       "    <tr style=\"text-align: right;\">\n",
       "      <th></th>\n",
       "      <th>diary</th>\n",
       "      <th>summary</th>\n",
       "      <th>hashtag</th>\n",
       "      <th>hash_tag_out</th>\n",
       "    </tr>\n",
       "  </thead>\n",
       "  <tbody>\n",
       "    <tr>\n",
       "      <th>0</th>\n",
       "      <td>아침 일어나자마자 조용한 공간에서 명상을 시작했어. 깊은 숨을 들이마시며 마음을 가...</td>\n",
       "      <td>자기계발을 위해 명상과 여유를 추구한 날이었어요. 명상을 통해 마음의 여유와 집중력...</td>\n",
       "      <td>#자기계발 #명상과여유 #평화와안정 #내면의평화 #더나은사람되기</td>\n",
       "      <td>#자기계발 #명상과여유 #마음의여유 #평화와안정 #평화와안정</td>\n",
       "    </tr>\n",
       "    <tr>\n",
       "      <th>1</th>\n",
       "      <td>바쁜 일상에서 벗어나서 나만의 시간을 가지고 즐거운 여가 활동을 즐길 수 있어서 기...</td>\n",
       "      <td>자유로운 시간을 활용하여 여가 활동에 몰두한 하루였어요. 독서, 음악 감상, 산책 ...</td>\n",
       "      <td>#자유로운시간활용 #여가활동 #독서 #음악감상 #산책</td>\n",
       "      <td>#자유로운시간활용 #여가활동 #독서 #음악감상 #산책</td>\n",
       "    </tr>\n",
       "    <tr>\n",
       "      <th>2</th>\n",
       "      <td>독립과 자립은 우리에게 큰 자유를 준다. 우리는 자유롭게 선택하고 행동할 수 있으며...</td>\n",
       "      <td>독립과 자립을 통해 우리는 자유를 얻지만, 그에 따른 책임도 져야 한다. 자유로운 ...</td>\n",
       "      <td>#독립과자립 #자유와책임 #선택과책임 #자유로운선택 #균형있는삶</td>\n",
       "      <td>#독립과자립 #자유와책임 #상호보완적인 요소 #균형과균형 #자유와책임 #균형과균형</td>\n",
       "    </tr>\n",
       "    <tr>\n",
       "      <th>3</th>\n",
       "      <td>나는 내가 가진 강점을 찾아보고, 그것을 발휘하며 성취를 이루어갈 수 있는 시간을 ...</td>\n",
       "      <td>자신의 강점을 인식하고 이를 통해 성취감을 느끼는 날이었다. 나의 분석력과 창의적인...</td>\n",
       "      <td>#자신의강점 #성취감 #분석력 #창의적사고 #자신감</td>\n",
       "      <td>#자점인식 #성취감 #분석력 #창의적사고 #아이디어발전</td>\n",
       "    </tr>\n",
       "    <tr>\n",
       "      <th>4</th>\n",
       "      <td>시험장을 나와서 자유로운 숨을 쉬며 가벼운 발걸음으로 친구들과 함께 밖으로 나왔어....</td>\n",
       "      <td>시험이 끝나고 해방감을 느끼며 친구들과 밖으로 나가서 자유롭게 즐거운 시간을 보냈어.</td>\n",
       "      <td>#시험이끝 #자유로운느낌 #친구와산책 #즐거운시간 #열심히공부하며즐기기</td>\n",
       "      <td>#시험끝 #해방감 #친구들과함께 #자유로운시간 #즐거움</td>\n",
       "    </tr>\n",
       "  </tbody>\n",
       "</table>\n",
       "</div>"
      ],
      "text/plain": [
       "                                               diary  \\\n",
       "0  아침 일어나자마자 조용한 공간에서 명상을 시작했어. 깊은 숨을 들이마시며 마음을 가...   \n",
       "1  바쁜 일상에서 벗어나서 나만의 시간을 가지고 즐거운 여가 활동을 즐길 수 있어서 기...   \n",
       "2  독립과 자립은 우리에게 큰 자유를 준다. 우리는 자유롭게 선택하고 행동할 수 있으며...   \n",
       "3  나는 내가 가진 강점을 찾아보고, 그것을 발휘하며 성취를 이루어갈 수 있는 시간을 ...   \n",
       "4  시험장을 나와서 자유로운 숨을 쉬며 가벼운 발걸음으로 친구들과 함께 밖으로 나왔어....   \n",
       "\n",
       "                                             summary  \\\n",
       "0  자기계발을 위해 명상과 여유를 추구한 날이었어요. 명상을 통해 마음의 여유와 집중력...   \n",
       "1  자유로운 시간을 활용하여 여가 활동에 몰두한 하루였어요. 독서, 음악 감상, 산책 ...   \n",
       "2  독립과 자립을 통해 우리는 자유를 얻지만, 그에 따른 책임도 져야 한다. 자유로운 ...   \n",
       "3  자신의 강점을 인식하고 이를 통해 성취감을 느끼는 날이었다. 나의 분석력과 창의적인...   \n",
       "4    시험이 끝나고 해방감을 느끼며 친구들과 밖으로 나가서 자유롭게 즐거운 시간을 보냈어.   \n",
       "\n",
       "                                   hashtag  \\\n",
       "0      #자기계발 #명상과여유 #평화와안정 #내면의평화 #더나은사람되기   \n",
       "1            #자유로운시간활용 #여가활동 #독서 #음악감상 #산책   \n",
       "2      #독립과자립 #자유와책임 #선택과책임 #자유로운선택 #균형있는삶   \n",
       "3             #자신의강점 #성취감 #분석력 #창의적사고 #자신감   \n",
       "4  #시험이끝 #자유로운느낌 #친구와산책 #즐거운시간 #열심히공부하며즐기기   \n",
       "\n",
       "                                    hash_tag_out  \n",
       "0              #자기계발 #명상과여유 #마음의여유 #평화와안정 #평화와안정  \n",
       "1                  #자유로운시간활용 #여가활동 #독서 #음악감상 #산책  \n",
       "2  #독립과자립 #자유와책임 #상호보완적인 요소 #균형과균형 #자유와책임 #균형과균형  \n",
       "3                 #자점인식 #성취감 #분석력 #창의적사고 #아이디어발전  \n",
       "4                 #시험끝 #해방감 #친구들과함께 #자유로운시간 #즐거움  "
      ]
     },
     "execution_count": 214,
     "metadata": {},
     "output_type": "execute_result"
    }
   ],
   "source": [
    "diary_test.head()"
   ]
  },
  {
   "cell_type": "code",
   "execution_count": 194,
   "metadata": {},
   "outputs": [
    {
     "data": {
      "text/plain": [
       "0                 #자기계발 #명상과여유 #마음의여유 #평화와안정 #평화와안정\n",
       "1                     #자유로운시간활용 #여가활동 #독서 #음악감상 #산책\n",
       "2     #독립과자립 #자유와책임 #상호보완적인 요소 #균형과균형 #자유와책임 #균형과균형\n",
       "3                    #자점인식 #성취감 #분석력 #창의적사고 #아이디어발전\n",
       "4                    #시험끝 #해방감 #친구들과함께 #자유로운시간 #즐거움\n",
       "5                     #과학소품 #구매 #소품제작 #과학적사고 #창의력발휘\n",
       "6                       #내적안정 #평화로움 #행복 #삶의만족도 #감사함\n",
       "7          #출근길실수 #버스를 놓쳤다 #부주의와급함 #실패와상사의질책 #배움과개선\n",
       "8                #주변환경소통 #소통과이해 #관계중요성 #가족과함께 #의견존중\n",
       "9                        #가족여행 #풍경 #맛있는음식 #즐거움 #유대감\n",
       "10                  #주변평가 #이해와존중 #자신감 #진정한평가 #진정한평가\n",
       "11                   #복습 #자신감키우기 #시험준비 #긴장과기대 #잠에들다\n",
       "12                  #자작곡 #가사쓰기 #감정표현 #음악으로소통 #소중한추억\n",
       "13                      #가족변화 #적응과이해 #유대감 #서로지지 #배려\n",
       "14                #지역사회 #다양성존중 #의견공유 #이해와존중 #지역사회참여\n",
       "15                       #가족사진 #사진찍기 #편집 #창의적작업 #공유\n",
       "16                  #코딩챌린지 #프로그래밍능력향상 #아이디어해결 #문제해결\n",
       "17       #창의적인도전 #프로젝트시작 #시장진입과경쟁 #성공과사회적변화 #지속적인성공\n",
       "18                    #새로운환경 #적응과변화 #성숙한인식 #다양성 #교류\n",
       "19              #지역풍경 #도시의모험 #동화와아름다움 #감동과영감 #소중한추억\n",
       "20              #방탄소년단 #봄날 #일상과가족 #친구들과의순간 #감사함 #희망\n",
       "21              #운동프로그램 #체력향상 #근력증진 #건강한나를위해 #열정과노력\n",
       "22               #인생방향성 #탐색과성장 #지식활용 #소통과이야기 #세계관확장\n",
       "23               #공부계획 #스케줄관리 #목표설정 #꾸준한노력 #스트레스최소화\n",
       "24                      #생리적요인 #식사 #수면 #건강한상태 #감정변화\n",
       "25                 #도서관과카페 #책읽기 #공부하기 #자기계발 #창작적분위기\n",
       "26                          #산업동향 #최신기술 #공부 #이해 #공부\n",
       "27                      #좋아하는음악 #힐링 #스트레스해소 #힐링 #힐링\n",
       "28                 #가족과함께 #독서 #문학작품탐구 #이해와지지 #소중한시간\n",
       "29                   #휴백꽃 #휴애리자연생활공원 #아름다운자연 #평화와안정\n",
       "Name: hash_tag_out, dtype: object"
      ]
     },
     "execution_count": 194,
     "metadata": {},
     "output_type": "execute_result"
    }
   ],
   "source": [
    "diary_test.hash_tag_out.iloc[:30]"
   ]
  },
  {
   "cell_type": "code",
   "execution_count": 180,
   "metadata": {},
   "outputs": [
    {
     "data": {
      "text/plain": [
       "30                      #꿈 #유명인과만남 #협업 #성장과발전 #열정과노력\n",
       "31                    #꿈과목표 #자기계발 #지속적인학습 #꾸준한노력 #배움\n",
       "32                        #전공과일상균형 #시간부족 #의욕저하 #조언필요\n",
       "33          #환경문제인식 #지속가능한삶 #작은노력큰변화 #건강한지구 #작은노력큰변화\n",
       "34          #인간관계 #불안과고민극복 #자기반성 #소통과의견공유 #긍정적인사고와자세\n",
       "35                 #갑작스러운날씨 #몸상태영향 #예민한반응 #대응력 #건강관리\n",
       "36                          #가치관 #신념 #논의 #탐구 #관점 #인식\n",
       "37                #새로운프로젝트 #업무완료 #동료협력 #성취와보람 #도전과성장\n",
       "38                              #가족 #취미 #관심사 #이해 #존중\n",
       "39              #음악앱 #음악스트리밍 #개인화된추천 #플레이리스트 #음악을즐기다\n",
       "40                #스터디그룹 #친구들과공부 #강점발휘 #학습효율 #친구들과공부\n",
       "41            #종강후복수전공 #졸업요건확인 #학업계획 #미래방향성 #책임감과성취감\n",
       "42                    #구름 #나무 #자연의아름다움 #평온함 #자연의아름다움\n",
       "43          #건강을유지하며 #삶의만족도 #운동과식습관 #스트레스해소 #자신감과만족감\n",
       "44              #수수업성적향상목표 #친구와의이야기 #꾸준한복습 #문제해결 #소통\n",
       "45    #숙소에서의휴식 #안락한분위기 #아늑한소파와 조용한분위기 #편안한침대 #안락한분위기\n",
       "46                #친구들과함께 #순간과추억 #우정을깊게 #에너지와힘 #강한우정\n",
       "47                        #자아실현 #창의적활동 #행복 #자기개발 #보람\n",
       "48                  #가족과함께 #요리와베이킹 #맛있는음식 #협력 #행복한시간\n",
       "49                #오와의통화 #즐거움 #소중한대화 #사랑하는친구들 #지지와격려\n",
       "50             #자존감과존중 #자신을사랑해 #자신을존중하다 #자아실현 #성장과발전\n",
       "51                     #친구와의통화 #소식나누기 #소중한대화 #서로의이야기\n",
       "52               #스포츠일에스포츠 #액티비티참여 #충전과휴식 #함께놀이 #즐거움\n",
       "53             #예술작품 #감성적인여유 #감동적인여가 #예술의아름다움 #마음의여유\n",
       "54                         #취미 #자아실현 #창의력 #감정표현 #창의력\n",
       "55                #사회문제해결 #새로운아이디어 #사회적변화 #협력 #사회적변화\n",
       "56               #사랑과이해 #가족과함께 #소중한시간 #조건없는사랑 #이해와존중\n",
       "57                       #사소한운동 #활기찬휴식 #활기찬휴식 #활기찬휴식\n",
       "58                   #환경보호 #지속가능한삶 #에너지절약 #재활용 #분리수거\n",
       "59                     #새로운도전 #꿈과목표 #동기부여 #노력과성장 #보람\n",
       "Name: hash_tag_out, dtype: object"
      ]
     },
     "execution_count": 180,
     "metadata": {},
     "output_type": "execute_result"
    }
   ],
   "source": [
    "diary_test.hash_tag_out.iloc[30:60]"
   ]
  },
  {
   "cell_type": "code",
   "execution_count": 275,
   "metadata": {},
   "outputs": [],
   "source": [
    "diary_test.to_csv(\"diary_test_out.csv\", index = False, encoding = 'utf-8', sep = ',')"
   ]
  },
  {
   "cell_type": "code",
   "execution_count": 182,
   "metadata": {},
   "outputs": [
    {
     "data": {
      "text/plain": [
       "hash_tag_out\n",
       "5    270\n",
       "4     20\n",
       "6     11\n",
       "Name: count, dtype: int64"
      ]
     },
     "execution_count": 182,
     "metadata": {},
     "output_type": "execute_result"
    }
   ],
   "source": [
    "# 해시태그 개수 확인\n",
    "diary_test['hash_tag_out'].map(lambda x: x.count(\"#\")).value_counts()"
   ]
  },
  {
   "cell_type": "markdown",
   "metadata": {},
   "source": [
    "## Rouge"
   ]
  },
  {
   "cell_type": "code",
   "execution_count": 19,
   "metadata": {},
   "outputs": [
    {
     "name": "stdout",
     "output_type": "stream",
     "text": [
      "Requirement already satisfied: rouge in c:\\users\\user\\documents\\ewha\\log\\log\\web\\flask-server\\venv\\lib\\site-packages (1.0.1)\n",
      "Requirement already satisfied: six in c:\\users\\user\\documents\\ewha\\log\\log\\web\\flask-server\\venv\\lib\\site-packages (from rouge) (1.16.0)\n"
     ]
    },
    {
     "name": "stderr",
     "output_type": "stream",
     "text": [
      "\n",
      "[notice] A new release of pip is available: 23.2.1 -> 23.3.2\n",
      "[notice] To update, run: python.exe -m pip install --upgrade pip\n"
     ]
    }
   ],
   "source": [
    "!pip install rouge"
   ]
  },
  {
   "cell_type": "code",
   "execution_count": 215,
   "metadata": {
    "id": "HLxGuffwW1Fb"
   },
   "outputs": [],
   "source": [
    "from rouge import Rouge\n",
    "rouge_score = Rouge()"
   ]
  },
  {
   "cell_type": "code",
   "execution_count": 216,
   "metadata": {},
   "outputs": [],
   "source": [
    "def cal_rouge(original, reference):\n",
    "  original = \"\".join(original.split(\"#\")).strip() # 해시태그 제거 후 측정\n",
    "  reference = \"\".join(reference.split(\"#\")).strip()\n",
    "  score = rouge_score.get_scores([original], [reference], avg = True)\n",
    "  return score"
   ]
  },
  {
   "cell_type": "code",
   "execution_count": 217,
   "metadata": {},
   "outputs": [],
   "source": [
    "r1_r = r1_p = r1_f = 0\n",
    "r2_r = r2_p = r2_f = 0\n",
    "rl_r = rl_p = rl_f = 0\n",
    "\n",
    "for i in range(len(diary_test)):\n",
    "    scores = cal_rouge(diary_test.iloc[i,2], diary_test.iloc[i,3])\n",
    "    r1_r += scores['rouge-1']['r']\n",
    "    r1_p += scores['rouge-1']['p']\n",
    "    r1_f += scores['rouge-1']['f']\n",
    "    r2_r += scores['rouge-2']['r']\n",
    "    r2_p += scores['rouge-2']['p']\n",
    "    r2_f += scores['rouge-2']['f']\n",
    "    rl_r += scores['rouge-l']['r']\n",
    "    rl_p += scores['rouge-l']['p']\n",
    "    rl_f += scores['rouge-l']['f']\n",
    "\n",
    "r1_r = round(r1_r / len(diary_test), 3)\n",
    "r1_p = round(r1_p / len(diary_test), 3)\n",
    "r1_f = round(r1_f / len(diary_test), 3)\n",
    "r2_r = round(r2_r / len(diary_test), 3)\n",
    "r2_p = round(r2_p / len(diary_test), 3)\n",
    "r2_f = round(r2_f / len(diary_test), 3)\n",
    "rl_r = round(rl_r / len(diary_test), 3)\n",
    "rl_p = round(rl_p / len(diary_test), 3)\n",
    "rl_f = round(rl_f / len(diary_test), 3)"
   ]
  },
  {
   "cell_type": "code",
   "execution_count": 218,
   "metadata": {},
   "outputs": [],
   "source": [
    "# ROUGE (average) - 해시태그이므로 rouge-2부터는 의미 없음\n",
    "tag_rouge = dict({'rouge-1': dict({'r': r1_r, 'p': r1_p, 'f': r1_f}),\n",
    "      'rouge-2': dict({'r': r2_r, 'p': r2_p, 'f': r2_f}),\n",
    "      'rouge-l': dict({'r': r1_r, 'p': r1_p, 'f': r1_f})})"
   ]
  },
  {
   "cell_type": "code",
   "execution_count": 219,
   "metadata": {},
   "outputs": [
    {
     "data": {
      "text/plain": [
       "{'rouge-1': {'r': 0.523, 'p': 0.481, 'f': 0.497},\n",
       " 'rouge-2': {'r': 0.279, 'p': 0.264, 'f': 0.269},\n",
       " 'rouge-l': {'r': 0.523, 'p': 0.481, 'f': 0.497}}"
      ]
     },
     "execution_count": 219,
     "metadata": {},
     "output_type": "execute_result"
    }
   ],
   "source": [
    "tag_rouge"
   ]
  },
  {
   "cell_type": "markdown",
   "metadata": {},
   "source": [
    "## BertScore"
   ]
  },
  {
   "cell_type": "code",
   "execution_count": 220,
   "metadata": {},
   "outputs": [
    {
     "name": "stdout",
     "output_type": "stream",
     "text": [
      "Requirement already satisfied: bert_score in c:\\users\\user\\documents\\ewha\\log\\log\\web\\flask-server\\venv\\lib\\site-packages (0.3.13)\n",
      "Requirement already satisfied: torch>=1.0.0 in c:\\users\\user\\documents\\ewha\\log\\log\\web\\flask-server\\venv\\lib\\site-packages (from bert_score) (2.1.2+cu118)\n",
      "Requirement already satisfied: pandas>=1.0.1 in c:\\users\\user\\documents\\ewha\\log\\log\\web\\flask-server\\venv\\lib\\site-packages (from bert_score) (2.1.1)\n",
      "Requirement already satisfied: transformers>=3.0.0 in c:\\users\\user\\documents\\ewha\\log\\log\\web\\flask-server\\venv\\lib\\site-packages (from bert_score) (4.37.2)\n",
      "Requirement already satisfied: numpy in c:\\users\\user\\documents\\ewha\\log\\log\\web\\flask-server\\venv\\lib\\site-packages (from bert_score) (1.26.0)\n",
      "Requirement already satisfied: requests in c:\\users\\user\\documents\\ewha\\log\\log\\web\\flask-server\\venv\\lib\\site-packages (from bert_score) (2.31.0)\n",
      "Requirement already satisfied: tqdm>=4.31.1 in c:\\users\\user\\documents\\ewha\\log\\log\\web\\flask-server\\venv\\lib\\site-packages (from bert_score) (4.66.1)\n",
      "Requirement already satisfied: matplotlib in c:\\users\\user\\documents\\ewha\\log\\log\\web\\flask-server\\venv\\lib\\site-packages (from bert_score) (3.8.0)\n",
      "Requirement already satisfied: packaging>=20.9 in c:\\users\\user\\documents\\ewha\\log\\log\\web\\flask-server\\venv\\lib\\site-packages (from bert_score) (23.2)\n",
      "Requirement already satisfied: python-dateutil>=2.8.2 in c:\\users\\user\\documents\\ewha\\log\\log\\web\\flask-server\\venv\\lib\\site-packages (from pandas>=1.0.1->bert_score) (2.8.2)\n",
      "Requirement already satisfied: pytz>=2020.1 in c:\\users\\user\\documents\\ewha\\log\\log\\web\\flask-server\\venv\\lib\\site-packages (from pandas>=1.0.1->bert_score) (2023.3.post1)\n",
      "Requirement already satisfied: tzdata>=2022.1 in c:\\users\\user\\documents\\ewha\\log\\log\\web\\flask-server\\venv\\lib\\site-packages (from pandas>=1.0.1->bert_score) (2023.3)\n",
      "Requirement already satisfied: filelock in c:\\users\\user\\documents\\ewha\\log\\log\\web\\flask-server\\venv\\lib\\site-packages (from torch>=1.0.0->bert_score) (3.12.4)\n",
      "Requirement already satisfied: typing-extensions in c:\\users\\user\\documents\\ewha\\log\\log\\web\\flask-server\\venv\\lib\\site-packages (from torch>=1.0.0->bert_score) (4.8.0)\n",
      "Requirement already satisfied: sympy in c:\\users\\user\\documents\\ewha\\log\\log\\web\\flask-server\\venv\\lib\\site-packages (from torch>=1.0.0->bert_score) (1.12)\n",
      "Requirement already satisfied: networkx in c:\\users\\user\\documents\\ewha\\log\\log\\web\\flask-server\\venv\\lib\\site-packages (from torch>=1.0.0->bert_score) (3.2.1)\n",
      "Requirement already satisfied: jinja2 in c:\\users\\user\\documents\\ewha\\log\\log\\web\\flask-server\\venv\\lib\\site-packages (from torch>=1.0.0->bert_score) (3.1.2)\n",
      "Requirement already satisfied: fsspec in c:\\users\\user\\documents\\ewha\\log\\log\\web\\flask-server\\venv\\lib\\site-packages (from torch>=1.0.0->bert_score) (2023.10.0)\n",
      "Requirement already satisfied: colorama in c:\\users\\user\\documents\\ewha\\log\\log\\web\\flask-server\\venv\\lib\\site-packages (from tqdm>=4.31.1->bert_score) (0.4.6)\n",
      "Requirement already satisfied: huggingface-hub<1.0,>=0.19.3 in c:\\users\\user\\documents\\ewha\\log\\log\\web\\flask-server\\venv\\lib\\site-packages (from transformers>=3.0.0->bert_score) (0.20.1)\n",
      "Requirement already satisfied: pyyaml>=5.1 in c:\\users\\user\\documents\\ewha\\log\\log\\web\\flask-server\\venv\\lib\\site-packages (from transformers>=3.0.0->bert_score) (6.0.1)\n",
      "Requirement already satisfied: regex!=2019.12.17 in c:\\users\\user\\documents\\ewha\\log\\log\\web\\flask-server\\venv\\lib\\site-packages (from transformers>=3.0.0->bert_score) (2023.12.25)\n",
      "Requirement already satisfied: tokenizers<0.19,>=0.14 in c:\\users\\user\\documents\\ewha\\log\\log\\web\\flask-server\\venv\\lib\\site-packages (from transformers>=3.0.0->bert_score) (0.15.0)\n",
      "Requirement already satisfied: safetensors>=0.4.1 in c:\\users\\user\\documents\\ewha\\log\\log\\web\\flask-server\\venv\\lib\\site-packages (from transformers>=3.0.0->bert_score) (0.4.1)\n",
      "Requirement already satisfied: contourpy>=1.0.1 in c:\\users\\user\\documents\\ewha\\log\\log\\web\\flask-server\\venv\\lib\\site-packages (from matplotlib->bert_score) (1.1.1)\n",
      "Requirement already satisfied: cycler>=0.10 in c:\\users\\user\\documents\\ewha\\log\\log\\web\\flask-server\\venv\\lib\\site-packages (from matplotlib->bert_score) (0.12.1)\n",
      "Requirement already satisfied: fonttools>=4.22.0 in c:\\users\\user\\documents\\ewha\\log\\log\\web\\flask-server\\venv\\lib\\site-packages (from matplotlib->bert_score) (4.43.1)\n",
      "Requirement already satisfied: kiwisolver>=1.0.1 in c:\\users\\user\\documents\\ewha\\log\\log\\web\\flask-server\\venv\\lib\\site-packages (from matplotlib->bert_score) (1.4.5)\n",
      "Requirement already satisfied: pillow>=6.2.0 in c:\\users\\user\\documents\\ewha\\log\\log\\web\\flask-server\\venv\\lib\\site-packages (from matplotlib->bert_score) (10.0.1)\n",
      "Requirement already satisfied: pyparsing>=2.3.1 in c:\\users\\user\\documents\\ewha\\log\\log\\web\\flask-server\\venv\\lib\\site-packages (from matplotlib->bert_score) (3.1.1)\n",
      "Requirement already satisfied: charset-normalizer<4,>=2 in c:\\users\\user\\documents\\ewha\\log\\log\\web\\flask-server\\venv\\lib\\site-packages (from requests->bert_score) (3.3.0)\n",
      "Requirement already satisfied: idna<4,>=2.5 in c:\\users\\user\\documents\\ewha\\log\\log\\web\\flask-server\\venv\\lib\\site-packages (from requests->bert_score) (3.4)\n",
      "Requirement already satisfied: urllib3<3,>=1.21.1 in c:\\users\\user\\documents\\ewha\\log\\log\\web\\flask-server\\venv\\lib\\site-packages (from requests->bert_score) (1.26.18)\n",
      "Requirement already satisfied: certifi>=2017.4.17 in c:\\users\\user\\documents\\ewha\\log\\log\\web\\flask-server\\venv\\lib\\site-packages (from requests->bert_score) (2023.7.22)\n",
      "Requirement already satisfied: six>=1.5 in c:\\users\\user\\documents\\ewha\\log\\log\\web\\flask-server\\venv\\lib\\site-packages (from python-dateutil>=2.8.2->pandas>=1.0.1->bert_score) (1.16.0)\n",
      "Requirement already satisfied: MarkupSafe>=2.0 in c:\\users\\user\\documents\\ewha\\log\\log\\web\\flask-server\\venv\\lib\\site-packages (from jinja2->torch>=1.0.0->bert_score) (2.1.3)\n",
      "Requirement already satisfied: mpmath>=0.19 in c:\\users\\user\\documents\\ewha\\log\\log\\web\\flask-server\\venv\\lib\\site-packages (from sympy->torch>=1.0.0->bert_score) (1.3.0)\n"
     ]
    },
    {
     "name": "stderr",
     "output_type": "stream",
     "text": [
      "\n",
      "[notice] A new release of pip is available: 23.2.1 -> 23.3.2\n",
      "[notice] To update, run: python.exe -m pip install --upgrade pip\n"
     ]
    }
   ],
   "source": [
    "!pip install bert_score"
   ]
  },
  {
   "cell_type": "code",
   "execution_count": 221,
   "metadata": {},
   "outputs": [],
   "source": [
    "import bert_score\n",
    "\n",
    "def bertScore(original, reference):\n",
    "  original = \" \".join(original.split(\"#\")) # 해시태그 제거 후 측정\n",
    "  reference = \" \".join(reference.split(\"#\"))\n",
    "  orig = [original]\n",
    "  ref = [reference]\n",
    "  P,R,F = bert_score.score(orig, ref, lang='ko')\n",
    "  return P, R, F"
   ]
  },
  {
   "cell_type": "code",
   "execution_count": 222,
   "metadata": {},
   "outputs": [],
   "source": [
    "P = R = F = 0\n",
    "\n",
    "for i in range(len(diary_test)):\n",
    "    p, r, f = bertScore(diary_test.iloc[i,2], diary_test.iloc[i,3])\n",
    "    P+=p\n",
    "    R+=r\n",
    "    F+=f\n",
    "\n",
    "R = round(R.item() / len(diary_test), 3)\n",
    "P = round(P.item() / len(diary_test), 3)\n",
    "F = round(F.item() / len(diary_test), 3)"
   ]
  },
  {
   "cell_type": "code",
   "execution_count": 223,
   "metadata": {},
   "outputs": [],
   "source": [
    "# BertScore (average)\n",
    "tag_bert = dict({'recall': R, 'precision': P, 'f1-score': F})"
   ]
  },
  {
   "cell_type": "code",
   "execution_count": 224,
   "metadata": {},
   "outputs": [
    {
     "data": {
      "text/plain": [
       "{'recall': 0.877, 'precision': 0.867, 'f1-score': 0.872}"
      ]
     },
     "execution_count": 224,
     "metadata": {},
     "output_type": "execute_result"
    }
   ],
   "source": [
    "tag_bert"
   ]
  },
  {
   "cell_type": "code",
   "execution_count": 225,
   "metadata": {
    "id": "9PScAanJXFgw"
   },
   "outputs": [],
   "source": [
    "# Summary Evaluation"
   ]
  },
  {
   "cell_type": "code",
   "execution_count": 253,
   "metadata": {},
   "outputs": [
    {
     "name": "stderr",
     "output_type": "stream",
     "text": [
      "You passed along `num_labels=3` with an incompatible id to label map: {'0': 'NEGATIVE', '1': 'POSITIVE'}. The number of labels wil be overwritten to 2.\n"
     ]
    }
   ],
   "source": [
    "from transformers import BartForConditionalGeneration\n",
    "model_name = \"jjae/summary\"\n",
    "tokenizer = AutoTokenizer.from_pretrained(model_name)\n",
    "model = BartForConditionalGeneration.from_pretrained(model_name).to(device)"
   ]
  },
  {
   "cell_type": "code",
   "execution_count": 254,
   "metadata": {},
   "outputs": [],
   "source": [
    "def diary_summary(text):\n",
    "  # Encode input text\n",
    "  input_ids = tokenizer.encode(text, return_tensors = 'pt').to(device)\n",
    "  # Generate summary text ids\n",
    "  summary_text_ids = model.generate(input_ids = input_ids,\n",
    "                                    bos_token_id = model.config.bos_token_id,\n",
    "                                    eos_token_id = model.config.eos_token_id,\n",
    "                                    length_penalty = 2.0,\n",
    "                                    max_length = 150,\n",
    "                                    num_beams = 2)\n",
    "  return tokenizer.decode(summary_text_ids[0], skip_special_tokens = True)"
   ]
  },
  {
   "cell_type": "code",
   "execution_count": 255,
   "metadata": {},
   "outputs": [
    {
     "data": {
      "text/plain": [
       "\"봄날 '봄날'이라는 노래에 대한 생각을 통해 감사함과 행복을 느꼈어요.\""
      ]
     },
     "execution_count": 255,
     "metadata": {},
     "output_type": "execute_result"
    }
   ],
   "source": [
    "diary_summary(diary_test.iloc[20,0])"
   ]
  },
  {
   "cell_type": "code",
   "execution_count": 231,
   "metadata": {},
   "outputs": [
    {
     "data": {
      "text/plain": [
       "'좋아하는 음악을 들으며 스트레스를 풀 수 있는 시간을 가졌어. 음악은 나에게 큰 위로와 힘을 주는 존재야.'"
      ]
     },
     "execution_count": 231,
     "metadata": {},
     "output_type": "execute_result"
    }
   ],
   "source": [
    "diary_summary(diary_test.iloc[27,0])"
   ]
  },
  {
   "cell_type": "code",
   "execution_count": 256,
   "metadata": {},
   "outputs": [
    {
     "name": "stderr",
     "output_type": "stream",
     "text": [
      "C:\\Users\\user\\AppData\\Local\\Temp\\ipykernel_7568\\1527206841.py:2: FutureWarning: Series.__getitem__ treating keys as positions is deprecated. In a future version, integer keys will always be treated as labels (consistent with DataFrame behavior). To access a value by position, use `ser.iloc[pos]`\n",
      "  diary_test['summary_out'] = diary_test.apply(lambda x: diary_summary(x[0]), axis = 1)\n"
     ]
    }
   ],
   "source": [
    "# 모델 output열 생성\n",
    "diary_test['summary_out'] = diary_test.apply(lambda x: diary_summary(x[0]), axis = 1)"
   ]
  },
  {
   "cell_type": "code",
   "execution_count": 257,
   "metadata": {},
   "outputs": [
    {
     "data": {
      "text/html": [
       "<div>\n",
       "<style scoped>\n",
       "    .dataframe tbody tr th:only-of-type {\n",
       "        vertical-align: middle;\n",
       "    }\n",
       "\n",
       "    .dataframe tbody tr th {\n",
       "        vertical-align: top;\n",
       "    }\n",
       "\n",
       "    .dataframe thead th {\n",
       "        text-align: right;\n",
       "    }\n",
       "</style>\n",
       "<table border=\"1\" class=\"dataframe\">\n",
       "  <thead>\n",
       "    <tr style=\"text-align: right;\">\n",
       "      <th></th>\n",
       "      <th>diary</th>\n",
       "      <th>summary</th>\n",
       "      <th>hashtag</th>\n",
       "      <th>hash_tag_out</th>\n",
       "      <th>summary_out</th>\n",
       "    </tr>\n",
       "  </thead>\n",
       "  <tbody>\n",
       "    <tr>\n",
       "      <th>0</th>\n",
       "      <td>아침 일어나자마자 조용한 공간에서 명상을 시작했어. 깊은 숨을 들이마시며 마음을 가...</td>\n",
       "      <td>자기계발을 위해 명상과 여유를 추구한 날이었어요. 명상을 통해 마음의 여유와 집중력...</td>\n",
       "      <td>#자기계발 #명상과여유 #평화와안정 #내면의평화 #더나은사람되기</td>\n",
       "      <td>#자기계발 #명상과여유 #마음의여유 #평화와안정 #평화와안정</td>\n",
       "      <td>명상과 여유를 통해 내 안의 평화와 안정을 찾고, 자기계발에 노력할 것을 다짐했어요.</td>\n",
       "    </tr>\n",
       "    <tr>\n",
       "      <th>1</th>\n",
       "      <td>바쁜 일상에서 벗어나서 나만의 시간을 가지고 즐거운 여가 활동을 즐길 수 있어서 기...</td>\n",
       "      <td>자유로운 시간을 활용하여 여가 활동에 몰두한 하루였어요. 독서, 음악 감상, 산책 ...</td>\n",
       "      <td>#자유로운시간활용 #여가활동 #독서 #음악감상 #산책</td>\n",
       "      <td>#자유로운시간활용 #여가활동 #독서 #음악감상 #산책</td>\n",
       "      <td>자유로운 시간을 활용하여 여가 활동을 즐긴 날이었어요. 독서와 산책, 음악 감성을 ...</td>\n",
       "    </tr>\n",
       "    <tr>\n",
       "      <th>2</th>\n",
       "      <td>독립과 자립은 우리에게 큰 자유를 준다. 우리는 자유롭게 선택하고 행동할 수 있으며...</td>\n",
       "      <td>독립과 자립을 통해 우리는 자유를 얻지만, 그에 따른 책임도 져야 한다. 자유로운 ...</td>\n",
       "      <td>#독립과자립 #자유와책임 #선택과책임 #자유로운선택 #균형있는삶</td>\n",
       "      <td>#독립과자립 #자유와책임 #상호보완적인 요소 #균형과균형 #자유와책임 #균형과균형</td>\n",
       "      <td>독립과 자립을 통해 얻은 자유와 책임의 관계에 대해 고민하고 생각해보았다. 우리는 ...</td>\n",
       "    </tr>\n",
       "    <tr>\n",
       "      <th>3</th>\n",
       "      <td>나는 내가 가진 강점을 찾아보고, 그것을 발휘하며 성취를 이루어갈 수 있는 시간을 ...</td>\n",
       "      <td>자신의 강점을 인식하고 이를 통해 성취감을 느끼는 날이었다. 나의 분석력과 창의적인...</td>\n",
       "      <td>#자신의강점 #성취감 #분석력 #창의적사고 #자신감</td>\n",
       "      <td>#자점인식 #성취감 #분석력 #창의적사고 #아이디어발전</td>\n",
       "      <td>자신의 강점을 인식하고 이를 통해 성취감을 느끼는 날이었다. 내가 가진 강점을 활용...</td>\n",
       "    </tr>\n",
       "    <tr>\n",
       "      <th>4</th>\n",
       "      <td>시험장을 나와서 자유로운 숨을 쉬며 가벼운 발걸음으로 친구들과 함께 밖으로 나왔어....</td>\n",
       "      <td>시험이 끝나고 해방감을 느끼며 친구들과 밖으로 나가서 자유롭게 즐거운 시간을 보냈어.</td>\n",
       "      <td>#시험이끝 #자유로운느낌 #친구와산책 #즐거운시간 #열심히공부하며즐기기</td>\n",
       "      <td>#시험끝 #해방감 #친구들과함께 #자유로운시간 #즐거움</td>\n",
       "      <td>시험장에서에서 친구들과 함께 산책하고 웃을 수 있는 시간을 보냈어. 시험 기간 동안...</td>\n",
       "    </tr>\n",
       "    <tr>\n",
       "      <th>...</th>\n",
       "      <td>...</td>\n",
       "      <td>...</td>\n",
       "      <td>...</td>\n",
       "      <td>...</td>\n",
       "      <td>...</td>\n",
       "    </tr>\n",
       "    <tr>\n",
       "      <th>296</th>\n",
       "      <td>우리는 함께 모여서 서로의 성과와 성공을 축하하며 기뻐함을 나눴어. 각자가 이룬 목...</td>\n",
       "      <td>친구들과의 서로의 성취와 성공을 축하하며 함께 성장하는 시간은 우정을 깊게 만들어주...</td>\n",
       "      <td>#성취와성공 #축하와응원 #강한우정 #자랑스러운순간 #소중한시간</td>\n",
       "      <td>#성취와성공 #축하와응원 #강한우정 #소중한시간 #응원과지지</td>\n",
       "      <td>친구들과의 서로의 성취와 성공을 축하하며 응원하는 시간은 우정을 깊게 만들어주고 응...</td>\n",
       "    </tr>\n",
       "    <tr>\n",
       "      <th>297</th>\n",
       "      <td>다른 사람들에게 도움이 되고자 하는 마음으로 나와 함께하는 이들과 함께 길거리에서 ...</td>\n",
       "      <td>길거리 나눔 활동에 참여하여 음식과 생필품을 나누어주고, 도움이 필요한 사람들과 대...</td>\n",
       "      <td>#길거리나눔 #도움 #사회적연대감 #소통 #나눔의가치</td>\n",
       "      <td>#길거리나눔 #도움 #사회적연대 #소통 #사회적연대</td>\n",
       "      <td>길거리 나눔 활동에 참여하여 도움을 주는 경험을 했어요. 작지만 의미 있는 일로 사...</td>\n",
       "    </tr>\n",
       "    <tr>\n",
       "      <th>298</th>\n",
       "      <td>삶은 끊임없는 변화와 도전을 안겨주는데, 나는 이런 변화에 어떻게 적응해야 할지 항...</td>\n",
       "      <td>인생의 변화와 그에 대한 적응에 대해 생각하게 된 하루였어요. 변화에 대한 두려움을...</td>\n",
       "      <td>#인생의변화 #적응력 #도전과성장 #새로운기회 #성공을향해</td>\n",
       "      <td>#인생의변화 #적응력 #성장과발전 #도전과성장 #새로운도전</td>\n",
       "      <td>인생의 변화에 대한 적응에 대해 고민하고 생각해보았어요. 변화에 대한 두려움을 떨쳐...</td>\n",
       "    </tr>\n",
       "    <tr>\n",
       "      <th>299</th>\n",
       "      <td>과학 잡지는 최신 연구 동향과 흥미로운 과학적인 이야기를 제공해주어 지식의 확장과 ...</td>\n",
       "      <td>과학 잡지를 읽는 시간을 가졌습니다. 최신 연구 동향과 흥미로운 이야기를 통해 과학...</td>\n",
       "      <td>#과학잡지 #지식확장 #과학연구 #우주탐사 #과학의매력 #학습</td>\n",
       "      <td>#과학잡지 # 최신연구동향 #흥미로운이야기 #과학지식 #지식확장</td>\n",
       "      <td>과학 잡지를 읽는 시간을 가졌습니다. 최신 연구 동향과 흥미로운 이야기를 통해 과학...</td>\n",
       "    </tr>\n",
       "    <tr>\n",
       "      <th>300</th>\n",
       "      <td>설레는 마음으로 참가 준비를 하고 전시장에 도착했을 때부터 다양한 작품과 창작자들의...</td>\n",
       "      <td>아트 마켓이나 페스티벌에 참가하여 창작물을 전시하고 다른 사람들과 소통하는 경험을 ...</td>\n",
       "      <td>#아트마켓 #페스티벌참가 #창작물전시 #소통과영감 #소중한경험</td>\n",
       "      <td>#아트마켓 #페스티벌참가 #창작물전시 #소통 #예술의힘</td>\n",
       "      <td>아트 마켓이나 페스티벌에 참가하여 작품을 감상하고 다른 작가들의 작품을 감상하는 경...</td>\n",
       "    </tr>\n",
       "  </tbody>\n",
       "</table>\n",
       "<p>301 rows × 5 columns</p>\n",
       "</div>"
      ],
      "text/plain": [
       "                                                 diary  \\\n",
       "0    아침 일어나자마자 조용한 공간에서 명상을 시작했어. 깊은 숨을 들이마시며 마음을 가...   \n",
       "1    바쁜 일상에서 벗어나서 나만의 시간을 가지고 즐거운 여가 활동을 즐길 수 있어서 기...   \n",
       "2    독립과 자립은 우리에게 큰 자유를 준다. 우리는 자유롭게 선택하고 행동할 수 있으며...   \n",
       "3    나는 내가 가진 강점을 찾아보고, 그것을 발휘하며 성취를 이루어갈 수 있는 시간을 ...   \n",
       "4    시험장을 나와서 자유로운 숨을 쉬며 가벼운 발걸음으로 친구들과 함께 밖으로 나왔어....   \n",
       "..                                                 ...   \n",
       "296  우리는 함께 모여서 서로의 성과와 성공을 축하하며 기뻐함을 나눴어. 각자가 이룬 목...   \n",
       "297  다른 사람들에게 도움이 되고자 하는 마음으로 나와 함께하는 이들과 함께 길거리에서 ...   \n",
       "298  삶은 끊임없는 변화와 도전을 안겨주는데, 나는 이런 변화에 어떻게 적응해야 할지 항...   \n",
       "299  과학 잡지는 최신 연구 동향과 흥미로운 과학적인 이야기를 제공해주어 지식의 확장과 ...   \n",
       "300  설레는 마음으로 참가 준비를 하고 전시장에 도착했을 때부터 다양한 작품과 창작자들의...   \n",
       "\n",
       "                                               summary  \\\n",
       "0    자기계발을 위해 명상과 여유를 추구한 날이었어요. 명상을 통해 마음의 여유와 집중력...   \n",
       "1    자유로운 시간을 활용하여 여가 활동에 몰두한 하루였어요. 독서, 음악 감상, 산책 ...   \n",
       "2    독립과 자립을 통해 우리는 자유를 얻지만, 그에 따른 책임도 져야 한다. 자유로운 ...   \n",
       "3    자신의 강점을 인식하고 이를 통해 성취감을 느끼는 날이었다. 나의 분석력과 창의적인...   \n",
       "4      시험이 끝나고 해방감을 느끼며 친구들과 밖으로 나가서 자유롭게 즐거운 시간을 보냈어.   \n",
       "..                                                 ...   \n",
       "296  친구들과의 서로의 성취와 성공을 축하하며 함께 성장하는 시간은 우정을 깊게 만들어주...   \n",
       "297  길거리 나눔 활동에 참여하여 음식과 생필품을 나누어주고, 도움이 필요한 사람들과 대...   \n",
       "298  인생의 변화와 그에 대한 적응에 대해 생각하게 된 하루였어요. 변화에 대한 두려움을...   \n",
       "299  과학 잡지를 읽는 시간을 가졌습니다. 최신 연구 동향과 흥미로운 이야기를 통해 과학...   \n",
       "300  아트 마켓이나 페스티벌에 참가하여 창작물을 전시하고 다른 사람들과 소통하는 경험을 ...   \n",
       "\n",
       "                                     hashtag  \\\n",
       "0        #자기계발 #명상과여유 #평화와안정 #내면의평화 #더나은사람되기   \n",
       "1              #자유로운시간활용 #여가활동 #독서 #음악감상 #산책   \n",
       "2        #독립과자립 #자유와책임 #선택과책임 #자유로운선택 #균형있는삶   \n",
       "3               #자신의강점 #성취감 #분석력 #창의적사고 #자신감   \n",
       "4    #시험이끝 #자유로운느낌 #친구와산책 #즐거운시간 #열심히공부하며즐기기   \n",
       "..                                       ...   \n",
       "296      #성취와성공 #축하와응원 #강한우정 #자랑스러운순간 #소중한시간   \n",
       "297            #길거리나눔 #도움 #사회적연대감 #소통 #나눔의가치   \n",
       "298         #인생의변화 #적응력 #도전과성장 #새로운기회 #성공을향해   \n",
       "299       #과학잡지 #지식확장 #과학연구 #우주탐사 #과학의매력 #학습   \n",
       "300       #아트마켓 #페스티벌참가 #창작물전시 #소통과영감 #소중한경험   \n",
       "\n",
       "                                      hash_tag_out  \\\n",
       "0                #자기계발 #명상과여유 #마음의여유 #평화와안정 #평화와안정   \n",
       "1                    #자유로운시간활용 #여가활동 #독서 #음악감상 #산책   \n",
       "2    #독립과자립 #자유와책임 #상호보완적인 요소 #균형과균형 #자유와책임 #균형과균형   \n",
       "3                   #자점인식 #성취감 #분석력 #창의적사고 #아이디어발전   \n",
       "4                   #시험끝 #해방감 #친구들과함께 #자유로운시간 #즐거움   \n",
       "..                                             ...   \n",
       "296              #성취와성공 #축하와응원 #강한우정 #소중한시간 #응원과지지   \n",
       "297                   #길거리나눔 #도움 #사회적연대 #소통 #사회적연대   \n",
       "298               #인생의변화 #적응력 #성장과발전 #도전과성장 #새로운도전   \n",
       "299            #과학잡지 # 최신연구동향 #흥미로운이야기 #과학지식 #지식확장   \n",
       "300                 #아트마켓 #페스티벌참가 #창작물전시 #소통 #예술의힘   \n",
       "\n",
       "                                           summary_out  \n",
       "0      명상과 여유를 통해 내 안의 평화와 안정을 찾고, 자기계발에 노력할 것을 다짐했어요.  \n",
       "1    자유로운 시간을 활용하여 여가 활동을 즐긴 날이었어요. 독서와 산책, 음악 감성을 ...  \n",
       "2    독립과 자립을 통해 얻은 자유와 책임의 관계에 대해 고민하고 생각해보았다. 우리는 ...  \n",
       "3    자신의 강점을 인식하고 이를 통해 성취감을 느끼는 날이었다. 내가 가진 강점을 활용...  \n",
       "4    시험장에서에서 친구들과 함께 산책하고 웃을 수 있는 시간을 보냈어. 시험 기간 동안...  \n",
       "..                                                 ...  \n",
       "296  친구들과의 서로의 성취와 성공을 축하하며 응원하는 시간은 우정을 깊게 만들어주고 응...  \n",
       "297  길거리 나눔 활동에 참여하여 도움을 주는 경험을 했어요. 작지만 의미 있는 일로 사...  \n",
       "298  인생의 변화에 대한 적응에 대해 고민하고 생각해보았어요. 변화에 대한 두려움을 떨쳐...  \n",
       "299  과학 잡지를 읽는 시간을 가졌습니다. 최신 연구 동향과 흥미로운 이야기를 통해 과학...  \n",
       "300  아트 마켓이나 페스티벌에 참가하여 작품을 감상하고 다른 작가들의 작품을 감상하는 경...  \n",
       "\n",
       "[301 rows x 5 columns]"
      ]
     },
     "execution_count": 257,
     "metadata": {},
     "output_type": "execute_result"
    }
   ],
   "source": [
    "diary_test"
   ]
  },
  {
   "cell_type": "code",
   "execution_count": 258,
   "metadata": {},
   "outputs": [
    {
     "data": {
      "text/plain": [
       "'나는 내가 가진 강점을 찾아보고, 그것을 발휘하며 성취를 이루어갈 수 있는 시간을 가졌다. 아침에 일어나서부터 나는 내가 가진 강점에 대해 생각했다. 나는 분석력이 뛰어나고 창의적인 사고를 가지고 있다는 것을 알았다. 그래서 오늘은 이 강점들을 활용하여 문제를 해결하고 아이디어를 발전시킬 것이다. 일을 시작하기 전에 나는 목표를 설정했다. 나의 강점을 최대한 활용하여 어떤 문제를 해결하고 어떤 목표를 달성할 것인지를 명확히 정했다. 목표가 뚜렷해지면서 나에게 동기와 열정이 생겼고, 성취를 이루기 위한 열쇠가 되었다. 작업을 진행하면서 나는 내 강점을 살리기 위해 노력했다. 분석력을 발휘하여 문제를 해결하고, 창의적인 사고를 통해 새로운 아이디어를 도출했다. 이 과정에서 나는 자신의 강점을 믿고 발휘함으로써 성취감을 느낄 수 있었다. 작업을 마친 후에는 나의 성취를 돌아보며 기쁨과 만족감을 느꼈다. 내가 가진 강점을 적극적으로 활용하여 뚜렷한 결과를 이뤄냈다는 것에 자신감을 얻었다. 성취의 순간들이 나를 더욱 발전시키고, 더 큰 도전과 성공을 향한 동기부여를 제공해주었다. 하루가 저물어가는 시간에는 나 자신에게 칭찬과 격려의 말을 건네기로 했다. 내가 가진 강점을 인식하고 그것을 발휘함으로써 어떤 성취를 이루었는지를 돌아보며 나 자신에게 감사하고 칭찬해주는 시간을 가졌다. 오늘의 경험을 돌아보며, 자신의 강점을 인식하고 이를 통해 성취감을 느끼는 일은 나에게 큰 힘이 되고 있다는 것을 깨달았다. 이런 소중한 경험을 통해 나는 더욱 자신감을 키우고, 더 큰 도전과 성취를 이루어나갈 수 있을 것이다.'"
      ]
     },
     "execution_count": 258,
     "metadata": {},
     "output_type": "execute_result"
    }
   ],
   "source": [
    "diary_test.iloc[3,0]"
   ]
  },
  {
   "cell_type": "code",
   "execution_count": 259,
   "metadata": {},
   "outputs": [
    {
     "data": {
      "text/plain": [
       "\"봄날 '봄날'이라는 노래에 대한 생각을 통해 감사함과 행복을 느꼈어요.\""
      ]
     },
     "execution_count": 259,
     "metadata": {},
     "output_type": "execute_result"
    }
   ],
   "source": [
    "diary_test.iloc[20,-1]"
   ]
  },
  {
   "cell_type": "code",
   "execution_count": 260,
   "metadata": {},
   "outputs": [],
   "source": [
    "diary_test.to_csv(\"diary_test_out.csv\", index = False)"
   ]
  },
  {
   "cell_type": "code",
   "execution_count": 261,
   "metadata": {},
   "outputs": [
    {
     "data": {
      "text/plain": [
       "count    301.000000\n",
       "mean      93.159468\n",
       "std       35.016298\n",
       "min       22.000000\n",
       "25%       68.000000\n",
       "50%       88.000000\n",
       "75%      112.000000\n",
       "max      208.000000\n",
       "Name: summary_out, dtype: float64"
      ]
     },
     "execution_count": 261,
     "metadata": {},
     "output_type": "execute_result"
    }
   ],
   "source": [
    "# 모델이 생성한 요약 글자수 확인\n",
    "diary_test['summary_out'].map(lambda x: len(x)).describe()"
   ]
  },
  {
   "cell_type": "code",
   "execution_count": 262,
   "metadata": {},
   "outputs": [
    {
     "data": {
      "text/plain": [
       "86      22\n",
       "74      31\n",
       "11      32\n",
       "189     35\n",
       "75      36\n",
       "      ... \n",
       "24     202\n",
       "79     202\n",
       "164    207\n",
       "12     207\n",
       "137    208\n",
       "Name: summary_out, Length: 301, dtype: int64"
      ]
     },
     "execution_count": 262,
     "metadata": {},
     "output_type": "execute_result"
    }
   ],
   "source": [
    "diary_test['summary_out'].map(lambda x: len(x)).sort_values()"
   ]
  },
  {
   "cell_type": "markdown",
   "metadata": {},
   "source": [
    "## Rouge"
   ]
  },
  {
   "cell_type": "code",
   "execution_count": 263,
   "metadata": {},
   "outputs": [],
   "source": [
    "def cal_rouge(original, reference):\n",
    "  score = rouge_score.get_scores([original], [reference], avg = True)\n",
    "  return score"
   ]
  },
  {
   "cell_type": "code",
   "execution_count": 264,
   "metadata": {},
   "outputs": [],
   "source": [
    "r1_r = r1_p = r1_f = 0\n",
    "r2_r = r2_p = r2_f = 0\n",
    "rl_r = rl_p = rl_f = 0\n",
    "\n",
    "for i in range(len(diary_test)):\n",
    "    scores = cal_rouge(diary_test.iloc[i,1], diary_test.iloc[i,-1])\n",
    "    r1_r += scores['rouge-1']['r']\n",
    "    r1_p += scores['rouge-1']['p']\n",
    "    r1_f += scores['rouge-1']['f']\n",
    "    r2_r += scores['rouge-2']['r']\n",
    "    r2_p += scores['rouge-2']['p']\n",
    "    r2_f += scores['rouge-2']['f']\n",
    "    rl_r += scores['rouge-l']['r']\n",
    "    rl_p += scores['rouge-l']['p']\n",
    "    rl_f += scores['rouge-l']['f']\n",
    "\n",
    "r1_r = round(r1_r / len(diary_test), 3)\n",
    "r1_p = round(r1_p / len(diary_test), 3)\n",
    "r1_f = round(r1_f / len(diary_test), 3)\n",
    "r2_r = round(r2_r / len(diary_test), 3)\n",
    "r2_p = round(r2_p / len(diary_test), 3)\n",
    "r2_f = round(r2_f / len(diary_test), 3)\n",
    "rl_r = round(rl_r / len(diary_test), 3)\n",
    "rl_p = round(rl_p / len(diary_test), 3)\n",
    "rl_f = round(rl_f / len(diary_test), 3)"
   ]
  },
  {
   "cell_type": "code",
   "execution_count": 265,
   "metadata": {},
   "outputs": [],
   "source": [
    "# ROUGE (average)\n",
    "tag_rouge = dict({'rouge-1': dict({'r': r1_r, 'p': r1_p, 'f': r1_f}),\n",
    "      'rouge-2': dict({'r': r2_r, 'p': r2_p, 'f': r2_f}),\n",
    "      'rouge-l': dict({'r': r1_r, 'p': r1_p, 'f': r1_f})})"
   ]
  },
  {
   "cell_type": "code",
   "execution_count": 266,
   "metadata": {},
   "outputs": [
    {
     "data": {
      "text/plain": [
       "{'rouge-1': {'r': 0.559, 'p': 0.488, 'f': 0.511},\n",
       " 'rouge-2': {'r': 0.41, 'p': 0.359, 'f': 0.375},\n",
       " 'rouge-l': {'r': 0.559, 'p': 0.488, 'f': 0.511}}"
      ]
     },
     "execution_count": 266,
     "metadata": {},
     "output_type": "execute_result"
    }
   ],
   "source": [
    "tag_rouge"
   ]
  },
  {
   "cell_type": "markdown",
   "metadata": {},
   "source": [
    "## BertScore"
   ]
  },
  {
   "cell_type": "code",
   "execution_count": 267,
   "metadata": {},
   "outputs": [],
   "source": [
    "import bert_score\n",
    "\n",
    "def bertScore(original, reference):\n",
    "  orig = [original]\n",
    "  ref = [reference]\n",
    "  P,R,F = bert_score.score(orig, ref, lang='ko')\n",
    "  return P, R, F"
   ]
  },
  {
   "cell_type": "code",
   "execution_count": 268,
   "metadata": {},
   "outputs": [],
   "source": [
    "P = R = F = 0\n",
    "\n",
    "for i in range(len(diary_test)):\n",
    "    p, r, f = bertScore(diary_test.iloc[i,2], diary_test.iloc[i,3])\n",
    "    P+=p\n",
    "    R+=r\n",
    "    F+=f\n",
    "\n",
    "R = round(R.item() / len(diary_test), 3)\n",
    "P = round(P.item() / len(diary_test), 3)\n",
    "F = round(F.item() / len(diary_test), 3)"
   ]
  },
  {
   "cell_type": "code",
   "execution_count": 269,
   "metadata": {},
   "outputs": [],
   "source": [
    "# BertScore (average)\n",
    "summary_bert = dict({'recall': R, 'precision': P, 'f1-score': F})"
   ]
  },
  {
   "cell_type": "code",
   "execution_count": 270,
   "metadata": {},
   "outputs": [
    {
     "data": {
      "text/plain": [
       "{'recall': 0.899, 'precision': 0.892, 'f1-score': 0.895}"
      ]
     },
     "execution_count": 270,
     "metadata": {},
     "output_type": "execute_result"
    }
   ],
   "source": [
    "summary_bert"
   ]
  },
  {
   "cell_type": "code",
   "execution_count": 271,
   "metadata": {},
   "outputs": [
    {
     "data": {
      "text/plain": [
       "'아트 마켓이나 페스티벌에 참가하여 작품을 감상하고 다른 작가들의 작품을 감상하는 경험을 했어요. 예술에 대한 관점과 경험을 넓힐 수 있는 경험이었어요.'"
      ]
     },
     "execution_count": 271,
     "metadata": {},
     "output_type": "execute_result"
    }
   ],
   "source": [
    "diary_test.iloc[-1,-1]"
   ]
  },
  {
   "cell_type": "code",
   "execution_count": 272,
   "metadata": {},
   "outputs": [
    {
     "data": {
      "text/plain": [
       "'아트 마켓이나 페스티벌에 참가하여 창작물을 전시하고 다른 사람들과 소통하는 경험을 했어요. 작품에 대한 이야기를 나누고, 다른 작가들의 작품을 감상하며 예술의 힘과 소통의 가치를 깨달았어요.'"
      ]
     },
     "execution_count": 272,
     "metadata": {},
     "output_type": "execute_result"
    }
   ],
   "source": [
    "diary_test.iloc[-1,1]"
   ]
  },
  {
   "cell_type": "code",
   "execution_count": 274,
   "metadata": {},
   "outputs": [
    {
     "data": {
      "text/plain": [
       "'출근길에 버스를 놓치고 말았는데, 실패와 상사의 질책을 통해 자신의 부주의한 태도와 급함으로 인한 실수를 깨달았어요. 이를 통해 자신의 부족한 점을 인정하고 개선해야 한다는 교훈을 얻었어요.'"
      ]
     },
     "execution_count": 274,
     "metadata": {},
     "output_type": "execute_result"
    }
   ],
   "source": [
    "diary_test.iloc[7,-1]"
   ]
  }
 ],
 "metadata": {
  "colab": {
   "provenance": []
  },
  "kernelspec": {
   "display_name": "Python 3 (ipykernel)",
   "language": "python",
   "name": "python3"
  },
  "language_info": {
   "codemirror_mode": {
    "name": "ipython",
    "version": 3
   },
   "file_extension": ".py",
   "mimetype": "text/x-python",
   "name": "python",
   "nbconvert_exporter": "python",
   "pygments_lexer": "ipython3",
   "version": "3.11.5"
  }
 },
 "nbformat": 4,
 "nbformat_minor": 4
}
